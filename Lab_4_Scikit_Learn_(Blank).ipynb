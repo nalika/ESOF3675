{
  "nbformat": 4,
  "nbformat_minor": 0,
  "metadata": {
    "colab": {
      "name": "Lab 4 - Scikit-Learn (Blank).ipynb",
      "provenance": [],
      "collapsed_sections": [],
      "include_colab_link": true
    },
    "kernelspec": {
      "name": "python3",
      "display_name": "Python 3"
    }
  },
  "cells": [
    {
      "cell_type": "markdown",
      "metadata": {
        "id": "view-in-github",
        "colab_type": "text"
      },
      "source": [
        "<a href=\"https://colab.research.google.com/github/nalika/ESOF3675/blob/main/Lab_4_Scikit_Learn_(Blank).ipynb\" target=\"_parent\"><img src=\"https://colab.research.google.com/assets/colab-badge.svg\" alt=\"Open In Colab\"/></a>"
      ]
    },
    {
      "cell_type": "markdown",
      "metadata": {
        "id": "Dr-U4eRnodCx"
      },
      "source": [
        "**Student Name:** (First_Name) (Last_Name)\n",
        "\n",
        "**Student ID:** (XXXXXXXXXX)\n",
        "\n",
        "**Lab No.:** 4\n",
        "\n",
        "**Colab link:**"
      ]
    },
    {
      "cell_type": "markdown",
      "metadata": {
        "id": "MUAWrg3PSeFe"
      },
      "source": [
        "# Lab 4 Annoucement\n",
        "\n",
        "In this lab you will work with\n",
        "\n",
        "- Scikit-Learn\n",
        "- Linear Regression\n",
        "- Logistic Regression\n",
        "- binary classification. \n",
        "- cross-validation method for model validation\n",
        "- R-squared, ROC, and AUC for performance evaluation\n",
        "- Decision tree"
      ]
    },
    {
      "cell_type": "markdown",
      "metadata": {
        "id": "PpBOgLYvpmlF"
      },
      "source": [
        "# Initial Setup"
      ]
    },
    {
      "cell_type": "markdown",
      "metadata": {
        "id": "3pty9NdOpq6O"
      },
      "source": [
        "**The following steps only needs to be done once per session.**\n",
        "\n",
        "1. Mount Google Drive"
      ]
    },
    {
      "cell_type": "code",
      "metadata": {
        "colab": {
          "base_uri": "https://localhost:8080/"
        },
        "id": "x_sE_-okmXYj",
        "outputId": "1731a56a-d74a-4d11-80db-59a052d1f16b"
      },
      "source": [
        "from google.colab import drive\n",
        "drive.mount('drive')"
      ],
      "execution_count": null,
      "outputs": [
        {
          "output_type": "stream",
          "text": [
            "Mounted at drive\n"
          ],
          "name": "stdout"
        }
      ]
    },
    {
      "cell_type": "markdown",
      "metadata": {
        "id": "0aBa_t8DpuKL"
      },
      "source": [
        "2. Create Symbolic Links for the Data folder\n",
        "  - Navigate to the Data folder on the file explorer tool on the left side.\n",
        "  - Right-click on it and select the option `Copy Path`\n",
        "  - Make sure this path is the same as the first aagument on the command below. Replace the current first argument if needed."
      ]
    },
    {
      "cell_type": "code",
      "metadata": {
        "id": "Ragk_JA4miPT"
      },
      "source": [
        "# Ensure the paths below are correct by checking the file structure on the left panel.\n",
        "# If needed, right-click on each Folder, then copy and past below the path.\n",
        "!ln -sfT '/content/drive/MyDrive/Colab Notebooks/2021.1 WA ESOF-3675/Data' 'data'"
      ],
      "execution_count": null,
      "outputs": []
    },
    {
      "cell_type": "markdown",
      "metadata": {
        "id": "TbOHouqZNVeC"
      },
      "source": [
        "**Missing something**"
      ]
    },
    {
      "cell_type": "markdown",
      "metadata": {
        "id": "3Dqgxz5nsmgv"
      },
      "source": [
        "In case you are missing the `Data` folder or the files for the `house-prices` dataset.\n",
        "\n",
        "1. Create a folders called `Data/zip-files` somewhere in your google drive. This folder could be used to also keep other datasets.\n",
        "\n",
        "2. Go to the [Kaggle competition webpage](https://www.kaggle.com/c/house-prices-advanced-regression-techniques/data), and click on *Download All*. A zip file will be download to your computer. \n",
        "\n",
        "3. Upload `zip` file from Kaggle inside the `Data/zip-file` folder. Use the command below to `unzip` its content. Adjust the path if needed."
      ]
    },
    {
      "cell_type": "code",
      "metadata": {
        "id": "4JpO0Nw4ruHo"
      },
      "source": [
        "!unzip -q '/content/data/zip-files/house-prices-advanced-regression-techniques.zip' -d '/content/data/house-prices'"
      ],
      "execution_count": null,
      "outputs": []
    },
    {
      "cell_type": "markdown",
      "metadata": {
        "id": "fzwKio9NRYp1"
      },
      "source": [
        "**Update Packages**"
      ]
    },
    {
      "cell_type": "code",
      "metadata": {
        "colab": {
          "base_uri": "https://localhost:8080/",
          "height": 344
        },
        "id": "juwbdveLGzhZ",
        "outputId": "2e7c3aa5-97f5-48fa-9c2d-a5e04139d8a3"
      },
      "source": [
        "pip install -U scikit-learn"
      ],
      "execution_count": null,
      "outputs": [
        {
          "output_type": "stream",
          "text": [
            "Collecting scikit-learn\n",
            "\u001b[?25l  Downloading https://files.pythonhosted.org/packages/f3/74/eb899f41d55f957e2591cde5528e75871f817d9fb46d4732423ecaca736d/scikit_learn-0.24.1-cp37-cp37m-manylinux2010_x86_64.whl (22.3MB)\n",
            "\u001b[K     |████████████████████████████████| 22.3MB 4.4MB/s \n",
            "\u001b[?25hRequirement already satisfied, skipping upgrade: scipy>=0.19.1 in /usr/local/lib/python3.7/dist-packages (from scikit-learn) (1.4.1)\n",
            "Requirement already satisfied, skipping upgrade: numpy>=1.13.3 in /usr/local/lib/python3.7/dist-packages (from scikit-learn) (1.19.5)\n",
            "Collecting threadpoolctl>=2.0.0\n",
            "  Downloading https://files.pythonhosted.org/packages/f7/12/ec3f2e203afa394a149911729357aa48affc59c20e2c1c8297a60f33f133/threadpoolctl-2.1.0-py3-none-any.whl\n",
            "Requirement already satisfied, skipping upgrade: joblib>=0.11 in /usr/local/lib/python3.7/dist-packages (from scikit-learn) (1.0.1)\n",
            "Installing collected packages: threadpoolctl, scikit-learn\n",
            "  Found existing installation: scikit-learn 0.22.2.post1\n",
            "    Uninstalling scikit-learn-0.22.2.post1:\n",
            "      Successfully uninstalled scikit-learn-0.22.2.post1\n",
            "Successfully installed scikit-learn-0.24.1 threadpoolctl-2.1.0\n"
          ],
          "name": "stdout"
        },
        {
          "output_type": "display_data",
          "data": {
            "application/vnd.colab-display-data+json": {
              "pip_warning": {
                "packages": [
                  "sklearn"
                ]
              }
            }
          },
          "metadata": {
            "tags": []
          }
        }
      ]
    },
    {
      "cell_type": "markdown",
      "metadata": {
        "id": "uCawfLw9STiA"
      },
      "source": [
        "# Imports"
      ]
    },
    {
      "cell_type": "code",
      "metadata": {
        "id": "7E1XO3J0SFxu"
      },
      "source": [
        "import numpy as np\n",
        "import pandas as pd\n",
        "import sklearn"
      ],
      "execution_count": null,
      "outputs": []
    },
    {
      "cell_type": "markdown",
      "metadata": {
        "id": "3PoQS7ONHxZo"
      },
      "source": [
        "**Ensure you have the latest stable version, `scikit-learn 0.24.1`**"
      ]
    },
    {
      "cell_type": "code",
      "metadata": {
        "colab": {
          "base_uri": "https://localhost:8080/",
          "height": 35
        },
        "id": "v2Unw9weGeJI",
        "outputId": "bc8a6922-3dc8-4d69-f6eb-242fe89c86f0"
      },
      "source": [
        "sklearn.__version__"
      ],
      "execution_count": null,
      "outputs": [
        {
          "output_type": "execute_result",
          "data": {
            "application/vnd.google.colaboratory.intrinsic+json": {
              "type": "string"
            },
            "text/plain": [
              "'0.24.1'"
            ]
          },
          "metadata": {
            "tags": []
          },
          "execution_count": 2
        }
      ]
    },
    {
      "cell_type": "markdown",
      "metadata": {
        "id": "7v3xEMwjSD8V"
      },
      "source": [
        "# Loading Data"
      ]
    },
    {
      "cell_type": "code",
      "metadata": {
        "id": "3qvqrJa7SJ8m"
      },
      "source": [
        "df_house_train = pd.read_csv('/content/data/house-prices/train.csv')"
      ],
      "execution_count": null,
      "outputs": []
    },
    {
      "cell_type": "code",
      "metadata": {
        "colab": {
          "base_uri": "https://localhost:8080/",
          "height": 253
        },
        "id": "x5Lgcq-pSTv6",
        "outputId": "a5d57ebd-d914-4a6f-d991-3f395a236d66"
      },
      "source": [
        "df_house_train.head()"
      ],
      "execution_count": null,
      "outputs": [
        {
          "output_type": "execute_result",
          "data": {
            "text/html": [
              "<div>\n",
              "<style scoped>\n",
              "    .dataframe tbody tr th:only-of-type {\n",
              "        vertical-align: middle;\n",
              "    }\n",
              "\n",
              "    .dataframe tbody tr th {\n",
              "        vertical-align: top;\n",
              "    }\n",
              "\n",
              "    .dataframe thead th {\n",
              "        text-align: right;\n",
              "    }\n",
              "</style>\n",
              "<table border=\"1\" class=\"dataframe\">\n",
              "  <thead>\n",
              "    <tr style=\"text-align: right;\">\n",
              "      <th></th>\n",
              "      <th>Id</th>\n",
              "      <th>MSSubClass</th>\n",
              "      <th>MSZoning</th>\n",
              "      <th>LotFrontage</th>\n",
              "      <th>LotArea</th>\n",
              "      <th>Street</th>\n",
              "      <th>Alley</th>\n",
              "      <th>LotShape</th>\n",
              "      <th>LandContour</th>\n",
              "      <th>Utilities</th>\n",
              "      <th>LotConfig</th>\n",
              "      <th>LandSlope</th>\n",
              "      <th>Neighborhood</th>\n",
              "      <th>Condition1</th>\n",
              "      <th>Condition2</th>\n",
              "      <th>BldgType</th>\n",
              "      <th>HouseStyle</th>\n",
              "      <th>OverallQual</th>\n",
              "      <th>OverallCond</th>\n",
              "      <th>YearBuilt</th>\n",
              "      <th>YearRemodAdd</th>\n",
              "      <th>RoofStyle</th>\n",
              "      <th>RoofMatl</th>\n",
              "      <th>Exterior1st</th>\n",
              "      <th>Exterior2nd</th>\n",
              "      <th>MasVnrType</th>\n",
              "      <th>MasVnrArea</th>\n",
              "      <th>ExterQual</th>\n",
              "      <th>ExterCond</th>\n",
              "      <th>Foundation</th>\n",
              "      <th>BsmtQual</th>\n",
              "      <th>BsmtCond</th>\n",
              "      <th>BsmtExposure</th>\n",
              "      <th>BsmtFinType1</th>\n",
              "      <th>BsmtFinSF1</th>\n",
              "      <th>BsmtFinType2</th>\n",
              "      <th>BsmtFinSF2</th>\n",
              "      <th>BsmtUnfSF</th>\n",
              "      <th>TotalBsmtSF</th>\n",
              "      <th>Heating</th>\n",
              "      <th>...</th>\n",
              "      <th>CentralAir</th>\n",
              "      <th>Electrical</th>\n",
              "      <th>1stFlrSF</th>\n",
              "      <th>2ndFlrSF</th>\n",
              "      <th>LowQualFinSF</th>\n",
              "      <th>GrLivArea</th>\n",
              "      <th>BsmtFullBath</th>\n",
              "      <th>BsmtHalfBath</th>\n",
              "      <th>FullBath</th>\n",
              "      <th>HalfBath</th>\n",
              "      <th>BedroomAbvGr</th>\n",
              "      <th>KitchenAbvGr</th>\n",
              "      <th>KitchenQual</th>\n",
              "      <th>TotRmsAbvGrd</th>\n",
              "      <th>Functional</th>\n",
              "      <th>Fireplaces</th>\n",
              "      <th>FireplaceQu</th>\n",
              "      <th>GarageType</th>\n",
              "      <th>GarageYrBlt</th>\n",
              "      <th>GarageFinish</th>\n",
              "      <th>GarageCars</th>\n",
              "      <th>GarageArea</th>\n",
              "      <th>GarageQual</th>\n",
              "      <th>GarageCond</th>\n",
              "      <th>PavedDrive</th>\n",
              "      <th>WoodDeckSF</th>\n",
              "      <th>OpenPorchSF</th>\n",
              "      <th>EnclosedPorch</th>\n",
              "      <th>3SsnPorch</th>\n",
              "      <th>ScreenPorch</th>\n",
              "      <th>PoolArea</th>\n",
              "      <th>PoolQC</th>\n",
              "      <th>Fence</th>\n",
              "      <th>MiscFeature</th>\n",
              "      <th>MiscVal</th>\n",
              "      <th>MoSold</th>\n",
              "      <th>YrSold</th>\n",
              "      <th>SaleType</th>\n",
              "      <th>SaleCondition</th>\n",
              "      <th>SalePrice</th>\n",
              "    </tr>\n",
              "  </thead>\n",
              "  <tbody>\n",
              "    <tr>\n",
              "      <th>0</th>\n",
              "      <td>1</td>\n",
              "      <td>60</td>\n",
              "      <td>RL</td>\n",
              "      <td>65.0</td>\n",
              "      <td>8450</td>\n",
              "      <td>Pave</td>\n",
              "      <td>NaN</td>\n",
              "      <td>Reg</td>\n",
              "      <td>Lvl</td>\n",
              "      <td>AllPub</td>\n",
              "      <td>Inside</td>\n",
              "      <td>Gtl</td>\n",
              "      <td>CollgCr</td>\n",
              "      <td>Norm</td>\n",
              "      <td>Norm</td>\n",
              "      <td>1Fam</td>\n",
              "      <td>2Story</td>\n",
              "      <td>7</td>\n",
              "      <td>5</td>\n",
              "      <td>2003</td>\n",
              "      <td>2003</td>\n",
              "      <td>Gable</td>\n",
              "      <td>CompShg</td>\n",
              "      <td>VinylSd</td>\n",
              "      <td>VinylSd</td>\n",
              "      <td>BrkFace</td>\n",
              "      <td>196.0</td>\n",
              "      <td>Gd</td>\n",
              "      <td>TA</td>\n",
              "      <td>PConc</td>\n",
              "      <td>Gd</td>\n",
              "      <td>TA</td>\n",
              "      <td>No</td>\n",
              "      <td>GLQ</td>\n",
              "      <td>706</td>\n",
              "      <td>Unf</td>\n",
              "      <td>0</td>\n",
              "      <td>150</td>\n",
              "      <td>856</td>\n",
              "      <td>GasA</td>\n",
              "      <td>...</td>\n",
              "      <td>Y</td>\n",
              "      <td>SBrkr</td>\n",
              "      <td>856</td>\n",
              "      <td>854</td>\n",
              "      <td>0</td>\n",
              "      <td>1710</td>\n",
              "      <td>1</td>\n",
              "      <td>0</td>\n",
              "      <td>2</td>\n",
              "      <td>1</td>\n",
              "      <td>3</td>\n",
              "      <td>1</td>\n",
              "      <td>Gd</td>\n",
              "      <td>8</td>\n",
              "      <td>Typ</td>\n",
              "      <td>0</td>\n",
              "      <td>NaN</td>\n",
              "      <td>Attchd</td>\n",
              "      <td>2003.0</td>\n",
              "      <td>RFn</td>\n",
              "      <td>2</td>\n",
              "      <td>548</td>\n",
              "      <td>TA</td>\n",
              "      <td>TA</td>\n",
              "      <td>Y</td>\n",
              "      <td>0</td>\n",
              "      <td>61</td>\n",
              "      <td>0</td>\n",
              "      <td>0</td>\n",
              "      <td>0</td>\n",
              "      <td>0</td>\n",
              "      <td>NaN</td>\n",
              "      <td>NaN</td>\n",
              "      <td>NaN</td>\n",
              "      <td>0</td>\n",
              "      <td>2</td>\n",
              "      <td>2008</td>\n",
              "      <td>WD</td>\n",
              "      <td>Normal</td>\n",
              "      <td>208500</td>\n",
              "    </tr>\n",
              "    <tr>\n",
              "      <th>1</th>\n",
              "      <td>2</td>\n",
              "      <td>20</td>\n",
              "      <td>RL</td>\n",
              "      <td>80.0</td>\n",
              "      <td>9600</td>\n",
              "      <td>Pave</td>\n",
              "      <td>NaN</td>\n",
              "      <td>Reg</td>\n",
              "      <td>Lvl</td>\n",
              "      <td>AllPub</td>\n",
              "      <td>FR2</td>\n",
              "      <td>Gtl</td>\n",
              "      <td>Veenker</td>\n",
              "      <td>Feedr</td>\n",
              "      <td>Norm</td>\n",
              "      <td>1Fam</td>\n",
              "      <td>1Story</td>\n",
              "      <td>6</td>\n",
              "      <td>8</td>\n",
              "      <td>1976</td>\n",
              "      <td>1976</td>\n",
              "      <td>Gable</td>\n",
              "      <td>CompShg</td>\n",
              "      <td>MetalSd</td>\n",
              "      <td>MetalSd</td>\n",
              "      <td>None</td>\n",
              "      <td>0.0</td>\n",
              "      <td>TA</td>\n",
              "      <td>TA</td>\n",
              "      <td>CBlock</td>\n",
              "      <td>Gd</td>\n",
              "      <td>TA</td>\n",
              "      <td>Gd</td>\n",
              "      <td>ALQ</td>\n",
              "      <td>978</td>\n",
              "      <td>Unf</td>\n",
              "      <td>0</td>\n",
              "      <td>284</td>\n",
              "      <td>1262</td>\n",
              "      <td>GasA</td>\n",
              "      <td>...</td>\n",
              "      <td>Y</td>\n",
              "      <td>SBrkr</td>\n",
              "      <td>1262</td>\n",
              "      <td>0</td>\n",
              "      <td>0</td>\n",
              "      <td>1262</td>\n",
              "      <td>0</td>\n",
              "      <td>1</td>\n",
              "      <td>2</td>\n",
              "      <td>0</td>\n",
              "      <td>3</td>\n",
              "      <td>1</td>\n",
              "      <td>TA</td>\n",
              "      <td>6</td>\n",
              "      <td>Typ</td>\n",
              "      <td>1</td>\n",
              "      <td>TA</td>\n",
              "      <td>Attchd</td>\n",
              "      <td>1976.0</td>\n",
              "      <td>RFn</td>\n",
              "      <td>2</td>\n",
              "      <td>460</td>\n",
              "      <td>TA</td>\n",
              "      <td>TA</td>\n",
              "      <td>Y</td>\n",
              "      <td>298</td>\n",
              "      <td>0</td>\n",
              "      <td>0</td>\n",
              "      <td>0</td>\n",
              "      <td>0</td>\n",
              "      <td>0</td>\n",
              "      <td>NaN</td>\n",
              "      <td>NaN</td>\n",
              "      <td>NaN</td>\n",
              "      <td>0</td>\n",
              "      <td>5</td>\n",
              "      <td>2007</td>\n",
              "      <td>WD</td>\n",
              "      <td>Normal</td>\n",
              "      <td>181500</td>\n",
              "    </tr>\n",
              "    <tr>\n",
              "      <th>2</th>\n",
              "      <td>3</td>\n",
              "      <td>60</td>\n",
              "      <td>RL</td>\n",
              "      <td>68.0</td>\n",
              "      <td>11250</td>\n",
              "      <td>Pave</td>\n",
              "      <td>NaN</td>\n",
              "      <td>IR1</td>\n",
              "      <td>Lvl</td>\n",
              "      <td>AllPub</td>\n",
              "      <td>Inside</td>\n",
              "      <td>Gtl</td>\n",
              "      <td>CollgCr</td>\n",
              "      <td>Norm</td>\n",
              "      <td>Norm</td>\n",
              "      <td>1Fam</td>\n",
              "      <td>2Story</td>\n",
              "      <td>7</td>\n",
              "      <td>5</td>\n",
              "      <td>2001</td>\n",
              "      <td>2002</td>\n",
              "      <td>Gable</td>\n",
              "      <td>CompShg</td>\n",
              "      <td>VinylSd</td>\n",
              "      <td>VinylSd</td>\n",
              "      <td>BrkFace</td>\n",
              "      <td>162.0</td>\n",
              "      <td>Gd</td>\n",
              "      <td>TA</td>\n",
              "      <td>PConc</td>\n",
              "      <td>Gd</td>\n",
              "      <td>TA</td>\n",
              "      <td>Mn</td>\n",
              "      <td>GLQ</td>\n",
              "      <td>486</td>\n",
              "      <td>Unf</td>\n",
              "      <td>0</td>\n",
              "      <td>434</td>\n",
              "      <td>920</td>\n",
              "      <td>GasA</td>\n",
              "      <td>...</td>\n",
              "      <td>Y</td>\n",
              "      <td>SBrkr</td>\n",
              "      <td>920</td>\n",
              "      <td>866</td>\n",
              "      <td>0</td>\n",
              "      <td>1786</td>\n",
              "      <td>1</td>\n",
              "      <td>0</td>\n",
              "      <td>2</td>\n",
              "      <td>1</td>\n",
              "      <td>3</td>\n",
              "      <td>1</td>\n",
              "      <td>Gd</td>\n",
              "      <td>6</td>\n",
              "      <td>Typ</td>\n",
              "      <td>1</td>\n",
              "      <td>TA</td>\n",
              "      <td>Attchd</td>\n",
              "      <td>2001.0</td>\n",
              "      <td>RFn</td>\n",
              "      <td>2</td>\n",
              "      <td>608</td>\n",
              "      <td>TA</td>\n",
              "      <td>TA</td>\n",
              "      <td>Y</td>\n",
              "      <td>0</td>\n",
              "      <td>42</td>\n",
              "      <td>0</td>\n",
              "      <td>0</td>\n",
              "      <td>0</td>\n",
              "      <td>0</td>\n",
              "      <td>NaN</td>\n",
              "      <td>NaN</td>\n",
              "      <td>NaN</td>\n",
              "      <td>0</td>\n",
              "      <td>9</td>\n",
              "      <td>2008</td>\n",
              "      <td>WD</td>\n",
              "      <td>Normal</td>\n",
              "      <td>223500</td>\n",
              "    </tr>\n",
              "    <tr>\n",
              "      <th>3</th>\n",
              "      <td>4</td>\n",
              "      <td>70</td>\n",
              "      <td>RL</td>\n",
              "      <td>60.0</td>\n",
              "      <td>9550</td>\n",
              "      <td>Pave</td>\n",
              "      <td>NaN</td>\n",
              "      <td>IR1</td>\n",
              "      <td>Lvl</td>\n",
              "      <td>AllPub</td>\n",
              "      <td>Corner</td>\n",
              "      <td>Gtl</td>\n",
              "      <td>Crawfor</td>\n",
              "      <td>Norm</td>\n",
              "      <td>Norm</td>\n",
              "      <td>1Fam</td>\n",
              "      <td>2Story</td>\n",
              "      <td>7</td>\n",
              "      <td>5</td>\n",
              "      <td>1915</td>\n",
              "      <td>1970</td>\n",
              "      <td>Gable</td>\n",
              "      <td>CompShg</td>\n",
              "      <td>Wd Sdng</td>\n",
              "      <td>Wd Shng</td>\n",
              "      <td>None</td>\n",
              "      <td>0.0</td>\n",
              "      <td>TA</td>\n",
              "      <td>TA</td>\n",
              "      <td>BrkTil</td>\n",
              "      <td>TA</td>\n",
              "      <td>Gd</td>\n",
              "      <td>No</td>\n",
              "      <td>ALQ</td>\n",
              "      <td>216</td>\n",
              "      <td>Unf</td>\n",
              "      <td>0</td>\n",
              "      <td>540</td>\n",
              "      <td>756</td>\n",
              "      <td>GasA</td>\n",
              "      <td>...</td>\n",
              "      <td>Y</td>\n",
              "      <td>SBrkr</td>\n",
              "      <td>961</td>\n",
              "      <td>756</td>\n",
              "      <td>0</td>\n",
              "      <td>1717</td>\n",
              "      <td>1</td>\n",
              "      <td>0</td>\n",
              "      <td>1</td>\n",
              "      <td>0</td>\n",
              "      <td>3</td>\n",
              "      <td>1</td>\n",
              "      <td>Gd</td>\n",
              "      <td>7</td>\n",
              "      <td>Typ</td>\n",
              "      <td>1</td>\n",
              "      <td>Gd</td>\n",
              "      <td>Detchd</td>\n",
              "      <td>1998.0</td>\n",
              "      <td>Unf</td>\n",
              "      <td>3</td>\n",
              "      <td>642</td>\n",
              "      <td>TA</td>\n",
              "      <td>TA</td>\n",
              "      <td>Y</td>\n",
              "      <td>0</td>\n",
              "      <td>35</td>\n",
              "      <td>272</td>\n",
              "      <td>0</td>\n",
              "      <td>0</td>\n",
              "      <td>0</td>\n",
              "      <td>NaN</td>\n",
              "      <td>NaN</td>\n",
              "      <td>NaN</td>\n",
              "      <td>0</td>\n",
              "      <td>2</td>\n",
              "      <td>2006</td>\n",
              "      <td>WD</td>\n",
              "      <td>Abnorml</td>\n",
              "      <td>140000</td>\n",
              "    </tr>\n",
              "    <tr>\n",
              "      <th>4</th>\n",
              "      <td>5</td>\n",
              "      <td>60</td>\n",
              "      <td>RL</td>\n",
              "      <td>84.0</td>\n",
              "      <td>14260</td>\n",
              "      <td>Pave</td>\n",
              "      <td>NaN</td>\n",
              "      <td>IR1</td>\n",
              "      <td>Lvl</td>\n",
              "      <td>AllPub</td>\n",
              "      <td>FR2</td>\n",
              "      <td>Gtl</td>\n",
              "      <td>NoRidge</td>\n",
              "      <td>Norm</td>\n",
              "      <td>Norm</td>\n",
              "      <td>1Fam</td>\n",
              "      <td>2Story</td>\n",
              "      <td>8</td>\n",
              "      <td>5</td>\n",
              "      <td>2000</td>\n",
              "      <td>2000</td>\n",
              "      <td>Gable</td>\n",
              "      <td>CompShg</td>\n",
              "      <td>VinylSd</td>\n",
              "      <td>VinylSd</td>\n",
              "      <td>BrkFace</td>\n",
              "      <td>350.0</td>\n",
              "      <td>Gd</td>\n",
              "      <td>TA</td>\n",
              "      <td>PConc</td>\n",
              "      <td>Gd</td>\n",
              "      <td>TA</td>\n",
              "      <td>Av</td>\n",
              "      <td>GLQ</td>\n",
              "      <td>655</td>\n",
              "      <td>Unf</td>\n",
              "      <td>0</td>\n",
              "      <td>490</td>\n",
              "      <td>1145</td>\n",
              "      <td>GasA</td>\n",
              "      <td>...</td>\n",
              "      <td>Y</td>\n",
              "      <td>SBrkr</td>\n",
              "      <td>1145</td>\n",
              "      <td>1053</td>\n",
              "      <td>0</td>\n",
              "      <td>2198</td>\n",
              "      <td>1</td>\n",
              "      <td>0</td>\n",
              "      <td>2</td>\n",
              "      <td>1</td>\n",
              "      <td>4</td>\n",
              "      <td>1</td>\n",
              "      <td>Gd</td>\n",
              "      <td>9</td>\n",
              "      <td>Typ</td>\n",
              "      <td>1</td>\n",
              "      <td>TA</td>\n",
              "      <td>Attchd</td>\n",
              "      <td>2000.0</td>\n",
              "      <td>RFn</td>\n",
              "      <td>3</td>\n",
              "      <td>836</td>\n",
              "      <td>TA</td>\n",
              "      <td>TA</td>\n",
              "      <td>Y</td>\n",
              "      <td>192</td>\n",
              "      <td>84</td>\n",
              "      <td>0</td>\n",
              "      <td>0</td>\n",
              "      <td>0</td>\n",
              "      <td>0</td>\n",
              "      <td>NaN</td>\n",
              "      <td>NaN</td>\n",
              "      <td>NaN</td>\n",
              "      <td>0</td>\n",
              "      <td>12</td>\n",
              "      <td>2008</td>\n",
              "      <td>WD</td>\n",
              "      <td>Normal</td>\n",
              "      <td>250000</td>\n",
              "    </tr>\n",
              "  </tbody>\n",
              "</table>\n",
              "<p>5 rows × 81 columns</p>\n",
              "</div>"
            ],
            "text/plain": [
              "   Id  MSSubClass MSZoning  ...  SaleType  SaleCondition SalePrice\n",
              "0   1          60       RL  ...        WD         Normal    208500\n",
              "1   2          20       RL  ...        WD         Normal    181500\n",
              "2   3          60       RL  ...        WD         Normal    223500\n",
              "3   4          70       RL  ...        WD        Abnorml    140000\n",
              "4   5          60       RL  ...        WD         Normal    250000\n",
              "\n",
              "[5 rows x 81 columns]"
            ]
          },
          "metadata": {
            "tags": []
          },
          "execution_count": 4
        }
      ]
    },
    {
      "cell_type": "markdown",
      "metadata": {
        "id": "LSqqjR8PqpMA"
      },
      "source": [
        "## Data Preparation"
      ]
    },
    {
      "cell_type": "markdown",
      "metadata": {
        "id": "5YsunjDlEh1r"
      },
      "source": [
        "**Numpy Representations**\n",
        "\n",
        "`Numpy` arrays are needed when working with `Scikit-learn`.  Let's write a function that splits a given dataframe into data and target."
      ]
    },
    {
      "cell_type": "code",
      "metadata": {
        "id": "Ctrdvyo0EdiJ"
      },
      "source": [
        "def df_to_numpy(dataframe, target_column='SalePrice'):\n",
        "  df = dataframe.copy() # Ensures we don't alter the original dataframe.\n",
        "  data = df.drop(columns=['Id', target_column]).to_numpy()\n",
        "  target = df[target_column].to_numpy()\n",
        "  return data, target"
      ],
      "execution_count": null,
      "outputs": []
    },
    {
      "cell_type": "code",
      "metadata": {
        "id": "aGLI0EoPFqxf"
      },
      "source": [
        "df_sale_price_train = df_house_train.select_dtypes(include='number').dropna()\n",
        "x_price_train, y_price_train = df_to_numpy(df_sale_price_train, target_column='SalePrice')"
      ],
      "execution_count": null,
      "outputs": []
    },
    {
      "cell_type": "markdown",
      "metadata": {
        "id": "HRvPe9DxER1X"
      },
      "source": [
        "# Regression Model"
      ]
    },
    {
      "cell_type": "code",
      "metadata": {
        "id": "NjFrUvh9JMGH"
      },
      "source": [
        "from sklearn.model_selection import train_test_split\n",
        "from sklearn.pipeline import make_pipeline\n",
        "from sklearn.preprocessing import StandardScaler\n",
        "from sklearn.linear_model import LinearRegression\n",
        "from sklearn.metrics import mean_squared_error, r2_score"
      ],
      "execution_count": null,
      "outputs": []
    },
    {
      "cell_type": "code",
      "metadata": {
        "id": "EYSQoR2bIlIo"
      },
      "source": [
        "# 1. Let's split the train into `train` and `validation`\n",
        "x_train, x_val, y_train, y_val = train_test_split(x_price_train, y_price_train, random_state=0)"
      ],
      "execution_count": null,
      "outputs": []
    },
    {
      "cell_type": "code",
      "metadata": {
        "id": "zmLvXzGVKD1j"
      },
      "source": [
        "# 2. We can combine a liner regression model with transforms for pre-processing in a pipe structure for chaining operations.\n",
        "pipe_linear_regression = make_pipeline(\n",
        "  StandardScaler(),\n",
        "  LinearRegression()\n",
        ")"
      ],
      "execution_count": null,
      "outputs": []
    },
    {
      "cell_type": "markdown",
      "metadata": {
        "id": "0BlfNXHBwC9U"
      },
      "source": [
        "# **Task 1:**\n",
        "\n",
        "- Use the created pipe to `fit` the model using `x_train` and `y_train`"
      ]
    },
    {
      "cell_type": "code",
      "metadata": {
        "colab": {
          "base_uri": "https://localhost:8080/"
        },
        "id": "Zn_UEUCVK6aS",
        "outputId": "99f941c2-7cdb-4d30-86ff-4902203bf4be"
      },
      "source": [
        "# 3. Fitting Model\n"
      ],
      "execution_count": null,
      "outputs": [
        {
          "output_type": "execute_result",
          "data": {
            "text/plain": [
              "Pipeline(steps=[('standardscaler', StandardScaler()),\n",
              "                ('linearregression', LinearRegression())])"
            ]
          },
          "metadata": {
            "tags": []
          },
          "execution_count": 27
        }
      ]
    },
    {
      "cell_type": "markdown",
      "metadata": {
        "id": "y6CxM70pwaBh"
      },
      "source": [
        "# **Task 2:**\n",
        "\n",
        "- Use the trained pipe to `predict` the training data `x_train`."
      ]
    },
    {
      "cell_type": "code",
      "metadata": {
        "id": "kBPXcDwqMxs3"
      },
      "source": [
        "# y_train_pred = "
      ],
      "execution_count": null,
      "outputs": []
    },
    {
      "cell_type": "markdown",
      "metadata": {
        "id": "HWz6ZV53wq9w"
      },
      "source": [
        "# **Task 3:**\n",
        "\n",
        "- Use `mean_squared_error` and `r2_score` to evaluate the quality of the model on the training data."
      ]
    },
    {
      "cell_type": "code",
      "metadata": {
        "colab": {
          "base_uri": "https://localhost:8080/"
        },
        "id": "3xXrr0KUcJ_X",
        "outputId": "88c7bf51-2394-4c9b-d7b0-79d8be8fdc26"
      },
      "source": [
        ""
      ],
      "execution_count": null,
      "outputs": [
        {
          "output_type": "execute_result",
          "data": {
            "text/plain": [
              "1097023094.3170176"
            ]
          },
          "metadata": {
            "tags": []
          },
          "execution_count": 29
        }
      ]
    },
    {
      "cell_type": "code",
      "metadata": {
        "colab": {
          "base_uri": "https://localhost:8080/"
        },
        "id": "xuzL2h6TNNSy",
        "outputId": "3e14d159-058f-4ff8-d182-e9ee1f6305cf"
      },
      "source": [
        ""
      ],
      "execution_count": null,
      "outputs": [
        {
          "output_type": "execute_result",
          "data": {
            "text/plain": [
              "0.847040162409831"
            ]
          },
          "metadata": {
            "tags": []
          },
          "execution_count": 30
        }
      ]
    },
    {
      "cell_type": "markdown",
      "metadata": {
        "id": "a3d3nQ6vawmD"
      },
      "source": [
        "# Logistic Regression"
      ]
    },
    {
      "cell_type": "code",
      "metadata": {
        "id": "I_-OC-AZa8dw"
      },
      "source": [
        "from sklearn.model_selection import train_test_split\n",
        "from sklearn.pipeline import make_pipeline\n",
        "from sklearn.preprocessing import StandardScaler\n",
        "from sklearn.linear_model import LogisticRegression\n",
        "from sklearn.metrics import accuracy_score"
      ],
      "execution_count": null,
      "outputs": []
    },
    {
      "cell_type": "markdown",
      "metadata": {
        "id": "ByhAw0MzbQw0"
      },
      "source": [
        "## Enginnering Categorical Target"
      ]
    },
    {
      "cell_type": "markdown",
      "metadata": {
        "id": "yMQficAkw-qR"
      },
      "source": [
        "`SalePrice` is numerical. In order to illustrate the use of classification models, we need to have a categorical target. First we will produce a binary target, after we also produce a multiclass target."
      ]
    },
    {
      "cell_type": "markdown",
      "metadata": {
        "id": "iSld6qJSmeRv"
      },
      "source": [
        "**Recall That**"
      ]
    },
    {
      "cell_type": "markdown",
      "metadata": {
        "id": "Uko95mSXhzr1"
      },
      "source": [
        "![download.png](data:image/png;base64,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)"
      ]
    },
    {
      "cell_type": "markdown",
      "metadata": {
        "id": "2v3H0cEhiF9Q"
      },
      "source": [
        "**Binary Class Target**\n",
        "\n",
        "Let's use the `mean` and `std` to build a binary attribute to be predicted. If true, the sample will be considered `high price`. "
      ]
    },
    {
      "cell_type": "code",
      "metadata": {
        "colab": {
          "base_uri": "https://localhost:8080/",
          "height": 224
        },
        "id": "tYUkrN7GjyQ9",
        "outputId": "44274b31-7803-42ef-e0de-40c2b0980943"
      },
      "source": [
        "df_is_high = df_sale_price_train.copy() "
      ],
      "execution_count": null,
      "outputs": [
        {
          "output_type": "execute_result",
          "data": {
            "text/html": [
              "<div>\n",
              "<style scoped>\n",
              "    .dataframe tbody tr th:only-of-type {\n",
              "        vertical-align: middle;\n",
              "    }\n",
              "\n",
              "    .dataframe tbody tr th {\n",
              "        vertical-align: top;\n",
              "    }\n",
              "\n",
              "    .dataframe thead th {\n",
              "        text-align: right;\n",
              "    }\n",
              "</style>\n",
              "<table border=\"1\" class=\"dataframe\">\n",
              "  <thead>\n",
              "    <tr style=\"text-align: right;\">\n",
              "      <th></th>\n",
              "      <th>Id</th>\n",
              "      <th>MSSubClass</th>\n",
              "      <th>LotFrontage</th>\n",
              "      <th>LotArea</th>\n",
              "      <th>OverallQual</th>\n",
              "      <th>OverallCond</th>\n",
              "      <th>YearBuilt</th>\n",
              "      <th>YearRemodAdd</th>\n",
              "      <th>MasVnrArea</th>\n",
              "      <th>BsmtFinSF1</th>\n",
              "      <th>BsmtFinSF2</th>\n",
              "      <th>BsmtUnfSF</th>\n",
              "      <th>TotalBsmtSF</th>\n",
              "      <th>1stFlrSF</th>\n",
              "      <th>2ndFlrSF</th>\n",
              "      <th>LowQualFinSF</th>\n",
              "      <th>GrLivArea</th>\n",
              "      <th>BsmtFullBath</th>\n",
              "      <th>BsmtHalfBath</th>\n",
              "      <th>FullBath</th>\n",
              "      <th>HalfBath</th>\n",
              "      <th>BedroomAbvGr</th>\n",
              "      <th>KitchenAbvGr</th>\n",
              "      <th>TotRmsAbvGrd</th>\n",
              "      <th>Fireplaces</th>\n",
              "      <th>GarageYrBlt</th>\n",
              "      <th>GarageCars</th>\n",
              "      <th>GarageArea</th>\n",
              "      <th>WoodDeckSF</th>\n",
              "      <th>OpenPorchSF</th>\n",
              "      <th>EnclosedPorch</th>\n",
              "      <th>3SsnPorch</th>\n",
              "      <th>ScreenPorch</th>\n",
              "      <th>PoolArea</th>\n",
              "      <th>MiscVal</th>\n",
              "      <th>MoSold</th>\n",
              "      <th>YrSold</th>\n",
              "      <th>SalePrice</th>\n",
              "    </tr>\n",
              "  </thead>\n",
              "  <tbody>\n",
              "    <tr>\n",
              "      <th>0</th>\n",
              "      <td>1</td>\n",
              "      <td>60</td>\n",
              "      <td>65.0</td>\n",
              "      <td>8450</td>\n",
              "      <td>7</td>\n",
              "      <td>5</td>\n",
              "      <td>2003</td>\n",
              "      <td>2003</td>\n",
              "      <td>196.0</td>\n",
              "      <td>706</td>\n",
              "      <td>0</td>\n",
              "      <td>150</td>\n",
              "      <td>856</td>\n",
              "      <td>856</td>\n",
              "      <td>854</td>\n",
              "      <td>0</td>\n",
              "      <td>1710</td>\n",
              "      <td>1</td>\n",
              "      <td>0</td>\n",
              "      <td>2</td>\n",
              "      <td>1</td>\n",
              "      <td>3</td>\n",
              "      <td>1</td>\n",
              "      <td>8</td>\n",
              "      <td>0</td>\n",
              "      <td>2003.0</td>\n",
              "      <td>2</td>\n",
              "      <td>548</td>\n",
              "      <td>0</td>\n",
              "      <td>61</td>\n",
              "      <td>0</td>\n",
              "      <td>0</td>\n",
              "      <td>0</td>\n",
              "      <td>0</td>\n",
              "      <td>0</td>\n",
              "      <td>2</td>\n",
              "      <td>2008</td>\n",
              "      <td>208500</td>\n",
              "    </tr>\n",
              "    <tr>\n",
              "      <th>1</th>\n",
              "      <td>2</td>\n",
              "      <td>20</td>\n",
              "      <td>80.0</td>\n",
              "      <td>9600</td>\n",
              "      <td>6</td>\n",
              "      <td>8</td>\n",
              "      <td>1976</td>\n",
              "      <td>1976</td>\n",
              "      <td>0.0</td>\n",
              "      <td>978</td>\n",
              "      <td>0</td>\n",
              "      <td>284</td>\n",
              "      <td>1262</td>\n",
              "      <td>1262</td>\n",
              "      <td>0</td>\n",
              "      <td>0</td>\n",
              "      <td>1262</td>\n",
              "      <td>0</td>\n",
              "      <td>1</td>\n",
              "      <td>2</td>\n",
              "      <td>0</td>\n",
              "      <td>3</td>\n",
              "      <td>1</td>\n",
              "      <td>6</td>\n",
              "      <td>1</td>\n",
              "      <td>1976.0</td>\n",
              "      <td>2</td>\n",
              "      <td>460</td>\n",
              "      <td>298</td>\n",
              "      <td>0</td>\n",
              "      <td>0</td>\n",
              "      <td>0</td>\n",
              "      <td>0</td>\n",
              "      <td>0</td>\n",
              "      <td>0</td>\n",
              "      <td>5</td>\n",
              "      <td>2007</td>\n",
              "      <td>181500</td>\n",
              "    </tr>\n",
              "    <tr>\n",
              "      <th>2</th>\n",
              "      <td>3</td>\n",
              "      <td>60</td>\n",
              "      <td>68.0</td>\n",
              "      <td>11250</td>\n",
              "      <td>7</td>\n",
              "      <td>5</td>\n",
              "      <td>2001</td>\n",
              "      <td>2002</td>\n",
              "      <td>162.0</td>\n",
              "      <td>486</td>\n",
              "      <td>0</td>\n",
              "      <td>434</td>\n",
              "      <td>920</td>\n",
              "      <td>920</td>\n",
              "      <td>866</td>\n",
              "      <td>0</td>\n",
              "      <td>1786</td>\n",
              "      <td>1</td>\n",
              "      <td>0</td>\n",
              "      <td>2</td>\n",
              "      <td>1</td>\n",
              "      <td>3</td>\n",
              "      <td>1</td>\n",
              "      <td>6</td>\n",
              "      <td>1</td>\n",
              "      <td>2001.0</td>\n",
              "      <td>2</td>\n",
              "      <td>608</td>\n",
              "      <td>0</td>\n",
              "      <td>42</td>\n",
              "      <td>0</td>\n",
              "      <td>0</td>\n",
              "      <td>0</td>\n",
              "      <td>0</td>\n",
              "      <td>0</td>\n",
              "      <td>9</td>\n",
              "      <td>2008</td>\n",
              "      <td>223500</td>\n",
              "    </tr>\n",
              "    <tr>\n",
              "      <th>3</th>\n",
              "      <td>4</td>\n",
              "      <td>70</td>\n",
              "      <td>60.0</td>\n",
              "      <td>9550</td>\n",
              "      <td>7</td>\n",
              "      <td>5</td>\n",
              "      <td>1915</td>\n",
              "      <td>1970</td>\n",
              "      <td>0.0</td>\n",
              "      <td>216</td>\n",
              "      <td>0</td>\n",
              "      <td>540</td>\n",
              "      <td>756</td>\n",
              "      <td>961</td>\n",
              "      <td>756</td>\n",
              "      <td>0</td>\n",
              "      <td>1717</td>\n",
              "      <td>1</td>\n",
              "      <td>0</td>\n",
              "      <td>1</td>\n",
              "      <td>0</td>\n",
              "      <td>3</td>\n",
              "      <td>1</td>\n",
              "      <td>7</td>\n",
              "      <td>1</td>\n",
              "      <td>1998.0</td>\n",
              "      <td>3</td>\n",
              "      <td>642</td>\n",
              "      <td>0</td>\n",
              "      <td>35</td>\n",
              "      <td>272</td>\n",
              "      <td>0</td>\n",
              "      <td>0</td>\n",
              "      <td>0</td>\n",
              "      <td>0</td>\n",
              "      <td>2</td>\n",
              "      <td>2006</td>\n",
              "      <td>140000</td>\n",
              "    </tr>\n",
              "    <tr>\n",
              "      <th>4</th>\n",
              "      <td>5</td>\n",
              "      <td>60</td>\n",
              "      <td>84.0</td>\n",
              "      <td>14260</td>\n",
              "      <td>8</td>\n",
              "      <td>5</td>\n",
              "      <td>2000</td>\n",
              "      <td>2000</td>\n",
              "      <td>350.0</td>\n",
              "      <td>655</td>\n",
              "      <td>0</td>\n",
              "      <td>490</td>\n",
              "      <td>1145</td>\n",
              "      <td>1145</td>\n",
              "      <td>1053</td>\n",
              "      <td>0</td>\n",
              "      <td>2198</td>\n",
              "      <td>1</td>\n",
              "      <td>0</td>\n",
              "      <td>2</td>\n",
              "      <td>1</td>\n",
              "      <td>4</td>\n",
              "      <td>1</td>\n",
              "      <td>9</td>\n",
              "      <td>1</td>\n",
              "      <td>2000.0</td>\n",
              "      <td>3</td>\n",
              "      <td>836</td>\n",
              "      <td>192</td>\n",
              "      <td>84</td>\n",
              "      <td>0</td>\n",
              "      <td>0</td>\n",
              "      <td>0</td>\n",
              "      <td>0</td>\n",
              "      <td>0</td>\n",
              "      <td>12</td>\n",
              "      <td>2008</td>\n",
              "      <td>250000</td>\n",
              "    </tr>\n",
              "  </tbody>\n",
              "</table>\n",
              "</div>"
            ],
            "text/plain": [
              "   Id  MSSubClass  LotFrontage  LotArea  ...  MiscVal  MoSold  YrSold  SalePrice\n",
              "0   1          60         65.0     8450  ...        0       2    2008     208500\n",
              "1   2          20         80.0     9600  ...        0       5    2007     181500\n",
              "2   3          60         68.0    11250  ...        0       9    2008     223500\n",
              "3   4          70         60.0     9550  ...        0       2    2006     140000\n",
              "4   5          60         84.0    14260  ...        0      12    2008     250000\n",
              "\n",
              "[5 rows x 38 columns]"
            ]
          },
          "metadata": {
            "tags": []
          },
          "execution_count": 81
        }
      ]
    },
    {
      "cell_type": "code",
      "metadata": {
        "colab": {
          "base_uri": "https://localhost:8080/"
        },
        "id": "XhZ9MQd9kUFN",
        "outputId": "5ddc67c2-7fb3-4712-9290-1884dd4335b9"
      },
      "source": [
        "mean = df_is_high['SalePrice'].mean()\n",
        "std = df_is_high['SalePrice'].std()\n",
        "threshold = mean + std\n",
        "threshold"
      ],
      "execution_count": null,
      "outputs": [
        {
          "output_type": "execute_result",
          "data": {
            "text/plain": [
              "268505.3115468413"
            ]
          },
          "metadata": {
            "tags": []
          },
          "execution_count": 82
        }
      ]
    },
    {
      "cell_type": "code",
      "metadata": {
        "id": "SJHtKZc1kLUK"
      },
      "source": [
        "df_is_high['SalePrice'] = df_is_high['SalePrice'] >= threshold"
      ],
      "execution_count": null,
      "outputs": []
    },
    {
      "cell_type": "code",
      "metadata": {
        "colab": {
          "base_uri": "https://localhost:8080/"
        },
        "id": "01zEmLV1k1J0",
        "outputId": "93595764-edb8-4996-8ea6-ed74fca87615"
      },
      "source": [
        "df_is_high[['SalePrice']].value_counts()"
      ],
      "execution_count": null,
      "outputs": [
        {
          "output_type": "execute_result",
          "data": {
            "text/plain": [
              "SalePrice\n",
              "False        972\n",
              "True         149\n",
              "dtype: int64"
            ]
          },
          "metadata": {
            "tags": []
          },
          "execution_count": 84
        }
      ]
    },
    {
      "cell_type": "code",
      "metadata": {
        "colab": {
          "base_uri": "https://localhost:8080/",
          "height": 379
        },
        "id": "F8VExiqJxXAg",
        "outputId": "ef95b899-e5da-47e7-fca1-0591ec5de3b2"
      },
      "source": [
        "df_is_high.head(10)"
      ],
      "execution_count": null,
      "outputs": [
        {
          "output_type": "execute_result",
          "data": {
            "text/html": [
              "<div>\n",
              "<style scoped>\n",
              "    .dataframe tbody tr th:only-of-type {\n",
              "        vertical-align: middle;\n",
              "    }\n",
              "\n",
              "    .dataframe tbody tr th {\n",
              "        vertical-align: top;\n",
              "    }\n",
              "\n",
              "    .dataframe thead th {\n",
              "        text-align: right;\n",
              "    }\n",
              "</style>\n",
              "<table border=\"1\" class=\"dataframe\">\n",
              "  <thead>\n",
              "    <tr style=\"text-align: right;\">\n",
              "      <th></th>\n",
              "      <th>Id</th>\n",
              "      <th>MSSubClass</th>\n",
              "      <th>LotFrontage</th>\n",
              "      <th>LotArea</th>\n",
              "      <th>OverallQual</th>\n",
              "      <th>OverallCond</th>\n",
              "      <th>YearBuilt</th>\n",
              "      <th>YearRemodAdd</th>\n",
              "      <th>MasVnrArea</th>\n",
              "      <th>BsmtFinSF1</th>\n",
              "      <th>BsmtFinSF2</th>\n",
              "      <th>BsmtUnfSF</th>\n",
              "      <th>TotalBsmtSF</th>\n",
              "      <th>1stFlrSF</th>\n",
              "      <th>2ndFlrSF</th>\n",
              "      <th>LowQualFinSF</th>\n",
              "      <th>GrLivArea</th>\n",
              "      <th>BsmtFullBath</th>\n",
              "      <th>BsmtHalfBath</th>\n",
              "      <th>FullBath</th>\n",
              "      <th>HalfBath</th>\n",
              "      <th>BedroomAbvGr</th>\n",
              "      <th>KitchenAbvGr</th>\n",
              "      <th>TotRmsAbvGrd</th>\n",
              "      <th>Fireplaces</th>\n",
              "      <th>GarageYrBlt</th>\n",
              "      <th>GarageCars</th>\n",
              "      <th>GarageArea</th>\n",
              "      <th>WoodDeckSF</th>\n",
              "      <th>OpenPorchSF</th>\n",
              "      <th>EnclosedPorch</th>\n",
              "      <th>3SsnPorch</th>\n",
              "      <th>ScreenPorch</th>\n",
              "      <th>PoolArea</th>\n",
              "      <th>MiscVal</th>\n",
              "      <th>MoSold</th>\n",
              "      <th>YrSold</th>\n",
              "      <th>SalePrice</th>\n",
              "    </tr>\n",
              "  </thead>\n",
              "  <tbody>\n",
              "    <tr>\n",
              "      <th>0</th>\n",
              "      <td>1</td>\n",
              "      <td>60</td>\n",
              "      <td>65.0</td>\n",
              "      <td>8450</td>\n",
              "      <td>7</td>\n",
              "      <td>5</td>\n",
              "      <td>2003</td>\n",
              "      <td>2003</td>\n",
              "      <td>196.0</td>\n",
              "      <td>706</td>\n",
              "      <td>0</td>\n",
              "      <td>150</td>\n",
              "      <td>856</td>\n",
              "      <td>856</td>\n",
              "      <td>854</td>\n",
              "      <td>0</td>\n",
              "      <td>1710</td>\n",
              "      <td>1</td>\n",
              "      <td>0</td>\n",
              "      <td>2</td>\n",
              "      <td>1</td>\n",
              "      <td>3</td>\n",
              "      <td>1</td>\n",
              "      <td>8</td>\n",
              "      <td>0</td>\n",
              "      <td>2003.0</td>\n",
              "      <td>2</td>\n",
              "      <td>548</td>\n",
              "      <td>0</td>\n",
              "      <td>61</td>\n",
              "      <td>0</td>\n",
              "      <td>0</td>\n",
              "      <td>0</td>\n",
              "      <td>0</td>\n",
              "      <td>0</td>\n",
              "      <td>2</td>\n",
              "      <td>2008</td>\n",
              "      <td>False</td>\n",
              "    </tr>\n",
              "    <tr>\n",
              "      <th>1</th>\n",
              "      <td>2</td>\n",
              "      <td>20</td>\n",
              "      <td>80.0</td>\n",
              "      <td>9600</td>\n",
              "      <td>6</td>\n",
              "      <td>8</td>\n",
              "      <td>1976</td>\n",
              "      <td>1976</td>\n",
              "      <td>0.0</td>\n",
              "      <td>978</td>\n",
              "      <td>0</td>\n",
              "      <td>284</td>\n",
              "      <td>1262</td>\n",
              "      <td>1262</td>\n",
              "      <td>0</td>\n",
              "      <td>0</td>\n",
              "      <td>1262</td>\n",
              "      <td>0</td>\n",
              "      <td>1</td>\n",
              "      <td>2</td>\n",
              "      <td>0</td>\n",
              "      <td>3</td>\n",
              "      <td>1</td>\n",
              "      <td>6</td>\n",
              "      <td>1</td>\n",
              "      <td>1976.0</td>\n",
              "      <td>2</td>\n",
              "      <td>460</td>\n",
              "      <td>298</td>\n",
              "      <td>0</td>\n",
              "      <td>0</td>\n",
              "      <td>0</td>\n",
              "      <td>0</td>\n",
              "      <td>0</td>\n",
              "      <td>0</td>\n",
              "      <td>5</td>\n",
              "      <td>2007</td>\n",
              "      <td>False</td>\n",
              "    </tr>\n",
              "    <tr>\n",
              "      <th>2</th>\n",
              "      <td>3</td>\n",
              "      <td>60</td>\n",
              "      <td>68.0</td>\n",
              "      <td>11250</td>\n",
              "      <td>7</td>\n",
              "      <td>5</td>\n",
              "      <td>2001</td>\n",
              "      <td>2002</td>\n",
              "      <td>162.0</td>\n",
              "      <td>486</td>\n",
              "      <td>0</td>\n",
              "      <td>434</td>\n",
              "      <td>920</td>\n",
              "      <td>920</td>\n",
              "      <td>866</td>\n",
              "      <td>0</td>\n",
              "      <td>1786</td>\n",
              "      <td>1</td>\n",
              "      <td>0</td>\n",
              "      <td>2</td>\n",
              "      <td>1</td>\n",
              "      <td>3</td>\n",
              "      <td>1</td>\n",
              "      <td>6</td>\n",
              "      <td>1</td>\n",
              "      <td>2001.0</td>\n",
              "      <td>2</td>\n",
              "      <td>608</td>\n",
              "      <td>0</td>\n",
              "      <td>42</td>\n",
              "      <td>0</td>\n",
              "      <td>0</td>\n",
              "      <td>0</td>\n",
              "      <td>0</td>\n",
              "      <td>0</td>\n",
              "      <td>9</td>\n",
              "      <td>2008</td>\n",
              "      <td>False</td>\n",
              "    </tr>\n",
              "    <tr>\n",
              "      <th>3</th>\n",
              "      <td>4</td>\n",
              "      <td>70</td>\n",
              "      <td>60.0</td>\n",
              "      <td>9550</td>\n",
              "      <td>7</td>\n",
              "      <td>5</td>\n",
              "      <td>1915</td>\n",
              "      <td>1970</td>\n",
              "      <td>0.0</td>\n",
              "      <td>216</td>\n",
              "      <td>0</td>\n",
              "      <td>540</td>\n",
              "      <td>756</td>\n",
              "      <td>961</td>\n",
              "      <td>756</td>\n",
              "      <td>0</td>\n",
              "      <td>1717</td>\n",
              "      <td>1</td>\n",
              "      <td>0</td>\n",
              "      <td>1</td>\n",
              "      <td>0</td>\n",
              "      <td>3</td>\n",
              "      <td>1</td>\n",
              "      <td>7</td>\n",
              "      <td>1</td>\n",
              "      <td>1998.0</td>\n",
              "      <td>3</td>\n",
              "      <td>642</td>\n",
              "      <td>0</td>\n",
              "      <td>35</td>\n",
              "      <td>272</td>\n",
              "      <td>0</td>\n",
              "      <td>0</td>\n",
              "      <td>0</td>\n",
              "      <td>0</td>\n",
              "      <td>2</td>\n",
              "      <td>2006</td>\n",
              "      <td>False</td>\n",
              "    </tr>\n",
              "    <tr>\n",
              "      <th>4</th>\n",
              "      <td>5</td>\n",
              "      <td>60</td>\n",
              "      <td>84.0</td>\n",
              "      <td>14260</td>\n",
              "      <td>8</td>\n",
              "      <td>5</td>\n",
              "      <td>2000</td>\n",
              "      <td>2000</td>\n",
              "      <td>350.0</td>\n",
              "      <td>655</td>\n",
              "      <td>0</td>\n",
              "      <td>490</td>\n",
              "      <td>1145</td>\n",
              "      <td>1145</td>\n",
              "      <td>1053</td>\n",
              "      <td>0</td>\n",
              "      <td>2198</td>\n",
              "      <td>1</td>\n",
              "      <td>0</td>\n",
              "      <td>2</td>\n",
              "      <td>1</td>\n",
              "      <td>4</td>\n",
              "      <td>1</td>\n",
              "      <td>9</td>\n",
              "      <td>1</td>\n",
              "      <td>2000.0</td>\n",
              "      <td>3</td>\n",
              "      <td>836</td>\n",
              "      <td>192</td>\n",
              "      <td>84</td>\n",
              "      <td>0</td>\n",
              "      <td>0</td>\n",
              "      <td>0</td>\n",
              "      <td>0</td>\n",
              "      <td>0</td>\n",
              "      <td>12</td>\n",
              "      <td>2008</td>\n",
              "      <td>False</td>\n",
              "    </tr>\n",
              "    <tr>\n",
              "      <th>5</th>\n",
              "      <td>6</td>\n",
              "      <td>50</td>\n",
              "      <td>85.0</td>\n",
              "      <td>14115</td>\n",
              "      <td>5</td>\n",
              "      <td>5</td>\n",
              "      <td>1993</td>\n",
              "      <td>1995</td>\n",
              "      <td>0.0</td>\n",
              "      <td>732</td>\n",
              "      <td>0</td>\n",
              "      <td>64</td>\n",
              "      <td>796</td>\n",
              "      <td>796</td>\n",
              "      <td>566</td>\n",
              "      <td>0</td>\n",
              "      <td>1362</td>\n",
              "      <td>1</td>\n",
              "      <td>0</td>\n",
              "      <td>1</td>\n",
              "      <td>1</td>\n",
              "      <td>1</td>\n",
              "      <td>1</td>\n",
              "      <td>5</td>\n",
              "      <td>0</td>\n",
              "      <td>1993.0</td>\n",
              "      <td>2</td>\n",
              "      <td>480</td>\n",
              "      <td>40</td>\n",
              "      <td>30</td>\n",
              "      <td>0</td>\n",
              "      <td>320</td>\n",
              "      <td>0</td>\n",
              "      <td>0</td>\n",
              "      <td>700</td>\n",
              "      <td>10</td>\n",
              "      <td>2009</td>\n",
              "      <td>False</td>\n",
              "    </tr>\n",
              "    <tr>\n",
              "      <th>6</th>\n",
              "      <td>7</td>\n",
              "      <td>20</td>\n",
              "      <td>75.0</td>\n",
              "      <td>10084</td>\n",
              "      <td>8</td>\n",
              "      <td>5</td>\n",
              "      <td>2004</td>\n",
              "      <td>2005</td>\n",
              "      <td>186.0</td>\n",
              "      <td>1369</td>\n",
              "      <td>0</td>\n",
              "      <td>317</td>\n",
              "      <td>1686</td>\n",
              "      <td>1694</td>\n",
              "      <td>0</td>\n",
              "      <td>0</td>\n",
              "      <td>1694</td>\n",
              "      <td>1</td>\n",
              "      <td>0</td>\n",
              "      <td>2</td>\n",
              "      <td>0</td>\n",
              "      <td>3</td>\n",
              "      <td>1</td>\n",
              "      <td>7</td>\n",
              "      <td>1</td>\n",
              "      <td>2004.0</td>\n",
              "      <td>2</td>\n",
              "      <td>636</td>\n",
              "      <td>255</td>\n",
              "      <td>57</td>\n",
              "      <td>0</td>\n",
              "      <td>0</td>\n",
              "      <td>0</td>\n",
              "      <td>0</td>\n",
              "      <td>0</td>\n",
              "      <td>8</td>\n",
              "      <td>2007</td>\n",
              "      <td>True</td>\n",
              "    </tr>\n",
              "    <tr>\n",
              "      <th>8</th>\n",
              "      <td>9</td>\n",
              "      <td>50</td>\n",
              "      <td>51.0</td>\n",
              "      <td>6120</td>\n",
              "      <td>7</td>\n",
              "      <td>5</td>\n",
              "      <td>1931</td>\n",
              "      <td>1950</td>\n",
              "      <td>0.0</td>\n",
              "      <td>0</td>\n",
              "      <td>0</td>\n",
              "      <td>952</td>\n",
              "      <td>952</td>\n",
              "      <td>1022</td>\n",
              "      <td>752</td>\n",
              "      <td>0</td>\n",
              "      <td>1774</td>\n",
              "      <td>0</td>\n",
              "      <td>0</td>\n",
              "      <td>2</td>\n",
              "      <td>0</td>\n",
              "      <td>2</td>\n",
              "      <td>2</td>\n",
              "      <td>8</td>\n",
              "      <td>2</td>\n",
              "      <td>1931.0</td>\n",
              "      <td>2</td>\n",
              "      <td>468</td>\n",
              "      <td>90</td>\n",
              "      <td>0</td>\n",
              "      <td>205</td>\n",
              "      <td>0</td>\n",
              "      <td>0</td>\n",
              "      <td>0</td>\n",
              "      <td>0</td>\n",
              "      <td>4</td>\n",
              "      <td>2008</td>\n",
              "      <td>False</td>\n",
              "    </tr>\n",
              "    <tr>\n",
              "      <th>9</th>\n",
              "      <td>10</td>\n",
              "      <td>190</td>\n",
              "      <td>50.0</td>\n",
              "      <td>7420</td>\n",
              "      <td>5</td>\n",
              "      <td>6</td>\n",
              "      <td>1939</td>\n",
              "      <td>1950</td>\n",
              "      <td>0.0</td>\n",
              "      <td>851</td>\n",
              "      <td>0</td>\n",
              "      <td>140</td>\n",
              "      <td>991</td>\n",
              "      <td>1077</td>\n",
              "      <td>0</td>\n",
              "      <td>0</td>\n",
              "      <td>1077</td>\n",
              "      <td>1</td>\n",
              "      <td>0</td>\n",
              "      <td>1</td>\n",
              "      <td>0</td>\n",
              "      <td>2</td>\n",
              "      <td>2</td>\n",
              "      <td>5</td>\n",
              "      <td>2</td>\n",
              "      <td>1939.0</td>\n",
              "      <td>1</td>\n",
              "      <td>205</td>\n",
              "      <td>0</td>\n",
              "      <td>4</td>\n",
              "      <td>0</td>\n",
              "      <td>0</td>\n",
              "      <td>0</td>\n",
              "      <td>0</td>\n",
              "      <td>0</td>\n",
              "      <td>1</td>\n",
              "      <td>2008</td>\n",
              "      <td>False</td>\n",
              "    </tr>\n",
              "    <tr>\n",
              "      <th>10</th>\n",
              "      <td>11</td>\n",
              "      <td>20</td>\n",
              "      <td>70.0</td>\n",
              "      <td>11200</td>\n",
              "      <td>5</td>\n",
              "      <td>5</td>\n",
              "      <td>1965</td>\n",
              "      <td>1965</td>\n",
              "      <td>0.0</td>\n",
              "      <td>906</td>\n",
              "      <td>0</td>\n",
              "      <td>134</td>\n",
              "      <td>1040</td>\n",
              "      <td>1040</td>\n",
              "      <td>0</td>\n",
              "      <td>0</td>\n",
              "      <td>1040</td>\n",
              "      <td>1</td>\n",
              "      <td>0</td>\n",
              "      <td>1</td>\n",
              "      <td>0</td>\n",
              "      <td>3</td>\n",
              "      <td>1</td>\n",
              "      <td>5</td>\n",
              "      <td>0</td>\n",
              "      <td>1965.0</td>\n",
              "      <td>1</td>\n",
              "      <td>384</td>\n",
              "      <td>0</td>\n",
              "      <td>0</td>\n",
              "      <td>0</td>\n",
              "      <td>0</td>\n",
              "      <td>0</td>\n",
              "      <td>0</td>\n",
              "      <td>0</td>\n",
              "      <td>2</td>\n",
              "      <td>2008</td>\n",
              "      <td>False</td>\n",
              "    </tr>\n",
              "  </tbody>\n",
              "</table>\n",
              "</div>"
            ],
            "text/plain": [
              "    Id  MSSubClass  LotFrontage  LotArea  ...  MiscVal  MoSold  YrSold  SalePrice\n",
              "0    1          60         65.0     8450  ...        0       2    2008      False\n",
              "1    2          20         80.0     9600  ...        0       5    2007      False\n",
              "2    3          60         68.0    11250  ...        0       9    2008      False\n",
              "3    4          70         60.0     9550  ...        0       2    2006      False\n",
              "4    5          60         84.0    14260  ...        0      12    2008      False\n",
              "5    6          50         85.0    14115  ...      700      10    2009      False\n",
              "6    7          20         75.0    10084  ...        0       8    2007       True\n",
              "8    9          50         51.0     6120  ...        0       4    2008      False\n",
              "9   10         190         50.0     7420  ...        0       1    2008      False\n",
              "10  11          20         70.0    11200  ...        0       2    2008      False\n",
              "\n",
              "[10 rows x 38 columns]"
            ]
          },
          "metadata": {
            "tags": []
          },
          "execution_count": 137
        }
      ]
    },
    {
      "cell_type": "markdown",
      "metadata": {
        "id": "2o6kELSUmoe7"
      },
      "source": [
        "**Multiclass Target**"
      ]
    },
    {
      "cell_type": "code",
      "metadata": {
        "id": "KHlNhNTpm8yC"
      },
      "source": [
        "df_price_range = df_sale_price_train.copy() "
      ],
      "execution_count": null,
      "outputs": []
    },
    {
      "cell_type": "code",
      "metadata": {
        "colab": {
          "base_uri": "https://localhost:8080/"
        },
        "id": "yTanKJoQnEud",
        "outputId": "0693a6d3-df29-46c3-cda9-2a8d96271ecc"
      },
      "source": [
        "mean = df_price_range['SalePrice'].mean()\n",
        "std = df_price_range['SalePrice'].std()\n",
        "threshold1 = mean - std\n",
        "threshold2 = mean + std\n",
        "threshold1, threshold2"
      ],
      "execution_count": null,
      "outputs": [
        {
          "output_type": "execute_result",
          "data": {
            "text/plain": [
              "(102506.99353790443, 268505.3115468413)"
            ]
          },
          "metadata": {
            "tags": []
          },
          "execution_count": 86
        }
      ]
    },
    {
      "cell_type": "code",
      "metadata": {
        "id": "jRZ1XbBlnZf7"
      },
      "source": [
        "def get_price_range(price):\n",
        "  if price < threshold1: return 'cheap'\n",
        "  elif price < threshold2: return 'average'\n",
        "  else: return 'expansive'\n",
        "\n",
        "df_price_range['SalePrice'] = df_price_range['SalePrice'].map(get_price_range)"
      ],
      "execution_count": null,
      "outputs": []
    },
    {
      "cell_type": "code",
      "metadata": {
        "colab": {
          "base_uri": "https://localhost:8080/"
        },
        "id": "N8UlRq6an_lj",
        "outputId": "8567909c-a445-4158-fed7-8c6923ddf9d3"
      },
      "source": [
        "df_price_range[['SalePrice']].value_counts()"
      ],
      "execution_count": null,
      "outputs": [
        {
          "output_type": "execute_result",
          "data": {
            "text/plain": [
              "SalePrice\n",
              "average      892\n",
              "expansive    149\n",
              "cheap         80\n",
              "dtype: int64"
            ]
          },
          "metadata": {
            "tags": []
          },
          "execution_count": 88
        }
      ]
    },
    {
      "cell_type": "code",
      "metadata": {
        "colab": {
          "base_uri": "https://localhost:8080/",
          "height": 534
        },
        "id": "O9HaTnX2xj7X",
        "outputId": "299e2e2f-229b-4fdc-95ad-1ed62864304e"
      },
      "source": [
        "df_price_range.head(15)"
      ],
      "execution_count": null,
      "outputs": [
        {
          "output_type": "execute_result",
          "data": {
            "text/html": [
              "<div>\n",
              "<style scoped>\n",
              "    .dataframe tbody tr th:only-of-type {\n",
              "        vertical-align: middle;\n",
              "    }\n",
              "\n",
              "    .dataframe tbody tr th {\n",
              "        vertical-align: top;\n",
              "    }\n",
              "\n",
              "    .dataframe thead th {\n",
              "        text-align: right;\n",
              "    }\n",
              "</style>\n",
              "<table border=\"1\" class=\"dataframe\">\n",
              "  <thead>\n",
              "    <tr style=\"text-align: right;\">\n",
              "      <th></th>\n",
              "      <th>Id</th>\n",
              "      <th>MSSubClass</th>\n",
              "      <th>LotFrontage</th>\n",
              "      <th>LotArea</th>\n",
              "      <th>OverallQual</th>\n",
              "      <th>OverallCond</th>\n",
              "      <th>YearBuilt</th>\n",
              "      <th>YearRemodAdd</th>\n",
              "      <th>MasVnrArea</th>\n",
              "      <th>BsmtFinSF1</th>\n",
              "      <th>BsmtFinSF2</th>\n",
              "      <th>BsmtUnfSF</th>\n",
              "      <th>TotalBsmtSF</th>\n",
              "      <th>1stFlrSF</th>\n",
              "      <th>2ndFlrSF</th>\n",
              "      <th>LowQualFinSF</th>\n",
              "      <th>GrLivArea</th>\n",
              "      <th>BsmtFullBath</th>\n",
              "      <th>BsmtHalfBath</th>\n",
              "      <th>FullBath</th>\n",
              "      <th>HalfBath</th>\n",
              "      <th>BedroomAbvGr</th>\n",
              "      <th>KitchenAbvGr</th>\n",
              "      <th>TotRmsAbvGrd</th>\n",
              "      <th>Fireplaces</th>\n",
              "      <th>GarageYrBlt</th>\n",
              "      <th>GarageCars</th>\n",
              "      <th>GarageArea</th>\n",
              "      <th>WoodDeckSF</th>\n",
              "      <th>OpenPorchSF</th>\n",
              "      <th>EnclosedPorch</th>\n",
              "      <th>3SsnPorch</th>\n",
              "      <th>ScreenPorch</th>\n",
              "      <th>PoolArea</th>\n",
              "      <th>MiscVal</th>\n",
              "      <th>MoSold</th>\n",
              "      <th>YrSold</th>\n",
              "      <th>SalePrice</th>\n",
              "    </tr>\n",
              "  </thead>\n",
              "  <tbody>\n",
              "    <tr>\n",
              "      <th>0</th>\n",
              "      <td>1</td>\n",
              "      <td>60</td>\n",
              "      <td>65.0</td>\n",
              "      <td>8450</td>\n",
              "      <td>7</td>\n",
              "      <td>5</td>\n",
              "      <td>2003</td>\n",
              "      <td>2003</td>\n",
              "      <td>196.0</td>\n",
              "      <td>706</td>\n",
              "      <td>0</td>\n",
              "      <td>150</td>\n",
              "      <td>856</td>\n",
              "      <td>856</td>\n",
              "      <td>854</td>\n",
              "      <td>0</td>\n",
              "      <td>1710</td>\n",
              "      <td>1</td>\n",
              "      <td>0</td>\n",
              "      <td>2</td>\n",
              "      <td>1</td>\n",
              "      <td>3</td>\n",
              "      <td>1</td>\n",
              "      <td>8</td>\n",
              "      <td>0</td>\n",
              "      <td>2003.0</td>\n",
              "      <td>2</td>\n",
              "      <td>548</td>\n",
              "      <td>0</td>\n",
              "      <td>61</td>\n",
              "      <td>0</td>\n",
              "      <td>0</td>\n",
              "      <td>0</td>\n",
              "      <td>0</td>\n",
              "      <td>0</td>\n",
              "      <td>2</td>\n",
              "      <td>2008</td>\n",
              "      <td>average</td>\n",
              "    </tr>\n",
              "    <tr>\n",
              "      <th>1</th>\n",
              "      <td>2</td>\n",
              "      <td>20</td>\n",
              "      <td>80.0</td>\n",
              "      <td>9600</td>\n",
              "      <td>6</td>\n",
              "      <td>8</td>\n",
              "      <td>1976</td>\n",
              "      <td>1976</td>\n",
              "      <td>0.0</td>\n",
              "      <td>978</td>\n",
              "      <td>0</td>\n",
              "      <td>284</td>\n",
              "      <td>1262</td>\n",
              "      <td>1262</td>\n",
              "      <td>0</td>\n",
              "      <td>0</td>\n",
              "      <td>1262</td>\n",
              "      <td>0</td>\n",
              "      <td>1</td>\n",
              "      <td>2</td>\n",
              "      <td>0</td>\n",
              "      <td>3</td>\n",
              "      <td>1</td>\n",
              "      <td>6</td>\n",
              "      <td>1</td>\n",
              "      <td>1976.0</td>\n",
              "      <td>2</td>\n",
              "      <td>460</td>\n",
              "      <td>298</td>\n",
              "      <td>0</td>\n",
              "      <td>0</td>\n",
              "      <td>0</td>\n",
              "      <td>0</td>\n",
              "      <td>0</td>\n",
              "      <td>0</td>\n",
              "      <td>5</td>\n",
              "      <td>2007</td>\n",
              "      <td>average</td>\n",
              "    </tr>\n",
              "    <tr>\n",
              "      <th>2</th>\n",
              "      <td>3</td>\n",
              "      <td>60</td>\n",
              "      <td>68.0</td>\n",
              "      <td>11250</td>\n",
              "      <td>7</td>\n",
              "      <td>5</td>\n",
              "      <td>2001</td>\n",
              "      <td>2002</td>\n",
              "      <td>162.0</td>\n",
              "      <td>486</td>\n",
              "      <td>0</td>\n",
              "      <td>434</td>\n",
              "      <td>920</td>\n",
              "      <td>920</td>\n",
              "      <td>866</td>\n",
              "      <td>0</td>\n",
              "      <td>1786</td>\n",
              "      <td>1</td>\n",
              "      <td>0</td>\n",
              "      <td>2</td>\n",
              "      <td>1</td>\n",
              "      <td>3</td>\n",
              "      <td>1</td>\n",
              "      <td>6</td>\n",
              "      <td>1</td>\n",
              "      <td>2001.0</td>\n",
              "      <td>2</td>\n",
              "      <td>608</td>\n",
              "      <td>0</td>\n",
              "      <td>42</td>\n",
              "      <td>0</td>\n",
              "      <td>0</td>\n",
              "      <td>0</td>\n",
              "      <td>0</td>\n",
              "      <td>0</td>\n",
              "      <td>9</td>\n",
              "      <td>2008</td>\n",
              "      <td>average</td>\n",
              "    </tr>\n",
              "    <tr>\n",
              "      <th>3</th>\n",
              "      <td>4</td>\n",
              "      <td>70</td>\n",
              "      <td>60.0</td>\n",
              "      <td>9550</td>\n",
              "      <td>7</td>\n",
              "      <td>5</td>\n",
              "      <td>1915</td>\n",
              "      <td>1970</td>\n",
              "      <td>0.0</td>\n",
              "      <td>216</td>\n",
              "      <td>0</td>\n",
              "      <td>540</td>\n",
              "      <td>756</td>\n",
              "      <td>961</td>\n",
              "      <td>756</td>\n",
              "      <td>0</td>\n",
              "      <td>1717</td>\n",
              "      <td>1</td>\n",
              "      <td>0</td>\n",
              "      <td>1</td>\n",
              "      <td>0</td>\n",
              "      <td>3</td>\n",
              "      <td>1</td>\n",
              "      <td>7</td>\n",
              "      <td>1</td>\n",
              "      <td>1998.0</td>\n",
              "      <td>3</td>\n",
              "      <td>642</td>\n",
              "      <td>0</td>\n",
              "      <td>35</td>\n",
              "      <td>272</td>\n",
              "      <td>0</td>\n",
              "      <td>0</td>\n",
              "      <td>0</td>\n",
              "      <td>0</td>\n",
              "      <td>2</td>\n",
              "      <td>2006</td>\n",
              "      <td>average</td>\n",
              "    </tr>\n",
              "    <tr>\n",
              "      <th>4</th>\n",
              "      <td>5</td>\n",
              "      <td>60</td>\n",
              "      <td>84.0</td>\n",
              "      <td>14260</td>\n",
              "      <td>8</td>\n",
              "      <td>5</td>\n",
              "      <td>2000</td>\n",
              "      <td>2000</td>\n",
              "      <td>350.0</td>\n",
              "      <td>655</td>\n",
              "      <td>0</td>\n",
              "      <td>490</td>\n",
              "      <td>1145</td>\n",
              "      <td>1145</td>\n",
              "      <td>1053</td>\n",
              "      <td>0</td>\n",
              "      <td>2198</td>\n",
              "      <td>1</td>\n",
              "      <td>0</td>\n",
              "      <td>2</td>\n",
              "      <td>1</td>\n",
              "      <td>4</td>\n",
              "      <td>1</td>\n",
              "      <td>9</td>\n",
              "      <td>1</td>\n",
              "      <td>2000.0</td>\n",
              "      <td>3</td>\n",
              "      <td>836</td>\n",
              "      <td>192</td>\n",
              "      <td>84</td>\n",
              "      <td>0</td>\n",
              "      <td>0</td>\n",
              "      <td>0</td>\n",
              "      <td>0</td>\n",
              "      <td>0</td>\n",
              "      <td>12</td>\n",
              "      <td>2008</td>\n",
              "      <td>average</td>\n",
              "    </tr>\n",
              "    <tr>\n",
              "      <th>5</th>\n",
              "      <td>6</td>\n",
              "      <td>50</td>\n",
              "      <td>85.0</td>\n",
              "      <td>14115</td>\n",
              "      <td>5</td>\n",
              "      <td>5</td>\n",
              "      <td>1993</td>\n",
              "      <td>1995</td>\n",
              "      <td>0.0</td>\n",
              "      <td>732</td>\n",
              "      <td>0</td>\n",
              "      <td>64</td>\n",
              "      <td>796</td>\n",
              "      <td>796</td>\n",
              "      <td>566</td>\n",
              "      <td>0</td>\n",
              "      <td>1362</td>\n",
              "      <td>1</td>\n",
              "      <td>0</td>\n",
              "      <td>1</td>\n",
              "      <td>1</td>\n",
              "      <td>1</td>\n",
              "      <td>1</td>\n",
              "      <td>5</td>\n",
              "      <td>0</td>\n",
              "      <td>1993.0</td>\n",
              "      <td>2</td>\n",
              "      <td>480</td>\n",
              "      <td>40</td>\n",
              "      <td>30</td>\n",
              "      <td>0</td>\n",
              "      <td>320</td>\n",
              "      <td>0</td>\n",
              "      <td>0</td>\n",
              "      <td>700</td>\n",
              "      <td>10</td>\n",
              "      <td>2009</td>\n",
              "      <td>average</td>\n",
              "    </tr>\n",
              "    <tr>\n",
              "      <th>6</th>\n",
              "      <td>7</td>\n",
              "      <td>20</td>\n",
              "      <td>75.0</td>\n",
              "      <td>10084</td>\n",
              "      <td>8</td>\n",
              "      <td>5</td>\n",
              "      <td>2004</td>\n",
              "      <td>2005</td>\n",
              "      <td>186.0</td>\n",
              "      <td>1369</td>\n",
              "      <td>0</td>\n",
              "      <td>317</td>\n",
              "      <td>1686</td>\n",
              "      <td>1694</td>\n",
              "      <td>0</td>\n",
              "      <td>0</td>\n",
              "      <td>1694</td>\n",
              "      <td>1</td>\n",
              "      <td>0</td>\n",
              "      <td>2</td>\n",
              "      <td>0</td>\n",
              "      <td>3</td>\n",
              "      <td>1</td>\n",
              "      <td>7</td>\n",
              "      <td>1</td>\n",
              "      <td>2004.0</td>\n",
              "      <td>2</td>\n",
              "      <td>636</td>\n",
              "      <td>255</td>\n",
              "      <td>57</td>\n",
              "      <td>0</td>\n",
              "      <td>0</td>\n",
              "      <td>0</td>\n",
              "      <td>0</td>\n",
              "      <td>0</td>\n",
              "      <td>8</td>\n",
              "      <td>2007</td>\n",
              "      <td>expansive</td>\n",
              "    </tr>\n",
              "    <tr>\n",
              "      <th>8</th>\n",
              "      <td>9</td>\n",
              "      <td>50</td>\n",
              "      <td>51.0</td>\n",
              "      <td>6120</td>\n",
              "      <td>7</td>\n",
              "      <td>5</td>\n",
              "      <td>1931</td>\n",
              "      <td>1950</td>\n",
              "      <td>0.0</td>\n",
              "      <td>0</td>\n",
              "      <td>0</td>\n",
              "      <td>952</td>\n",
              "      <td>952</td>\n",
              "      <td>1022</td>\n",
              "      <td>752</td>\n",
              "      <td>0</td>\n",
              "      <td>1774</td>\n",
              "      <td>0</td>\n",
              "      <td>0</td>\n",
              "      <td>2</td>\n",
              "      <td>0</td>\n",
              "      <td>2</td>\n",
              "      <td>2</td>\n",
              "      <td>8</td>\n",
              "      <td>2</td>\n",
              "      <td>1931.0</td>\n",
              "      <td>2</td>\n",
              "      <td>468</td>\n",
              "      <td>90</td>\n",
              "      <td>0</td>\n",
              "      <td>205</td>\n",
              "      <td>0</td>\n",
              "      <td>0</td>\n",
              "      <td>0</td>\n",
              "      <td>0</td>\n",
              "      <td>4</td>\n",
              "      <td>2008</td>\n",
              "      <td>average</td>\n",
              "    </tr>\n",
              "    <tr>\n",
              "      <th>9</th>\n",
              "      <td>10</td>\n",
              "      <td>190</td>\n",
              "      <td>50.0</td>\n",
              "      <td>7420</td>\n",
              "      <td>5</td>\n",
              "      <td>6</td>\n",
              "      <td>1939</td>\n",
              "      <td>1950</td>\n",
              "      <td>0.0</td>\n",
              "      <td>851</td>\n",
              "      <td>0</td>\n",
              "      <td>140</td>\n",
              "      <td>991</td>\n",
              "      <td>1077</td>\n",
              "      <td>0</td>\n",
              "      <td>0</td>\n",
              "      <td>1077</td>\n",
              "      <td>1</td>\n",
              "      <td>0</td>\n",
              "      <td>1</td>\n",
              "      <td>0</td>\n",
              "      <td>2</td>\n",
              "      <td>2</td>\n",
              "      <td>5</td>\n",
              "      <td>2</td>\n",
              "      <td>1939.0</td>\n",
              "      <td>1</td>\n",
              "      <td>205</td>\n",
              "      <td>0</td>\n",
              "      <td>4</td>\n",
              "      <td>0</td>\n",
              "      <td>0</td>\n",
              "      <td>0</td>\n",
              "      <td>0</td>\n",
              "      <td>0</td>\n",
              "      <td>1</td>\n",
              "      <td>2008</td>\n",
              "      <td>average</td>\n",
              "    </tr>\n",
              "    <tr>\n",
              "      <th>10</th>\n",
              "      <td>11</td>\n",
              "      <td>20</td>\n",
              "      <td>70.0</td>\n",
              "      <td>11200</td>\n",
              "      <td>5</td>\n",
              "      <td>5</td>\n",
              "      <td>1965</td>\n",
              "      <td>1965</td>\n",
              "      <td>0.0</td>\n",
              "      <td>906</td>\n",
              "      <td>0</td>\n",
              "      <td>134</td>\n",
              "      <td>1040</td>\n",
              "      <td>1040</td>\n",
              "      <td>0</td>\n",
              "      <td>0</td>\n",
              "      <td>1040</td>\n",
              "      <td>1</td>\n",
              "      <td>0</td>\n",
              "      <td>1</td>\n",
              "      <td>0</td>\n",
              "      <td>3</td>\n",
              "      <td>1</td>\n",
              "      <td>5</td>\n",
              "      <td>0</td>\n",
              "      <td>1965.0</td>\n",
              "      <td>1</td>\n",
              "      <td>384</td>\n",
              "      <td>0</td>\n",
              "      <td>0</td>\n",
              "      <td>0</td>\n",
              "      <td>0</td>\n",
              "      <td>0</td>\n",
              "      <td>0</td>\n",
              "      <td>0</td>\n",
              "      <td>2</td>\n",
              "      <td>2008</td>\n",
              "      <td>average</td>\n",
              "    </tr>\n",
              "    <tr>\n",
              "      <th>11</th>\n",
              "      <td>12</td>\n",
              "      <td>60</td>\n",
              "      <td>85.0</td>\n",
              "      <td>11924</td>\n",
              "      <td>9</td>\n",
              "      <td>5</td>\n",
              "      <td>2005</td>\n",
              "      <td>2006</td>\n",
              "      <td>286.0</td>\n",
              "      <td>998</td>\n",
              "      <td>0</td>\n",
              "      <td>177</td>\n",
              "      <td>1175</td>\n",
              "      <td>1182</td>\n",
              "      <td>1142</td>\n",
              "      <td>0</td>\n",
              "      <td>2324</td>\n",
              "      <td>1</td>\n",
              "      <td>0</td>\n",
              "      <td>3</td>\n",
              "      <td>0</td>\n",
              "      <td>4</td>\n",
              "      <td>1</td>\n",
              "      <td>11</td>\n",
              "      <td>2</td>\n",
              "      <td>2005.0</td>\n",
              "      <td>3</td>\n",
              "      <td>736</td>\n",
              "      <td>147</td>\n",
              "      <td>21</td>\n",
              "      <td>0</td>\n",
              "      <td>0</td>\n",
              "      <td>0</td>\n",
              "      <td>0</td>\n",
              "      <td>0</td>\n",
              "      <td>7</td>\n",
              "      <td>2006</td>\n",
              "      <td>expansive</td>\n",
              "    </tr>\n",
              "    <tr>\n",
              "      <th>13</th>\n",
              "      <td>14</td>\n",
              "      <td>20</td>\n",
              "      <td>91.0</td>\n",
              "      <td>10652</td>\n",
              "      <td>7</td>\n",
              "      <td>5</td>\n",
              "      <td>2006</td>\n",
              "      <td>2007</td>\n",
              "      <td>306.0</td>\n",
              "      <td>0</td>\n",
              "      <td>0</td>\n",
              "      <td>1494</td>\n",
              "      <td>1494</td>\n",
              "      <td>1494</td>\n",
              "      <td>0</td>\n",
              "      <td>0</td>\n",
              "      <td>1494</td>\n",
              "      <td>0</td>\n",
              "      <td>0</td>\n",
              "      <td>2</td>\n",
              "      <td>0</td>\n",
              "      <td>3</td>\n",
              "      <td>1</td>\n",
              "      <td>7</td>\n",
              "      <td>1</td>\n",
              "      <td>2006.0</td>\n",
              "      <td>3</td>\n",
              "      <td>840</td>\n",
              "      <td>160</td>\n",
              "      <td>33</td>\n",
              "      <td>0</td>\n",
              "      <td>0</td>\n",
              "      <td>0</td>\n",
              "      <td>0</td>\n",
              "      <td>0</td>\n",
              "      <td>8</td>\n",
              "      <td>2007</td>\n",
              "      <td>expansive</td>\n",
              "    </tr>\n",
              "    <tr>\n",
              "      <th>15</th>\n",
              "      <td>16</td>\n",
              "      <td>45</td>\n",
              "      <td>51.0</td>\n",
              "      <td>6120</td>\n",
              "      <td>7</td>\n",
              "      <td>8</td>\n",
              "      <td>1929</td>\n",
              "      <td>2001</td>\n",
              "      <td>0.0</td>\n",
              "      <td>0</td>\n",
              "      <td>0</td>\n",
              "      <td>832</td>\n",
              "      <td>832</td>\n",
              "      <td>854</td>\n",
              "      <td>0</td>\n",
              "      <td>0</td>\n",
              "      <td>854</td>\n",
              "      <td>0</td>\n",
              "      <td>0</td>\n",
              "      <td>1</td>\n",
              "      <td>0</td>\n",
              "      <td>2</td>\n",
              "      <td>1</td>\n",
              "      <td>5</td>\n",
              "      <td>0</td>\n",
              "      <td>1991.0</td>\n",
              "      <td>2</td>\n",
              "      <td>576</td>\n",
              "      <td>48</td>\n",
              "      <td>112</td>\n",
              "      <td>0</td>\n",
              "      <td>0</td>\n",
              "      <td>0</td>\n",
              "      <td>0</td>\n",
              "      <td>0</td>\n",
              "      <td>7</td>\n",
              "      <td>2007</td>\n",
              "      <td>average</td>\n",
              "    </tr>\n",
              "    <tr>\n",
              "      <th>17</th>\n",
              "      <td>18</td>\n",
              "      <td>90</td>\n",
              "      <td>72.0</td>\n",
              "      <td>10791</td>\n",
              "      <td>4</td>\n",
              "      <td>5</td>\n",
              "      <td>1967</td>\n",
              "      <td>1967</td>\n",
              "      <td>0.0</td>\n",
              "      <td>0</td>\n",
              "      <td>0</td>\n",
              "      <td>0</td>\n",
              "      <td>0</td>\n",
              "      <td>1296</td>\n",
              "      <td>0</td>\n",
              "      <td>0</td>\n",
              "      <td>1296</td>\n",
              "      <td>0</td>\n",
              "      <td>0</td>\n",
              "      <td>2</td>\n",
              "      <td>0</td>\n",
              "      <td>2</td>\n",
              "      <td>2</td>\n",
              "      <td>6</td>\n",
              "      <td>0</td>\n",
              "      <td>1967.0</td>\n",
              "      <td>2</td>\n",
              "      <td>516</td>\n",
              "      <td>0</td>\n",
              "      <td>0</td>\n",
              "      <td>0</td>\n",
              "      <td>0</td>\n",
              "      <td>0</td>\n",
              "      <td>0</td>\n",
              "      <td>500</td>\n",
              "      <td>10</td>\n",
              "      <td>2006</td>\n",
              "      <td>cheap</td>\n",
              "    </tr>\n",
              "    <tr>\n",
              "      <th>18</th>\n",
              "      <td>19</td>\n",
              "      <td>20</td>\n",
              "      <td>66.0</td>\n",
              "      <td>13695</td>\n",
              "      <td>5</td>\n",
              "      <td>5</td>\n",
              "      <td>2004</td>\n",
              "      <td>2004</td>\n",
              "      <td>0.0</td>\n",
              "      <td>646</td>\n",
              "      <td>0</td>\n",
              "      <td>468</td>\n",
              "      <td>1114</td>\n",
              "      <td>1114</td>\n",
              "      <td>0</td>\n",
              "      <td>0</td>\n",
              "      <td>1114</td>\n",
              "      <td>1</td>\n",
              "      <td>0</td>\n",
              "      <td>1</td>\n",
              "      <td>1</td>\n",
              "      <td>3</td>\n",
              "      <td>1</td>\n",
              "      <td>6</td>\n",
              "      <td>0</td>\n",
              "      <td>2004.0</td>\n",
              "      <td>2</td>\n",
              "      <td>576</td>\n",
              "      <td>0</td>\n",
              "      <td>102</td>\n",
              "      <td>0</td>\n",
              "      <td>0</td>\n",
              "      <td>0</td>\n",
              "      <td>0</td>\n",
              "      <td>0</td>\n",
              "      <td>6</td>\n",
              "      <td>2008</td>\n",
              "      <td>average</td>\n",
              "    </tr>\n",
              "  </tbody>\n",
              "</table>\n",
              "</div>"
            ],
            "text/plain": [
              "    Id  MSSubClass  LotFrontage  LotArea  ...  MiscVal  MoSold  YrSold  SalePrice\n",
              "0    1          60         65.0     8450  ...        0       2    2008    average\n",
              "1    2          20         80.0     9600  ...        0       5    2007    average\n",
              "2    3          60         68.0    11250  ...        0       9    2008    average\n",
              "3    4          70         60.0     9550  ...        0       2    2006    average\n",
              "4    5          60         84.0    14260  ...        0      12    2008    average\n",
              "5    6          50         85.0    14115  ...      700      10    2009    average\n",
              "6    7          20         75.0    10084  ...        0       8    2007  expansive\n",
              "8    9          50         51.0     6120  ...        0       4    2008    average\n",
              "9   10         190         50.0     7420  ...        0       1    2008    average\n",
              "10  11          20         70.0    11200  ...        0       2    2008    average\n",
              "11  12          60         85.0    11924  ...        0       7    2006  expansive\n",
              "13  14          20         91.0    10652  ...        0       8    2007  expansive\n",
              "15  16          45         51.0     6120  ...        0       7    2007    average\n",
              "17  18          90         72.0    10791  ...      500      10    2006      cheap\n",
              "18  19          20         66.0    13695  ...        0       6    2008    average\n",
              "\n",
              "[15 rows x 38 columns]"
            ]
          },
          "metadata": {
            "tags": []
          },
          "execution_count": 140
        }
      ]
    },
    {
      "cell_type": "markdown",
      "metadata": {
        "id": "gqQ9DL7cmTZe"
      },
      "source": [
        "## Logistic Regression Binary Target"
      ]
    },
    {
      "cell_type": "code",
      "metadata": {
        "id": "_heJAjDwkiJv"
      },
      "source": [
        "x_is_high, y_is_high = df_to_numpy(df_is_high, target_column='SalePrice')"
      ],
      "execution_count": null,
      "outputs": []
    },
    {
      "cell_type": "markdown",
      "metadata": {
        "id": "R55iMispx6YG"
      },
      "source": [
        "# **Task 4:**\n",
        "\n",
        "- Complete the pipeline below in order to build a logistic regression model. Hint: check included modules"
      ]
    },
    {
      "cell_type": "code",
      "metadata": {
        "id": "Np_aGIaKcxpt"
      },
      "source": [
        "# create a pipeline object\n",
        "pipe = make_pipeline(\n",
        "    StandardScaler(),\n",
        "    # \n",
        ")"
      ],
      "execution_count": null,
      "outputs": []
    },
    {
      "cell_type": "markdown",
      "metadata": {
        "id": "gpYPdykmySKN"
      },
      "source": [
        "# **Task 5:**\n",
        "\n",
        "- Fit the model to the training data. Then predict it on the traing data."
      ]
    },
    {
      "cell_type": "code",
      "metadata": {
        "colab": {
          "base_uri": "https://localhost:8080/"
        },
        "id": "4O_vHwpghNCg",
        "outputId": "c4c3b02d-3c6c-4673-a1bd-5a6b9be2b098"
      },
      "source": [
        ""
      ],
      "execution_count": null,
      "outputs": [
        {
          "output_type": "execute_result",
          "data": {
            "text/plain": [
              "Pipeline(steps=[('standardscaler', StandardScaler()),\n",
              "                ('logisticregression', LogisticRegression())])"
            ]
          },
          "metadata": {
            "tags": []
          },
          "execution_count": 91
        }
      ]
    },
    {
      "cell_type": "code",
      "metadata": {
        "id": "CfLtPktohXfa"
      },
      "source": [
        "# y_is_high_pred = "
      ],
      "execution_count": null,
      "outputs": []
    },
    {
      "cell_type": "markdown",
      "metadata": {
        "id": "-8xcbWP0yhXd"
      },
      "source": [
        "# **Task 6:**\n",
        "\n",
        "- Use `accuracy_score` to evaluate the model"
      ]
    },
    {
      "cell_type": "code",
      "metadata": {
        "colab": {
          "base_uri": "https://localhost:8080/"
        },
        "id": "Ddz11PdmhUPn",
        "outputId": "8e253b0a-bb06-4e53-a2a7-13e976836f52"
      },
      "source": [
        ""
      ],
      "execution_count": null,
      "outputs": [
        {
          "output_type": "execute_result",
          "data": {
            "text/plain": [
              "0.9669937555753791"
            ]
          },
          "metadata": {
            "tags": []
          },
          "execution_count": 93
        }
      ]
    },
    {
      "cell_type": "markdown",
      "metadata": {
        "id": "AgEV8Q_aoTM0"
      },
      "source": [
        "## Logistic Regression Multiclass Target"
      ]
    },
    {
      "cell_type": "code",
      "metadata": {
        "id": "nkc16fnxo3gk"
      },
      "source": [
        "from sklearn.model_selection import cross_validate"
      ],
      "execution_count": null,
      "outputs": []
    },
    {
      "cell_type": "code",
      "metadata": {
        "id": "JgKMoImPogGq"
      },
      "source": [
        "x_price_range, y_price_range = df_to_numpy(df_price_range, target_column='SalePrice')"
      ],
      "execution_count": null,
      "outputs": []
    },
    {
      "cell_type": "markdown",
      "metadata": {
        "id": "d4YkBUaHy3CB"
      },
      "source": [
        "# **Task 7:**\n",
        "\n",
        "- Create another pipeline for a Logistic Regression model.\n",
        "- Use this pipeline to `cross_validate` the regression model using `x_price_range` and `y_price_range` data. Use 4 Folds."
      ]
    },
    {
      "cell_type": "code",
      "metadata": {
        "id": "T5WEwBe9ogHH"
      },
      "source": [
        "# create a pipeline object\n",
        "# pipe ="
      ],
      "execution_count": null,
      "outputs": []
    },
    {
      "cell_type": "code",
      "metadata": {
        "colab": {
          "base_uri": "https://localhost:8080/"
        },
        "id": "RRgLhcFBo6lU",
        "outputId": "258e4507-0c72-4a07-eb85-787ac533b0d8"
      },
      "source": [
        "# results = \n",
        "# results['test_score']"
      ],
      "execution_count": null,
      "outputs": [
        {
          "output_type": "execute_result",
          "data": {
            "text/plain": [
              "array([0.91103203, 0.92142857, 0.93214286, 0.9       ])"
            ]
          },
          "metadata": {
            "tags": []
          },
          "execution_count": 141
        }
      ]
    },
    {
      "cell_type": "markdown",
      "metadata": {
        "id": "Au-bUkdmpdN8"
      },
      "source": [
        "# Decision Trees"
      ]
    },
    {
      "cell_type": "code",
      "metadata": {
        "id": "vt35w3ROphLO"
      },
      "source": [
        "from sklearn import tree"
      ],
      "execution_count": null,
      "outputs": []
    },
    {
      "cell_type": "markdown",
      "metadata": {
        "id": "Vsx4aVUZ0Ou8"
      },
      "source": [
        "# **Task 8:**\n",
        "\n",
        "- Create a decision Tree Classifier and fit it to `x_price_range` and `y_price_range` data.\n",
        "- Plot the learned tree model"
      ]
    },
    {
      "cell_type": "code",
      "metadata": {
        "id": "_lOfQ363qEHG"
      },
      "source": [
        ""
      ],
      "execution_count": null,
      "outputs": []
    },
    {
      "cell_type": "code",
      "metadata": {
        "colab": {
          "base_uri": "https://localhost:8080/",
          "height": 248
        },
        "id": "Z89z1Lt7qUV9",
        "outputId": "55c1a273-3343-4276-cdfe-c6da5b97e3fe"
      },
      "source": [
        ""
      ],
      "execution_count": null,
      "outputs": [
        {
          "output_type": "display_data",
          "data": {
            "image/png": "[encoded data removed]",
            "text/plain": [
              "<Figure size 432x288 with 1 Axes>"
            ]
          },
          "metadata": {
            "tags": [],
            "needs_background": "light"
          }
        }
      ]
    },
    {
      "cell_type": "markdown",
      "metadata": {
        "id": "8EQsQDscsR46"
      },
      "source": [
        "## Let's Visualize the ROC Curve"
      ]
    },
    {
      "cell_type": "code",
      "metadata": {
        "id": "2NO3xRp4q2mU"
      },
      "source": [
        "import matplotlib.pyplot as plt\n",
        "\n",
        "from sklearn.ensemble import RandomForestClassifier\n",
        "from sklearn.metrics import roc_curve\n",
        "from sklearn.metrics import roc_auc_score"
      ],
      "execution_count": null,
      "outputs": []
    },
    {
      "cell_type": "code",
      "metadata": {
        "id": "R1E_fr82sgN_"
      },
      "source": [
        "def plot_roc_curve(fpr, tpr):\n",
        "    plt.plot(fpr, tpr, color='orange', label='ROC')\n",
        "    plt.plot([0, 1], [0, 1], color='darkblue', linestyle='--')\n",
        "    plt.xlabel('False Positive Rate')\n",
        "    plt.ylabel('True Positive Rate')\n",
        "    plt.title('Receiver Operating Characteristic (ROC) Curve')\n",
        "    plt.legend()\n",
        "    plt.show()"
      ],
      "execution_count": null,
      "outputs": []
    },
    {
      "cell_type": "code",
      "metadata": {
        "id": "72m4i6f-tkue"
      },
      "source": [
        "train_x, test_x, train_y, test_y = train_test_split(x_is_high, y_is_high, test_size=.3)"
      ],
      "execution_count": null,
      "outputs": []
    },
    {
      "cell_type": "markdown",
      "metadata": {
        "id": "02mJrtvr0t0N"
      },
      "source": [
        "# **Task 9:**\n",
        "\n",
        "- Use the `train_x` and `train_y` data to train a `RandomForestClassifier` model.\n",
        "- This time, **do not** use a pipeline."
      ]
    },
    {
      "cell_type": "code",
      "metadata": {
        "id": "aNRfwXhtuEUp"
      },
      "source": [
        ""
      ],
      "execution_count": null,
      "outputs": []
    },
    {
      "cell_type": "markdown",
      "metadata": {
        "id": "zPvuPzLp1NK5"
      },
      "source": [
        "# **Task 10:**\n",
        "\n",
        "- Use the probabilities of the positive class of the learn model to compute the values for displaying the `roc_curve`\n",
        "- Use the provided plot function do display the curve.\n",
        "- Compute the value of the Area Under the Curve."
      ]
    },
    {
      "cell_type": "code",
      "metadata": {
        "id": "13hg_GhguMNp"
      },
      "source": [
        ""
      ],
      "execution_count": null,
      "outputs": []
    },
    {
      "cell_type": "code",
      "metadata": {
        "id": "ZLnrWgvzuj99"
      },
      "source": [
        "# fpr, tpr, thresholds = "
      ],
      "execution_count": null,
      "outputs": []
    },
    {
      "cell_type": "code",
      "metadata": {
        "colab": {
          "base_uri": "https://localhost:8080/",
          "height": 295
        },
        "id": "S2ESD33yuoaD",
        "outputId": "3f0ee4c8-0e75-4140-e73b-3037aa2b3801"
      },
      "source": [
        ""
      ],
      "execution_count": null,
      "outputs": [
        {
          "output_type": "display_data",
          "data": {
            "image/png": "[encoded data removed]",
            "text/plain": [
              "<Figure size 432x288 with 1 Axes>"
            ]
          },
          "metadata": {
            "tags": [],
            "needs_background": "light"
          }
        }
      ]
    },
    {
      "cell_type": "code",
      "metadata": {
        "colab": {
          "base_uri": "https://localhost:8080/"
        },
        "id": "hupWGlAsuXov",
        "outputId": "e2ba422d-f185-48a9-d899-a0b8f7e8a380"
      },
      "source": [
        "auc = \n",
        "print('AUC: %.2f' % auc)"
      ],
      "execution_count": null,
      "outputs": [
        {
          "output_type": "stream",
          "text": [
            "AUC: 0.98\n"
          ],
          "name": "stdout"
        }
      ]
    }
  ]
}