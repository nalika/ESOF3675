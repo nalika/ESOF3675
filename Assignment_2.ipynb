{
  "nbformat": 4,
  "nbformat_minor": 0,
  "metadata": {
    "colab": {
      "name": "Assignment 2.ipynb",
      "provenance": [],
      "collapsed_sections": [],
      "include_colab_link": true
    },
    "kernelspec": {
      "name": "python3",
      "display_name": "Python 3"
    }
  },
  "cells": [
    {
      "cell_type": "markdown",
      "metadata": {
        "id": "view-in-github",
        "colab_type": "text"
      },
      "source": [
        "<a href=\"https://colab.research.google.com/github/nalika/ESOF3675/blob/main/Assignment_2.ipynb\" target=\"_parent\"><img src=\"https://colab.research.google.com/assets/colab-badge.svg\" alt=\"Open In Colab\"/></a>"
      ]
    },
    {
      "cell_type": "markdown",
      "metadata": {
        "id": "3QviBOHyQH5v"
      },
      "source": [
        "# Overview"
      ]
    },
    {
      "cell_type": "markdown",
      "metadata": {
        "id": "vnvTjQ7pPK88"
      },
      "source": [
        "**Objective**: This assignment is intended for students to demonstrate their understating of fundamental data preprocessing, building a Naïve Bayes Classifier, and a single hidden layer Neural Network using Python and Keras with Tensorflow Backend.\n",
        "\n",
        "**Deliverables**: A formal assignment report with code snippets, figures, and tables wherever applicable.\n",
        "\n",
        "**Note**: You may discuss the assignment problems with your classmates, but you must write the code and prepare a well-written report yourself.\n",
        "\n",
        "**Task**: Building predictive models to decide if a given day is good for an outdoor summer camping.\n"
      ]
    },
    {
      "cell_type": "markdown",
      "metadata": {
        "id": "83W0FzrOQPpd"
      },
      "source": [
        "# Step 1"
      ]
    },
    {
      "cell_type": "markdown",
      "metadata": {
        "id": "w7cYi-LhQS7_"
      },
      "source": [
        "1. Data: load the given dataset – summer_camping and perform required data preprocessing operations and visualization. `[5 points]`"
      ]
    },
    {
      "cell_type": "code",
      "metadata": {
        "id": "U53ZKhE_Vg1I"
      },
      "source": [
        "# !pip install -U plotly"
      ],
      "execution_count": null,
      "outputs": []
    },
    {
      "cell_type": "code",
      "metadata": {
        "id": "NxuWTqJEQdMA"
      },
      "source": [
        "import pandas as pd"
      ],
      "execution_count": null,
      "outputs": []
    },
    {
      "cell_type": "code",
      "metadata": {
        "id": "vHm3JpTFQdEk"
      },
      "source": [
        "# Renaming columns is needed for the training set to fix space in Camping.\n",
        "df_train = pd.read_excel('summer_camping.xlsx', index_col=0)# names=['Days', 'Outlook', 'Humidity', 'Wind', 'Camping'])\n",
        "df_test = pd.read_excel('summer_camping_test.xlsx')"
      ],
      "execution_count": null,
      "outputs": []
    },
    {
      "cell_type": "code",
      "metadata": {
        "colab": {
          "base_uri": "https://localhost:8080/",
          "height": 648
        },
        "id": "xSr7pJ2rQxCe",
        "outputId": "52851f0d-6774-4a53-8dfc-b391a1f849d8"
      },
      "source": [
        "df_train"
      ],
      "execution_count": null,
      "outputs": [
        {
          "output_type": "execute_result",
          "data": {
            "text/html": [
              "<div>\n",
              "<style scoped>\n",
              "    .dataframe tbody tr th:only-of-type {\n",
              "        vertical-align: middle;\n",
              "    }\n",
              "\n",
              "    .dataframe tbody tr th {\n",
              "        vertical-align: top;\n",
              "    }\n",
              "\n",
              "    .dataframe thead th {\n",
              "        text-align: right;\n",
              "    }\n",
              "</style>\n",
              "<table border=\"1\" class=\"dataframe\">\n",
              "  <thead>\n",
              "    <tr style=\"text-align: right;\">\n",
              "      <th></th>\n",
              "      <th>Outlook</th>\n",
              "      <th>Humidity</th>\n",
              "      <th>Wind</th>\n",
              "      <th>Camping</th>\n",
              "    </tr>\n",
              "    <tr>\n",
              "      <th>Day</th>\n",
              "      <th></th>\n",
              "      <th></th>\n",
              "      <th></th>\n",
              "      <th></th>\n",
              "    </tr>\n",
              "  </thead>\n",
              "  <tbody>\n",
              "    <tr>\n",
              "      <th>D1</th>\n",
              "      <td>Sunny</td>\n",
              "      <td>High</td>\n",
              "      <td>Weak</td>\n",
              "      <td>No</td>\n",
              "    </tr>\n",
              "    <tr>\n",
              "      <th>D2</th>\n",
              "      <td>Sunny</td>\n",
              "      <td>High</td>\n",
              "      <td>Strong</td>\n",
              "      <td>No</td>\n",
              "    </tr>\n",
              "    <tr>\n",
              "      <th>D3</th>\n",
              "      <td>Overcast</td>\n",
              "      <td>High</td>\n",
              "      <td>Weak</td>\n",
              "      <td>Yes</td>\n",
              "    </tr>\n",
              "    <tr>\n",
              "      <th>D4</th>\n",
              "      <td>Rain</td>\n",
              "      <td>Normal</td>\n",
              "      <td>Weak</td>\n",
              "      <td>Yes</td>\n",
              "    </tr>\n",
              "    <tr>\n",
              "      <th>D5</th>\n",
              "      <td>Rain</td>\n",
              "      <td>Normal</td>\n",
              "      <td>Strong</td>\n",
              "      <td>No</td>\n",
              "    </tr>\n",
              "    <tr>\n",
              "      <th>D6</th>\n",
              "      <td>Overcast</td>\n",
              "      <td>Normal</td>\n",
              "      <td>Strong</td>\n",
              "      <td>Yes</td>\n",
              "    </tr>\n",
              "    <tr>\n",
              "      <th>D7</th>\n",
              "      <td>Sunny</td>\n",
              "      <td>High</td>\n",
              "      <td>Weak</td>\n",
              "      <td>No</td>\n",
              "    </tr>\n",
              "    <tr>\n",
              "      <th>D8</th>\n",
              "      <td>Sunny</td>\n",
              "      <td>Normal</td>\n",
              "      <td>Weak</td>\n",
              "      <td>Yes</td>\n",
              "    </tr>\n",
              "    <tr>\n",
              "      <th>D9</th>\n",
              "      <td>Rain</td>\n",
              "      <td>Normal</td>\n",
              "      <td>Weak</td>\n",
              "      <td>Yes</td>\n",
              "    </tr>\n",
              "    <tr>\n",
              "      <th>D10</th>\n",
              "      <td>Sunny</td>\n",
              "      <td>Normal</td>\n",
              "      <td>Strong</td>\n",
              "      <td>Yes</td>\n",
              "    </tr>\n",
              "    <tr>\n",
              "      <th>D11</th>\n",
              "      <td>Overcast</td>\n",
              "      <td>High</td>\n",
              "      <td>Strong</td>\n",
              "      <td>Yes</td>\n",
              "    </tr>\n",
              "    <tr>\n",
              "      <th>D12</th>\n",
              "      <td>Overcast</td>\n",
              "      <td>Normal</td>\n",
              "      <td>Weak</td>\n",
              "      <td>Yes</td>\n",
              "    </tr>\n",
              "    <tr>\n",
              "      <th>D13</th>\n",
              "      <td>Rain</td>\n",
              "      <td>High</td>\n",
              "      <td>Strong</td>\n",
              "      <td>No</td>\n",
              "    </tr>\n",
              "    <tr>\n",
              "      <th>D14</th>\n",
              "      <td>Sunny</td>\n",
              "      <td>Normal</td>\n",
              "      <td>Weak</td>\n",
              "      <td>Yes</td>\n",
              "    </tr>\n",
              "    <tr>\n",
              "      <th>D15</th>\n",
              "      <td>Rain</td>\n",
              "      <td>Normal</td>\n",
              "      <td>Weak</td>\n",
              "      <td>Yes</td>\n",
              "    </tr>\n",
              "    <tr>\n",
              "      <th>D16</th>\n",
              "      <td>Sunny</td>\n",
              "      <td>Normal</td>\n",
              "      <td>Strong</td>\n",
              "      <td>Yes</td>\n",
              "    </tr>\n",
              "    <tr>\n",
              "      <th>D17</th>\n",
              "      <td>Overcast</td>\n",
              "      <td>High</td>\n",
              "      <td>Strong</td>\n",
              "      <td>Yes</td>\n",
              "    </tr>\n",
              "    <tr>\n",
              "      <th>D18</th>\n",
              "      <td>Overcast</td>\n",
              "      <td>Normal</td>\n",
              "      <td>Weak</td>\n",
              "      <td>Yes</td>\n",
              "    </tr>\n",
              "    <tr>\n",
              "      <th>D19</th>\n",
              "      <td>Rain</td>\n",
              "      <td>High</td>\n",
              "      <td>Strong</td>\n",
              "      <td>No</td>\n",
              "    </tr>\n",
              "  </tbody>\n",
              "</table>\n",
              "</div>"
            ],
            "text/plain": [
              "      Outlook Humidity    Wind Camping\n",
              "Day                                   \n",
              "D1      Sunny     High    Weak      No\n",
              "D2      Sunny     High  Strong      No\n",
              "D3   Overcast     High    Weak     Yes\n",
              "D4       Rain   Normal    Weak     Yes\n",
              "D5       Rain   Normal  Strong      No\n",
              "D6   Overcast   Normal  Strong     Yes\n",
              "D7      Sunny     High    Weak      No\n",
              "D8      Sunny   Normal    Weak     Yes\n",
              "D9       Rain   Normal    Weak     Yes\n",
              "D10     Sunny   Normal  Strong     Yes\n",
              "D11  Overcast     High  Strong     Yes\n",
              "D12  Overcast   Normal    Weak     Yes\n",
              "D13      Rain     High  Strong      No\n",
              "D14     Sunny   Normal    Weak     Yes\n",
              "D15      Rain   Normal    Weak     Yes\n",
              "D16     Sunny   Normal  Strong     Yes\n",
              "D17  Overcast     High  Strong     Yes\n",
              "D18  Overcast   Normal    Weak     Yes\n",
              "D19      Rain     High  Strong      No"
            ]
          },
          "metadata": {
            "tags": []
          },
          "execution_count": 60
        }
      ]
    },
    {
      "cell_type": "code",
      "metadata": {
        "colab": {
          "base_uri": "https://localhost:8080/",
          "height": 78
        },
        "id": "LXAC-X8yaN0Q",
        "outputId": "09e009e1-7a34-40c3-9c99-dda51ac894d3"
      },
      "source": [
        "df_test"
      ],
      "execution_count": null,
      "outputs": [
        {
          "output_type": "execute_result",
          "data": {
            "text/html": [
              "<div>\n",
              "<style scoped>\n",
              "    .dataframe tbody tr th:only-of-type {\n",
              "        vertical-align: middle;\n",
              "    }\n",
              "\n",
              "    .dataframe tbody tr th {\n",
              "        vertical-align: top;\n",
              "    }\n",
              "\n",
              "    .dataframe thead th {\n",
              "        text-align: right;\n",
              "    }\n",
              "</style>\n",
              "<table border=\"1\" class=\"dataframe\">\n",
              "  <thead>\n",
              "    <tr style=\"text-align: right;\">\n",
              "      <th></th>\n",
              "      <th>Outlook</th>\n",
              "      <th>Humidity</th>\n",
              "      <th>Wind</th>\n",
              "    </tr>\n",
              "  </thead>\n",
              "  <tbody>\n",
              "    <tr>\n",
              "      <th>0</th>\n",
              "      <td>Rain</td>\n",
              "      <td>High</td>\n",
              "      <td>Weak</td>\n",
              "    </tr>\n",
              "  </tbody>\n",
              "</table>\n",
              "</div>"
            ],
            "text/plain": [
              "  Outlook Humidity  Wind\n",
              "0    Rain     High  Weak"
            ]
          },
          "metadata": {
            "tags": []
          },
          "execution_count": 61
        }
      ]
    },
    {
      "cell_type": "code",
      "metadata": {
        "colab": {
          "base_uri": "https://localhost:8080/"
        },
        "id": "iYs2ixl0Rwv1",
        "outputId": "adacbb70-6669-4b5a-fff5-6bf791f080ed"
      },
      "source": [
        "df_train.info()"
      ],
      "execution_count": null,
      "outputs": [
        {
          "output_type": "stream",
          "text": [
            "<class 'pandas.core.frame.DataFrame'>\n",
            "Index: 19 entries, D1 to D19\n",
            "Data columns (total 4 columns):\n",
            " #   Column    Non-Null Count  Dtype \n",
            "---  ------    --------------  ----- \n",
            " 0   Outlook   19 non-null     object\n",
            " 1   Humidity  19 non-null     object\n",
            " 2   Wind      19 non-null     object\n",
            " 3   Camping   19 non-null     object\n",
            "dtypes: object(4)\n",
            "memory usage: 760.0+ bytes\n"
          ],
          "name": "stdout"
        }
      ]
    },
    {
      "cell_type": "code",
      "metadata": {
        "colab": {
          "base_uri": "https://localhost:8080/"
        },
        "id": "ejV0Ts3BaSn4",
        "outputId": "ada0370a-7ec4-4273-e619-59b85914d5a5"
      },
      "source": [
        "df_test.info()"
      ],
      "execution_count": null,
      "outputs": [
        {
          "output_type": "stream",
          "text": [
            "<class 'pandas.core.frame.DataFrame'>\n",
            "RangeIndex: 1 entries, 0 to 0\n",
            "Data columns (total 3 columns):\n",
            " #   Column    Non-Null Count  Dtype \n",
            "---  ------    --------------  ----- \n",
            " 0   Outlook   1 non-null      object\n",
            " 1   Humidity  1 non-null      object\n",
            " 2   Wind      1 non-null      object\n",
            "dtypes: object(3)\n",
            "memory usage: 152.0+ bytes\n"
          ],
          "name": "stdout"
        }
      ]
    },
    {
      "cell_type": "markdown",
      "metadata": {
        "id": "jlX-OlV_XJcV"
      },
      "source": [
        "### Pre-processing"
      ]
    },
    {
      "cell_type": "markdown",
      "metadata": {
        "id": "PgYn_fgeXJ8c"
      },
      "source": [
        "As for pre-processing, we will ensure the data is interpreted as `category`, in order to properly plot it.\n",
        "Then, converting it to numerical can be done using `sklearn.preprocessing.OrdinalEncoder`."
      ]
    },
    {
      "cell_type": "code",
      "metadata": {
        "colab": {
          "base_uri": "https://localhost:8080/"
        },
        "id": "6o-5mD4SR7jb",
        "outputId": "d8e1416e-39b9-44c9-e682-e10e9d738767"
      },
      "source": [
        "df_train = df_train.astype('category')\n",
        "df_train.info()"
      ],
      "execution_count": null,
      "outputs": [
        {
          "output_type": "stream",
          "text": [
            "<class 'pandas.core.frame.DataFrame'>\n",
            "Index: 19 entries, D1 to D19\n",
            "Data columns (total 4 columns):\n",
            " #   Column    Non-Null Count  Dtype   \n",
            "---  ------    --------------  -----   \n",
            " 0   Outlook   19 non-null     category\n",
            " 1   Humidity  19 non-null     category\n",
            " 2   Wind      19 non-null     category\n",
            " 3   Camping   19 non-null     category\n",
            "dtypes: category(4)\n",
            "memory usage: 1.2+ KB\n"
          ],
          "name": "stdout"
        }
      ]
    },
    {
      "cell_type": "code",
      "metadata": {
        "id": "GLbPTdDOhGhO"
      },
      "source": [
        "from sklearn.preprocessing import OrdinalEncoder"
      ],
      "execution_count": null,
      "outputs": []
    },
    {
      "cell_type": "code",
      "metadata": {
        "id": "MJJv2PEahT_g"
      },
      "source": [
        "df_train_x, df_train_y = df_train.drop(columns='Camping'), df_train[['Camping']]\n",
        "\n",
        "preprocessing = OrdinalEncoder()\n",
        "preprocessing.fit(df_train_x);\n",
        "\n",
        "preprocessing_target = OrdinalEncoder()\n",
        "preprocessing_target.fit(df_train_y);"
      ],
      "execution_count": null,
      "outputs": []
    },
    {
      "cell_type": "code",
      "metadata": {
        "id": "d6OF9DmPhaGa"
      },
      "source": [
        "train_x = preprocessing.transform(df_train_x)\n",
        "train_y = preprocessing_target.transform(df_train_y)\n",
        "test_x = preprocessing.transform(df_test)"
      ],
      "execution_count": null,
      "outputs": []
    },
    {
      "cell_type": "markdown",
      "metadata": {
        "id": "hTRhVoJoXocc"
      },
      "source": [
        "### Data Visualization"
      ]
    },
    {
      "cell_type": "code",
      "metadata": {
        "colab": {
          "base_uri": "https://localhost:8080/",
          "height": 417
        },
        "id": "n6BiCGERT4Hs",
        "outputId": "97176a5e-a958-486d-d860-f22cb04a4372"
      },
      "source": [
        "df_train['Camping'].hist(backend='plotly', width=800, height=400)"
      ],
      "execution_count": null,
      "outputs": [
        {
          "output_type": "display_data",
          "data": {
            "text/html": [
              "<html>\n",
              "<head><meta charset=\"utf-8\" /></head>\n",
              "<body>\n",
              "    <div>            <script src=\"https://cdnjs.cloudflare.com/ajax/libs/mathjax/2.7.5/MathJax.js?config=TeX-AMS-MML_SVG\"></script><script type=\"text/javascript\">if (window.MathJax) {MathJax.Hub.Config({SVG: {font: \"STIX-Web\"}});}</script>                <script type=\"text/javascript\">window.PlotlyConfig = {MathJaxConfig: 'local'};</script>\n",
              "        <script src=\"https://cdn.plot.ly/plotly-latest.min.js\"></script>                <div id=\"9cf76db5-4969-42f8-9fee-e3c4c78d7d56\" class=\"plotly-graph-div\" style=\"height:400px; width:800px;\"></div>            <script type=\"text/javascript\">                                    window.PLOTLYENV=window.PLOTLYENV || {};                                    if (document.getElementById(\"9cf76db5-4969-42f8-9fee-e3c4c78d7d56\")) {                    Plotly.newPlot(                        \"9cf76db5-4969-42f8-9fee-e3c4c78d7d56\",                        [{\"alignmentgroup\": \"True\", \"bingroup\": \"x\", \"hovertemplate\": \"variable=Camping<br>value=%{x}<br>count=%{y}<extra></extra>\", \"legendgroup\": \"Camping\", \"marker\": {\"color\": \"#636efa\"}, \"name\": \"Camping\", \"offsetgroup\": \"Camping\", \"orientation\": \"v\", \"showlegend\": true, \"type\": \"histogram\", \"x\": [\"No\", \"No\", \"Yes\", \"Yes\", \"No\", \"Yes\", \"No\", \"Yes\", \"Yes\", \"Yes\", \"Yes\", \"Yes\", \"No\", \"Yes\", \"Yes\", \"Yes\", \"Yes\", \"Yes\", \"No\"], \"xaxis\": \"x\", \"yaxis\": \"y\"}],                        {\"barmode\": \"relative\", \"height\": 400, \"legend\": {\"title\": {\"text\": \"variable\"}, \"tracegroupgap\": 0}, \"margin\": {\"t\": 60}, \"template\": {\"data\": {\"bar\": [{\"error_x\": {\"color\": \"#2a3f5f\"}, \"error_y\": {\"color\": \"#2a3f5f\"}, \"marker\": {\"line\": {\"color\": \"#E5ECF6\", \"width\": 0.5}}, \"type\": \"bar\"}], \"barpolar\": [{\"marker\": {\"line\": {\"color\": \"#E5ECF6\", \"width\": 0.5}}, \"type\": \"barpolar\"}], \"carpet\": [{\"aaxis\": {\"endlinecolor\": \"#2a3f5f\", \"gridcolor\": \"white\", \"linecolor\": \"white\", \"minorgridcolor\": \"white\", \"startlinecolor\": \"#2a3f5f\"}, \"baxis\": {\"endlinecolor\": \"#2a3f5f\", \"gridcolor\": \"white\", \"linecolor\": \"white\", \"minorgridcolor\": \"white\", \"startlinecolor\": \"#2a3f5f\"}, \"type\": \"carpet\"}], \"choropleth\": [{\"colorbar\": {\"outlinewidth\": 0, \"ticks\": \"\"}, \"type\": \"choropleth\"}], \"contour\": [{\"colorbar\": {\"outlinewidth\": 0, \"ticks\": \"\"}, \"colorscale\": [[0.0, \"#0d0887\"], [0.1111111111111111, \"#46039f\"], [0.2222222222222222, \"#7201a8\"], [0.3333333333333333, \"#9c179e\"], [0.4444444444444444, \"#bd3786\"], [0.5555555555555556, \"#d8576b\"], [0.6666666666666666, \"#ed7953\"], [0.7777777777777778, \"#fb9f3a\"], [0.8888888888888888, \"#fdca26\"], [1.0, \"#f0f921\"]], \"type\": \"contour\"}], \"contourcarpet\": [{\"colorbar\": {\"outlinewidth\": 0, \"ticks\": \"\"}, \"type\": \"contourcarpet\"}], \"heatmap\": [{\"colorbar\": {\"outlinewidth\": 0, \"ticks\": \"\"}, \"colorscale\": [[0.0, \"#0d0887\"], [0.1111111111111111, \"#46039f\"], [0.2222222222222222, \"#7201a8\"], [0.3333333333333333, \"#9c179e\"], [0.4444444444444444, \"#bd3786\"], [0.5555555555555556, \"#d8576b\"], [0.6666666666666666, \"#ed7953\"], [0.7777777777777778, \"#fb9f3a\"], [0.8888888888888888, \"#fdca26\"], [1.0, \"#f0f921\"]], \"type\": \"heatmap\"}], \"heatmapgl\": [{\"colorbar\": {\"outlinewidth\": 0, \"ticks\": \"\"}, \"colorscale\": [[0.0, \"#0d0887\"], [0.1111111111111111, \"#46039f\"], [0.2222222222222222, \"#7201a8\"], [0.3333333333333333, \"#9c179e\"], [0.4444444444444444, \"#bd3786\"], [0.5555555555555556, \"#d8576b\"], [0.6666666666666666, \"#ed7953\"], [0.7777777777777778, \"#fb9f3a\"], [0.8888888888888888, \"#fdca26\"], [1.0, \"#f0f921\"]], \"type\": \"heatmapgl\"}], \"histogram\": [{\"marker\": {\"colorbar\": {\"outlinewidth\": 0, \"ticks\": \"\"}}, \"type\": \"histogram\"}], \"histogram2d\": [{\"colorbar\": {\"outlinewidth\": 0, \"ticks\": \"\"}, \"colorscale\": [[0.0, \"#0d0887\"], [0.1111111111111111, \"#46039f\"], [0.2222222222222222, \"#7201a8\"], [0.3333333333333333, \"#9c179e\"], [0.4444444444444444, \"#bd3786\"], [0.5555555555555556, \"#d8576b\"], [0.6666666666666666, \"#ed7953\"], [0.7777777777777778, \"#fb9f3a\"], [0.8888888888888888, \"#fdca26\"], [1.0, \"#f0f921\"]], \"type\": \"histogram2d\"}], \"histogram2dcontour\": [{\"colorbar\": {\"outlinewidth\": 0, \"ticks\": \"\"}, \"colorscale\": [[0.0, \"#0d0887\"], [0.1111111111111111, \"#46039f\"], [0.2222222222222222, \"#7201a8\"], [0.3333333333333333, \"#9c179e\"], [0.4444444444444444, \"#bd3786\"], [0.5555555555555556, \"#d8576b\"], [0.6666666666666666, \"#ed7953\"], [0.7777777777777778, \"#fb9f3a\"], [0.8888888888888888, \"#fdca26\"], [1.0, \"#f0f921\"]], \"type\": \"histogram2dcontour\"}], \"mesh3d\": [{\"colorbar\": {\"outlinewidth\": 0, \"ticks\": \"\"}, \"type\": \"mesh3d\"}], \"parcoords\": [{\"line\": {\"colorbar\": {\"outlinewidth\": 0, \"ticks\": \"\"}}, \"type\": \"parcoords\"}], \"pie\": [{\"automargin\": true, \"type\": \"pie\"}], \"scatter\": [{\"marker\": {\"colorbar\": {\"outlinewidth\": 0, \"ticks\": \"\"}}, \"type\": \"scatter\"}], \"scatter3d\": [{\"line\": {\"colorbar\": {\"outlinewidth\": 0, \"ticks\": \"\"}}, \"marker\": {\"colorbar\": {\"outlinewidth\": 0, \"ticks\": \"\"}}, \"type\": \"scatter3d\"}], \"scattercarpet\": [{\"marker\": {\"colorbar\": {\"outlinewidth\": 0, \"ticks\": \"\"}}, \"type\": \"scattercarpet\"}], \"scattergeo\": [{\"marker\": {\"colorbar\": {\"outlinewidth\": 0, \"ticks\": \"\"}}, \"type\": \"scattergeo\"}], \"scattergl\": [{\"marker\": {\"colorbar\": {\"outlinewidth\": 0, \"ticks\": \"\"}}, \"type\": \"scattergl\"}], \"scattermapbox\": [{\"marker\": {\"colorbar\": {\"outlinewidth\": 0, \"ticks\": \"\"}}, \"type\": \"scattermapbox\"}], \"scatterpolar\": [{\"marker\": {\"colorbar\": {\"outlinewidth\": 0, \"ticks\": \"\"}}, \"type\": \"scatterpolar\"}], \"scatterpolargl\": [{\"marker\": {\"colorbar\": {\"outlinewidth\": 0, \"ticks\": \"\"}}, \"type\": \"scatterpolargl\"}], \"scatterternary\": [{\"marker\": {\"colorbar\": {\"outlinewidth\": 0, \"ticks\": \"\"}}, \"type\": \"scatterternary\"}], \"surface\": [{\"colorbar\": {\"outlinewidth\": 0, \"ticks\": \"\"}, \"colorscale\": [[0.0, \"#0d0887\"], [0.1111111111111111, \"#46039f\"], [0.2222222222222222, \"#7201a8\"], [0.3333333333333333, \"#9c179e\"], [0.4444444444444444, \"#bd3786\"], [0.5555555555555556, \"#d8576b\"], [0.6666666666666666, \"#ed7953\"], [0.7777777777777778, \"#fb9f3a\"], [0.8888888888888888, \"#fdca26\"], [1.0, \"#f0f921\"]], \"type\": \"surface\"}], \"table\": [{\"cells\": {\"fill\": {\"color\": \"#EBF0F8\"}, \"line\": {\"color\": \"white\"}}, \"header\": {\"fill\": {\"color\": \"#C8D4E3\"}, \"line\": {\"color\": \"white\"}}, \"type\": \"table\"}]}, \"layout\": {\"annotationdefaults\": {\"arrowcolor\": \"#2a3f5f\", \"arrowhead\": 0, \"arrowwidth\": 1}, \"autotypenumbers\": \"strict\", \"coloraxis\": {\"colorbar\": {\"outlinewidth\": 0, \"ticks\": \"\"}}, \"colorscale\": {\"diverging\": [[0, \"#8e0152\"], [0.1, \"#c51b7d\"], [0.2, \"#de77ae\"], [0.3, \"#f1b6da\"], [0.4, \"#fde0ef\"], [0.5, \"#f7f7f7\"], [0.6, \"#e6f5d0\"], [0.7, \"#b8e186\"], [0.8, \"#7fbc41\"], [0.9, \"#4d9221\"], [1, \"#276419\"]], \"sequential\": [[0.0, \"#0d0887\"], [0.1111111111111111, \"#46039f\"], [0.2222222222222222, \"#7201a8\"], [0.3333333333333333, \"#9c179e\"], [0.4444444444444444, \"#bd3786\"], [0.5555555555555556, \"#d8576b\"], [0.6666666666666666, \"#ed7953\"], [0.7777777777777778, \"#fb9f3a\"], [0.8888888888888888, \"#fdca26\"], [1.0, \"#f0f921\"]], \"sequentialminus\": [[0.0, \"#0d0887\"], [0.1111111111111111, \"#46039f\"], [0.2222222222222222, \"#7201a8\"], [0.3333333333333333, \"#9c179e\"], [0.4444444444444444, \"#bd3786\"], [0.5555555555555556, \"#d8576b\"], [0.6666666666666666, \"#ed7953\"], [0.7777777777777778, \"#fb9f3a\"], [0.8888888888888888, \"#fdca26\"], [1.0, \"#f0f921\"]]}, \"colorway\": [\"#636efa\", \"#EF553B\", \"#00cc96\", \"#ab63fa\", \"#FFA15A\", \"#19d3f3\", \"#FF6692\", \"#B6E880\", \"#FF97FF\", \"#FECB52\"], \"font\": {\"color\": \"#2a3f5f\"}, \"geo\": {\"bgcolor\": \"white\", \"lakecolor\": \"white\", \"landcolor\": \"#E5ECF6\", \"showlakes\": true, \"showland\": true, \"subunitcolor\": \"white\"}, \"hoverlabel\": {\"align\": \"left\"}, \"hovermode\": \"closest\", \"mapbox\": {\"style\": \"light\"}, \"paper_bgcolor\": \"white\", \"plot_bgcolor\": \"#E5ECF6\", \"polar\": {\"angularaxis\": {\"gridcolor\": \"white\", \"linecolor\": \"white\", \"ticks\": \"\"}, \"bgcolor\": \"#E5ECF6\", \"radialaxis\": {\"gridcolor\": \"white\", \"linecolor\": \"white\", \"ticks\": \"\"}}, \"scene\": {\"xaxis\": {\"backgroundcolor\": \"#E5ECF6\", \"gridcolor\": \"white\", \"gridwidth\": 2, \"linecolor\": \"white\", \"showbackground\": true, \"ticks\": \"\", \"zerolinecolor\": \"white\"}, \"yaxis\": {\"backgroundcolor\": \"#E5ECF6\", \"gridcolor\": \"white\", \"gridwidth\": 2, \"linecolor\": \"white\", \"showbackground\": true, \"ticks\": \"\", \"zerolinecolor\": \"white\"}, \"zaxis\": {\"backgroundcolor\": \"#E5ECF6\", \"gridcolor\": \"white\", \"gridwidth\": 2, \"linecolor\": \"white\", \"showbackground\": true, \"ticks\": \"\", \"zerolinecolor\": \"white\"}}, \"shapedefaults\": {\"line\": {\"color\": \"#2a3f5f\"}}, \"ternary\": {\"aaxis\": {\"gridcolor\": \"white\", \"linecolor\": \"white\", \"ticks\": \"\"}, \"baxis\": {\"gridcolor\": \"white\", \"linecolor\": \"white\", \"ticks\": \"\"}, \"bgcolor\": \"#E5ECF6\", \"caxis\": {\"gridcolor\": \"white\", \"linecolor\": \"white\", \"ticks\": \"\"}}, \"title\": {\"x\": 0.05}, \"xaxis\": {\"automargin\": true, \"gridcolor\": \"white\", \"linecolor\": \"white\", \"ticks\": \"\", \"title\": {\"standoff\": 15}, \"zerolinecolor\": \"white\", \"zerolinewidth\": 2}, \"yaxis\": {\"automargin\": true, \"gridcolor\": \"white\", \"linecolor\": \"white\", \"ticks\": \"\", \"title\": {\"standoff\": 15}, \"zerolinecolor\": \"white\", \"zerolinewidth\": 2}}}, \"width\": 800, \"xaxis\": {\"anchor\": \"y\", \"domain\": [0.0, 1.0], \"title\": {\"text\": \"value\"}}, \"yaxis\": {\"anchor\": \"x\", \"domain\": [0.0, 1.0], \"title\": {\"text\": \"count\"}}},                        {\"responsive\": true}                    ).then(function(){\n",
              "                            \n",
              "var gd = document.getElementById('9cf76db5-4969-42f8-9fee-e3c4c78d7d56');\n",
              "var x = new MutationObserver(function (mutations, observer) {{\n",
              "        var display = window.getComputedStyle(gd).display;\n",
              "        if (!display || display === 'none') {{\n",
              "            console.log([gd, 'removed!']);\n",
              "            Plotly.purge(gd);\n",
              "            observer.disconnect();\n",
              "        }}\n",
              "}});\n",
              "\n",
              "// Listen for the removal of the full notebook cells\n",
              "var notebookContainer = gd.closest('#notebook-container');\n",
              "if (notebookContainer) {{\n",
              "    x.observe(notebookContainer, {childList: true});\n",
              "}}\n",
              "\n",
              "// Listen for the clearing of the current output cell\n",
              "var outputEl = gd.closest('.output');\n",
              "if (outputEl) {{\n",
              "    x.observe(outputEl, {childList: true});\n",
              "}}\n",
              "\n",
              "                        })                };                            </script>        </div>\n",
              "</body>\n",
              "</html>"
            ]
          },
          "metadata": {
            "tags": []
          }
        }
      ]
    },
    {
      "cell_type": "code",
      "metadata": {
        "colab": {
          "base_uri": "https://localhost:8080/",
          "height": 417
        },
        "id": "Wq6vljkBWAPk",
        "outputId": "9491e3fb-eb78-41da-b543-93d792c8acf5"
      },
      "source": [
        "df_train['Wind'].hist(backend='plotly', width=800, height=400)"
      ],
      "execution_count": null,
      "outputs": [
        {
          "output_type": "display_data",
          "data": {
            "text/html": [
              "<html>\n",
              "<head><meta charset=\"utf-8\" /></head>\n",
              "<body>\n",
              "    <div>            <script src=\"https://cdnjs.cloudflare.com/ajax/libs/mathjax/2.7.5/MathJax.js?config=TeX-AMS-MML_SVG\"></script><script type=\"text/javascript\">if (window.MathJax) {MathJax.Hub.Config({SVG: {font: \"STIX-Web\"}});}</script>                <script type=\"text/javascript\">window.PlotlyConfig = {MathJaxConfig: 'local'};</script>\n",
              "        <script src=\"https://cdn.plot.ly/plotly-latest.min.js\"></script>                <div id=\"5a94b3d3-b66a-4227-b742-5113790c3540\" class=\"plotly-graph-div\" style=\"height:400px; width:800px;\"></div>            <script type=\"text/javascript\">                                    window.PLOTLYENV=window.PLOTLYENV || {};                                    if (document.getElementById(\"5a94b3d3-b66a-4227-b742-5113790c3540\")) {                    Plotly.newPlot(                        \"5a94b3d3-b66a-4227-b742-5113790c3540\",                        [{\"alignmentgroup\": \"True\", \"bingroup\": \"x\", \"hovertemplate\": \"variable=Wind<br>value=%{x}<br>count=%{y}<extra></extra>\", \"legendgroup\": \"Wind\", \"marker\": {\"color\": \"#636efa\"}, \"name\": \"Wind\", \"offsetgroup\": \"Wind\", \"orientation\": \"v\", \"showlegend\": true, \"type\": \"histogram\", \"x\": [\"Weak\", \"Strong\", \"Weak\", \"Weak\", \"Strong\", \"Strong\", \"Weak\", \"Weak\", \"Weak\", \"Strong\", \"Strong\", \"Weak\", \"Strong\", \"Weak\", \"Weak\", \"Strong\", \"Strong\", \"Weak\", \"Strong\"], \"xaxis\": \"x\", \"yaxis\": \"y\"}],                        {\"barmode\": \"relative\", \"height\": 400, \"legend\": {\"title\": {\"text\": \"variable\"}, \"tracegroupgap\": 0}, \"margin\": {\"t\": 60}, \"template\": {\"data\": {\"bar\": [{\"error_x\": {\"color\": \"#2a3f5f\"}, \"error_y\": {\"color\": \"#2a3f5f\"}, \"marker\": {\"line\": {\"color\": \"#E5ECF6\", \"width\": 0.5}}, \"type\": \"bar\"}], \"barpolar\": [{\"marker\": {\"line\": {\"color\": \"#E5ECF6\", \"width\": 0.5}}, \"type\": \"barpolar\"}], \"carpet\": [{\"aaxis\": {\"endlinecolor\": \"#2a3f5f\", \"gridcolor\": \"white\", \"linecolor\": \"white\", \"minorgridcolor\": \"white\", \"startlinecolor\": \"#2a3f5f\"}, \"baxis\": {\"endlinecolor\": \"#2a3f5f\", \"gridcolor\": \"white\", \"linecolor\": \"white\", \"minorgridcolor\": \"white\", \"startlinecolor\": \"#2a3f5f\"}, \"type\": \"carpet\"}], \"choropleth\": [{\"colorbar\": {\"outlinewidth\": 0, \"ticks\": \"\"}, \"type\": \"choropleth\"}], \"contour\": [{\"colorbar\": {\"outlinewidth\": 0, \"ticks\": \"\"}, \"colorscale\": [[0.0, \"#0d0887\"], [0.1111111111111111, \"#46039f\"], [0.2222222222222222, \"#7201a8\"], [0.3333333333333333, \"#9c179e\"], [0.4444444444444444, \"#bd3786\"], [0.5555555555555556, \"#d8576b\"], [0.6666666666666666, \"#ed7953\"], [0.7777777777777778, \"#fb9f3a\"], [0.8888888888888888, \"#fdca26\"], [1.0, \"#f0f921\"]], \"type\": \"contour\"}], \"contourcarpet\": [{\"colorbar\": {\"outlinewidth\": 0, \"ticks\": \"\"}, \"type\": \"contourcarpet\"}], \"heatmap\": [{\"colorbar\": {\"outlinewidth\": 0, \"ticks\": \"\"}, \"colorscale\": [[0.0, \"#0d0887\"], [0.1111111111111111, \"#46039f\"], [0.2222222222222222, \"#7201a8\"], [0.3333333333333333, \"#9c179e\"], [0.4444444444444444, \"#bd3786\"], [0.5555555555555556, \"#d8576b\"], [0.6666666666666666, \"#ed7953\"], [0.7777777777777778, \"#fb9f3a\"], [0.8888888888888888, \"#fdca26\"], [1.0, \"#f0f921\"]], \"type\": \"heatmap\"}], \"heatmapgl\": [{\"colorbar\": {\"outlinewidth\": 0, \"ticks\": \"\"}, \"colorscale\": [[0.0, \"#0d0887\"], [0.1111111111111111, \"#46039f\"], [0.2222222222222222, \"#7201a8\"], [0.3333333333333333, \"#9c179e\"], [0.4444444444444444, \"#bd3786\"], [0.5555555555555556, \"#d8576b\"], [0.6666666666666666, \"#ed7953\"], [0.7777777777777778, \"#fb9f3a\"], [0.8888888888888888, \"#fdca26\"], [1.0, \"#f0f921\"]], \"type\": \"heatmapgl\"}], \"histogram\": [{\"marker\": {\"colorbar\": {\"outlinewidth\": 0, \"ticks\": \"\"}}, \"type\": \"histogram\"}], \"histogram2d\": [{\"colorbar\": {\"outlinewidth\": 0, \"ticks\": \"\"}, \"colorscale\": [[0.0, \"#0d0887\"], [0.1111111111111111, \"#46039f\"], [0.2222222222222222, \"#7201a8\"], [0.3333333333333333, \"#9c179e\"], [0.4444444444444444, \"#bd3786\"], [0.5555555555555556, \"#d8576b\"], [0.6666666666666666, \"#ed7953\"], [0.7777777777777778, \"#fb9f3a\"], [0.8888888888888888, \"#fdca26\"], [1.0, \"#f0f921\"]], \"type\": \"histogram2d\"}], \"histogram2dcontour\": [{\"colorbar\": {\"outlinewidth\": 0, \"ticks\": \"\"}, \"colorscale\": [[0.0, \"#0d0887\"], [0.1111111111111111, \"#46039f\"], [0.2222222222222222, \"#7201a8\"], [0.3333333333333333, \"#9c179e\"], [0.4444444444444444, \"#bd3786\"], [0.5555555555555556, \"#d8576b\"], [0.6666666666666666, \"#ed7953\"], [0.7777777777777778, \"#fb9f3a\"], [0.8888888888888888, \"#fdca26\"], [1.0, \"#f0f921\"]], \"type\": \"histogram2dcontour\"}], \"mesh3d\": [{\"colorbar\": {\"outlinewidth\": 0, \"ticks\": \"\"}, \"type\": \"mesh3d\"}], \"parcoords\": [{\"line\": {\"colorbar\": {\"outlinewidth\": 0, \"ticks\": \"\"}}, \"type\": \"parcoords\"}], \"pie\": [{\"automargin\": true, \"type\": \"pie\"}], \"scatter\": [{\"marker\": {\"colorbar\": {\"outlinewidth\": 0, \"ticks\": \"\"}}, \"type\": \"scatter\"}], \"scatter3d\": [{\"line\": {\"colorbar\": {\"outlinewidth\": 0, \"ticks\": \"\"}}, \"marker\": {\"colorbar\": {\"outlinewidth\": 0, \"ticks\": \"\"}}, \"type\": \"scatter3d\"}], \"scattercarpet\": [{\"marker\": {\"colorbar\": {\"outlinewidth\": 0, \"ticks\": \"\"}}, \"type\": \"scattercarpet\"}], \"scattergeo\": [{\"marker\": {\"colorbar\": {\"outlinewidth\": 0, \"ticks\": \"\"}}, \"type\": \"scattergeo\"}], \"scattergl\": [{\"marker\": {\"colorbar\": {\"outlinewidth\": 0, \"ticks\": \"\"}}, \"type\": \"scattergl\"}], \"scattermapbox\": [{\"marker\": {\"colorbar\": {\"outlinewidth\": 0, \"ticks\": \"\"}}, \"type\": \"scattermapbox\"}], \"scatterpolar\": [{\"marker\": {\"colorbar\": {\"outlinewidth\": 0, \"ticks\": \"\"}}, \"type\": \"scatterpolar\"}], \"scatterpolargl\": [{\"marker\": {\"colorbar\": {\"outlinewidth\": 0, \"ticks\": \"\"}}, \"type\": \"scatterpolargl\"}], \"scatterternary\": [{\"marker\": {\"colorbar\": {\"outlinewidth\": 0, \"ticks\": \"\"}}, \"type\": \"scatterternary\"}], \"surface\": [{\"colorbar\": {\"outlinewidth\": 0, \"ticks\": \"\"}, \"colorscale\": [[0.0, \"#0d0887\"], [0.1111111111111111, \"#46039f\"], [0.2222222222222222, \"#7201a8\"], [0.3333333333333333, \"#9c179e\"], [0.4444444444444444, \"#bd3786\"], [0.5555555555555556, \"#d8576b\"], [0.6666666666666666, \"#ed7953\"], [0.7777777777777778, \"#fb9f3a\"], [0.8888888888888888, \"#fdca26\"], [1.0, \"#f0f921\"]], \"type\": \"surface\"}], \"table\": [{\"cells\": {\"fill\": {\"color\": \"#EBF0F8\"}, \"line\": {\"color\": \"white\"}}, \"header\": {\"fill\": {\"color\": \"#C8D4E3\"}, \"line\": {\"color\": \"white\"}}, \"type\": \"table\"}]}, \"layout\": {\"annotationdefaults\": {\"arrowcolor\": \"#2a3f5f\", \"arrowhead\": 0, \"arrowwidth\": 1}, \"autotypenumbers\": \"strict\", \"coloraxis\": {\"colorbar\": {\"outlinewidth\": 0, \"ticks\": \"\"}}, \"colorscale\": {\"diverging\": [[0, \"#8e0152\"], [0.1, \"#c51b7d\"], [0.2, \"#de77ae\"], [0.3, \"#f1b6da\"], [0.4, \"#fde0ef\"], [0.5, \"#f7f7f7\"], [0.6, \"#e6f5d0\"], [0.7, \"#b8e186\"], [0.8, \"#7fbc41\"], [0.9, \"#4d9221\"], [1, \"#276419\"]], \"sequential\": [[0.0, \"#0d0887\"], [0.1111111111111111, \"#46039f\"], [0.2222222222222222, \"#7201a8\"], [0.3333333333333333, \"#9c179e\"], [0.4444444444444444, \"#bd3786\"], [0.5555555555555556, \"#d8576b\"], [0.6666666666666666, \"#ed7953\"], [0.7777777777777778, \"#fb9f3a\"], [0.8888888888888888, \"#fdca26\"], [1.0, \"#f0f921\"]], \"sequentialminus\": [[0.0, \"#0d0887\"], [0.1111111111111111, \"#46039f\"], [0.2222222222222222, \"#7201a8\"], [0.3333333333333333, \"#9c179e\"], [0.4444444444444444, \"#bd3786\"], [0.5555555555555556, \"#d8576b\"], [0.6666666666666666, \"#ed7953\"], [0.7777777777777778, \"#fb9f3a\"], [0.8888888888888888, \"#fdca26\"], [1.0, \"#f0f921\"]]}, \"colorway\": [\"#636efa\", \"#EF553B\", \"#00cc96\", \"#ab63fa\", \"#FFA15A\", \"#19d3f3\", \"#FF6692\", \"#B6E880\", \"#FF97FF\", \"#FECB52\"], \"font\": {\"color\": \"#2a3f5f\"}, \"geo\": {\"bgcolor\": \"white\", \"lakecolor\": \"white\", \"landcolor\": \"#E5ECF6\", \"showlakes\": true, \"showland\": true, \"subunitcolor\": \"white\"}, \"hoverlabel\": {\"align\": \"left\"}, \"hovermode\": \"closest\", \"mapbox\": {\"style\": \"light\"}, \"paper_bgcolor\": \"white\", \"plot_bgcolor\": \"#E5ECF6\", \"polar\": {\"angularaxis\": {\"gridcolor\": \"white\", \"linecolor\": \"white\", \"ticks\": \"\"}, \"bgcolor\": \"#E5ECF6\", \"radialaxis\": {\"gridcolor\": \"white\", \"linecolor\": \"white\", \"ticks\": \"\"}}, \"scene\": {\"xaxis\": {\"backgroundcolor\": \"#E5ECF6\", \"gridcolor\": \"white\", \"gridwidth\": 2, \"linecolor\": \"white\", \"showbackground\": true, \"ticks\": \"\", \"zerolinecolor\": \"white\"}, \"yaxis\": {\"backgroundcolor\": \"#E5ECF6\", \"gridcolor\": \"white\", \"gridwidth\": 2, \"linecolor\": \"white\", \"showbackground\": true, \"ticks\": \"\", \"zerolinecolor\": \"white\"}, \"zaxis\": {\"backgroundcolor\": \"#E5ECF6\", \"gridcolor\": \"white\", \"gridwidth\": 2, \"linecolor\": \"white\", \"showbackground\": true, \"ticks\": \"\", \"zerolinecolor\": \"white\"}}, \"shapedefaults\": {\"line\": {\"color\": \"#2a3f5f\"}}, \"ternary\": {\"aaxis\": {\"gridcolor\": \"white\", \"linecolor\": \"white\", \"ticks\": \"\"}, \"baxis\": {\"gridcolor\": \"white\", \"linecolor\": \"white\", \"ticks\": \"\"}, \"bgcolor\": \"#E5ECF6\", \"caxis\": {\"gridcolor\": \"white\", \"linecolor\": \"white\", \"ticks\": \"\"}}, \"title\": {\"x\": 0.05}, \"xaxis\": {\"automargin\": true, \"gridcolor\": \"white\", \"linecolor\": \"white\", \"ticks\": \"\", \"title\": {\"standoff\": 15}, \"zerolinecolor\": \"white\", \"zerolinewidth\": 2}, \"yaxis\": {\"automargin\": true, \"gridcolor\": \"white\", \"linecolor\": \"white\", \"ticks\": \"\", \"title\": {\"standoff\": 15}, \"zerolinecolor\": \"white\", \"zerolinewidth\": 2}}}, \"width\": 800, \"xaxis\": {\"anchor\": \"y\", \"domain\": [0.0, 1.0], \"title\": {\"text\": \"value\"}}, \"yaxis\": {\"anchor\": \"x\", \"domain\": [0.0, 1.0], \"title\": {\"text\": \"count\"}}},                        {\"responsive\": true}                    ).then(function(){\n",
              "                            \n",
              "var gd = document.getElementById('5a94b3d3-b66a-4227-b742-5113790c3540');\n",
              "var x = new MutationObserver(function (mutations, observer) {{\n",
              "        var display = window.getComputedStyle(gd).display;\n",
              "        if (!display || display === 'none') {{\n",
              "            console.log([gd, 'removed!']);\n",
              "            Plotly.purge(gd);\n",
              "            observer.disconnect();\n",
              "        }}\n",
              "}});\n",
              "\n",
              "// Listen for the removal of the full notebook cells\n",
              "var notebookContainer = gd.closest('#notebook-container');\n",
              "if (notebookContainer) {{\n",
              "    x.observe(notebookContainer, {childList: true});\n",
              "}}\n",
              "\n",
              "// Listen for the clearing of the current output cell\n",
              "var outputEl = gd.closest('.output');\n",
              "if (outputEl) {{\n",
              "    x.observe(outputEl, {childList: true});\n",
              "}}\n",
              "\n",
              "                        })                };                            </script>        </div>\n",
              "</body>\n",
              "</html>"
            ]
          },
          "metadata": {
            "tags": []
          }
        }
      ]
    },
    {
      "cell_type": "code",
      "metadata": {
        "colab": {
          "base_uri": "https://localhost:8080/",
          "height": 417
        },
        "id": "04o3ASZBWAqz",
        "outputId": "6eb09ccd-ccd4-492d-f156-cc6af2299d95"
      },
      "source": [
        "df_train['Humidity'].hist(backend='plotly', width=800, height=400)"
      ],
      "execution_count": null,
      "outputs": [
        {
          "output_type": "display_data",
          "data": {
            "text/html": [
              "<html>\n",
              "<head><meta charset=\"utf-8\" /></head>\n",
              "<body>\n",
              "    <div>            <script src=\"https://cdnjs.cloudflare.com/ajax/libs/mathjax/2.7.5/MathJax.js?config=TeX-AMS-MML_SVG\"></script><script type=\"text/javascript\">if (window.MathJax) {MathJax.Hub.Config({SVG: {font: \"STIX-Web\"}});}</script>                <script type=\"text/javascript\">window.PlotlyConfig = {MathJaxConfig: 'local'};</script>\n",
              "        <script src=\"https://cdn.plot.ly/plotly-latest.min.js\"></script>                <div id=\"97581c7b-a05d-4964-9341-e8f8e2b832b3\" class=\"plotly-graph-div\" style=\"height:400px; width:800px;\"></div>            <script type=\"text/javascript\">                                    window.PLOTLYENV=window.PLOTLYENV || {};                                    if (document.getElementById(\"97581c7b-a05d-4964-9341-e8f8e2b832b3\")) {                    Plotly.newPlot(                        \"97581c7b-a05d-4964-9341-e8f8e2b832b3\",                        [{\"alignmentgroup\": \"True\", \"bingroup\": \"x\", \"hovertemplate\": \"variable=Humidity<br>value=%{x}<br>count=%{y}<extra></extra>\", \"legendgroup\": \"Humidity\", \"marker\": {\"color\": \"#636efa\"}, \"name\": \"Humidity\", \"offsetgroup\": \"Humidity\", \"orientation\": \"v\", \"showlegend\": true, \"type\": \"histogram\", \"x\": [\"High\", \"High\", \"High\", \"Normal\", \"Normal\", \"Normal\", \"High\", \"Normal\", \"Normal\", \"Normal\", \"High\", \"Normal\", \"High\", \"Normal\", \"Normal\", \"Normal\", \"High\", \"Normal\", \"High\"], \"xaxis\": \"x\", \"yaxis\": \"y\"}],                        {\"barmode\": \"relative\", \"height\": 400, \"legend\": {\"title\": {\"text\": \"variable\"}, \"tracegroupgap\": 0}, \"margin\": {\"t\": 60}, \"template\": {\"data\": {\"bar\": [{\"error_x\": {\"color\": \"#2a3f5f\"}, \"error_y\": {\"color\": \"#2a3f5f\"}, \"marker\": {\"line\": {\"color\": \"#E5ECF6\", \"width\": 0.5}}, \"type\": \"bar\"}], \"barpolar\": [{\"marker\": {\"line\": {\"color\": \"#E5ECF6\", \"width\": 0.5}}, \"type\": \"barpolar\"}], \"carpet\": [{\"aaxis\": {\"endlinecolor\": \"#2a3f5f\", \"gridcolor\": \"white\", \"linecolor\": \"white\", \"minorgridcolor\": \"white\", \"startlinecolor\": \"#2a3f5f\"}, \"baxis\": {\"endlinecolor\": \"#2a3f5f\", \"gridcolor\": \"white\", \"linecolor\": \"white\", \"minorgridcolor\": \"white\", \"startlinecolor\": \"#2a3f5f\"}, \"type\": \"carpet\"}], \"choropleth\": [{\"colorbar\": {\"outlinewidth\": 0, \"ticks\": \"\"}, \"type\": \"choropleth\"}], \"contour\": [{\"colorbar\": {\"outlinewidth\": 0, \"ticks\": \"\"}, \"colorscale\": [[0.0, \"#0d0887\"], [0.1111111111111111, \"#46039f\"], [0.2222222222222222, \"#7201a8\"], [0.3333333333333333, \"#9c179e\"], [0.4444444444444444, \"#bd3786\"], [0.5555555555555556, \"#d8576b\"], [0.6666666666666666, \"#ed7953\"], [0.7777777777777778, \"#fb9f3a\"], [0.8888888888888888, \"#fdca26\"], [1.0, \"#f0f921\"]], \"type\": \"contour\"}], \"contourcarpet\": [{\"colorbar\": {\"outlinewidth\": 0, \"ticks\": \"\"}, \"type\": \"contourcarpet\"}], \"heatmap\": [{\"colorbar\": {\"outlinewidth\": 0, \"ticks\": \"\"}, \"colorscale\": [[0.0, \"#0d0887\"], [0.1111111111111111, \"#46039f\"], [0.2222222222222222, \"#7201a8\"], [0.3333333333333333, \"#9c179e\"], [0.4444444444444444, \"#bd3786\"], [0.5555555555555556, \"#d8576b\"], [0.6666666666666666, \"#ed7953\"], [0.7777777777777778, \"#fb9f3a\"], [0.8888888888888888, \"#fdca26\"], [1.0, \"#f0f921\"]], \"type\": \"heatmap\"}], \"heatmapgl\": [{\"colorbar\": {\"outlinewidth\": 0, \"ticks\": \"\"}, \"colorscale\": [[0.0, \"#0d0887\"], [0.1111111111111111, \"#46039f\"], [0.2222222222222222, \"#7201a8\"], [0.3333333333333333, \"#9c179e\"], [0.4444444444444444, \"#bd3786\"], [0.5555555555555556, \"#d8576b\"], [0.6666666666666666, \"#ed7953\"], [0.7777777777777778, \"#fb9f3a\"], [0.8888888888888888, \"#fdca26\"], [1.0, \"#f0f921\"]], \"type\": \"heatmapgl\"}], \"histogram\": [{\"marker\": {\"colorbar\": {\"outlinewidth\": 0, \"ticks\": \"\"}}, \"type\": \"histogram\"}], \"histogram2d\": [{\"colorbar\": {\"outlinewidth\": 0, \"ticks\": \"\"}, \"colorscale\": [[0.0, \"#0d0887\"], [0.1111111111111111, \"#46039f\"], [0.2222222222222222, \"#7201a8\"], [0.3333333333333333, \"#9c179e\"], [0.4444444444444444, \"#bd3786\"], [0.5555555555555556, \"#d8576b\"], [0.6666666666666666, \"#ed7953\"], [0.7777777777777778, \"#fb9f3a\"], [0.8888888888888888, \"#fdca26\"], [1.0, \"#f0f921\"]], \"type\": \"histogram2d\"}], \"histogram2dcontour\": [{\"colorbar\": {\"outlinewidth\": 0, \"ticks\": \"\"}, \"colorscale\": [[0.0, \"#0d0887\"], [0.1111111111111111, \"#46039f\"], [0.2222222222222222, \"#7201a8\"], [0.3333333333333333, \"#9c179e\"], [0.4444444444444444, \"#bd3786\"], [0.5555555555555556, \"#d8576b\"], [0.6666666666666666, \"#ed7953\"], [0.7777777777777778, \"#fb9f3a\"], [0.8888888888888888, \"#fdca26\"], [1.0, \"#f0f921\"]], \"type\": \"histogram2dcontour\"}], \"mesh3d\": [{\"colorbar\": {\"outlinewidth\": 0, \"ticks\": \"\"}, \"type\": \"mesh3d\"}], \"parcoords\": [{\"line\": {\"colorbar\": {\"outlinewidth\": 0, \"ticks\": \"\"}}, \"type\": \"parcoords\"}], \"pie\": [{\"automargin\": true, \"type\": \"pie\"}], \"scatter\": [{\"marker\": {\"colorbar\": {\"outlinewidth\": 0, \"ticks\": \"\"}}, \"type\": \"scatter\"}], \"scatter3d\": [{\"line\": {\"colorbar\": {\"outlinewidth\": 0, \"ticks\": \"\"}}, \"marker\": {\"colorbar\": {\"outlinewidth\": 0, \"ticks\": \"\"}}, \"type\": \"scatter3d\"}], \"scattercarpet\": [{\"marker\": {\"colorbar\": {\"outlinewidth\": 0, \"ticks\": \"\"}}, \"type\": \"scattercarpet\"}], \"scattergeo\": [{\"marker\": {\"colorbar\": {\"outlinewidth\": 0, \"ticks\": \"\"}}, \"type\": \"scattergeo\"}], \"scattergl\": [{\"marker\": {\"colorbar\": {\"outlinewidth\": 0, \"ticks\": \"\"}}, \"type\": \"scattergl\"}], \"scattermapbox\": [{\"marker\": {\"colorbar\": {\"outlinewidth\": 0, \"ticks\": \"\"}}, \"type\": \"scattermapbox\"}], \"scatterpolar\": [{\"marker\": {\"colorbar\": {\"outlinewidth\": 0, \"ticks\": \"\"}}, \"type\": \"scatterpolar\"}], \"scatterpolargl\": [{\"marker\": {\"colorbar\": {\"outlinewidth\": 0, \"ticks\": \"\"}}, \"type\": \"scatterpolargl\"}], \"scatterternary\": [{\"marker\": {\"colorbar\": {\"outlinewidth\": 0, \"ticks\": \"\"}}, \"type\": \"scatterternary\"}], \"surface\": [{\"colorbar\": {\"outlinewidth\": 0, \"ticks\": \"\"}, \"colorscale\": [[0.0, \"#0d0887\"], [0.1111111111111111, \"#46039f\"], [0.2222222222222222, \"#7201a8\"], [0.3333333333333333, \"#9c179e\"], [0.4444444444444444, \"#bd3786\"], [0.5555555555555556, \"#d8576b\"], [0.6666666666666666, \"#ed7953\"], [0.7777777777777778, \"#fb9f3a\"], [0.8888888888888888, \"#fdca26\"], [1.0, \"#f0f921\"]], \"type\": \"surface\"}], \"table\": [{\"cells\": {\"fill\": {\"color\": \"#EBF0F8\"}, \"line\": {\"color\": \"white\"}}, \"header\": {\"fill\": {\"color\": \"#C8D4E3\"}, \"line\": {\"color\": \"white\"}}, \"type\": \"table\"}]}, \"layout\": {\"annotationdefaults\": {\"arrowcolor\": \"#2a3f5f\", \"arrowhead\": 0, \"arrowwidth\": 1}, \"autotypenumbers\": \"strict\", \"coloraxis\": {\"colorbar\": {\"outlinewidth\": 0, \"ticks\": \"\"}}, \"colorscale\": {\"diverging\": [[0, \"#8e0152\"], [0.1, \"#c51b7d\"], [0.2, \"#de77ae\"], [0.3, \"#f1b6da\"], [0.4, \"#fde0ef\"], [0.5, \"#f7f7f7\"], [0.6, \"#e6f5d0\"], [0.7, \"#b8e186\"], [0.8, \"#7fbc41\"], [0.9, \"#4d9221\"], [1, \"#276419\"]], \"sequential\": [[0.0, \"#0d0887\"], [0.1111111111111111, \"#46039f\"], [0.2222222222222222, \"#7201a8\"], [0.3333333333333333, \"#9c179e\"], [0.4444444444444444, \"#bd3786\"], [0.5555555555555556, \"#d8576b\"], [0.6666666666666666, \"#ed7953\"], [0.7777777777777778, \"#fb9f3a\"], [0.8888888888888888, \"#fdca26\"], [1.0, \"#f0f921\"]], \"sequentialminus\": [[0.0, \"#0d0887\"], [0.1111111111111111, \"#46039f\"], [0.2222222222222222, \"#7201a8\"], [0.3333333333333333, \"#9c179e\"], [0.4444444444444444, \"#bd3786\"], [0.5555555555555556, \"#d8576b\"], [0.6666666666666666, \"#ed7953\"], [0.7777777777777778, \"#fb9f3a\"], [0.8888888888888888, \"#fdca26\"], [1.0, \"#f0f921\"]]}, \"colorway\": [\"#636efa\", \"#EF553B\", \"#00cc96\", \"#ab63fa\", \"#FFA15A\", \"#19d3f3\", \"#FF6692\", \"#B6E880\", \"#FF97FF\", \"#FECB52\"], \"font\": {\"color\": \"#2a3f5f\"}, \"geo\": {\"bgcolor\": \"white\", \"lakecolor\": \"white\", \"landcolor\": \"#E5ECF6\", \"showlakes\": true, \"showland\": true, \"subunitcolor\": \"white\"}, \"hoverlabel\": {\"align\": \"left\"}, \"hovermode\": \"closest\", \"mapbox\": {\"style\": \"light\"}, \"paper_bgcolor\": \"white\", \"plot_bgcolor\": \"#E5ECF6\", \"polar\": {\"angularaxis\": {\"gridcolor\": \"white\", \"linecolor\": \"white\", \"ticks\": \"\"}, \"bgcolor\": \"#E5ECF6\", \"radialaxis\": {\"gridcolor\": \"white\", \"linecolor\": \"white\", \"ticks\": \"\"}}, \"scene\": {\"xaxis\": {\"backgroundcolor\": \"#E5ECF6\", \"gridcolor\": \"white\", \"gridwidth\": 2, \"linecolor\": \"white\", \"showbackground\": true, \"ticks\": \"\", \"zerolinecolor\": \"white\"}, \"yaxis\": {\"backgroundcolor\": \"#E5ECF6\", \"gridcolor\": \"white\", \"gridwidth\": 2, \"linecolor\": \"white\", \"showbackground\": true, \"ticks\": \"\", \"zerolinecolor\": \"white\"}, \"zaxis\": {\"backgroundcolor\": \"#E5ECF6\", \"gridcolor\": \"white\", \"gridwidth\": 2, \"linecolor\": \"white\", \"showbackground\": true, \"ticks\": \"\", \"zerolinecolor\": \"white\"}}, \"shapedefaults\": {\"line\": {\"color\": \"#2a3f5f\"}}, \"ternary\": {\"aaxis\": {\"gridcolor\": \"white\", \"linecolor\": \"white\", \"ticks\": \"\"}, \"baxis\": {\"gridcolor\": \"white\", \"linecolor\": \"white\", \"ticks\": \"\"}, \"bgcolor\": \"#E5ECF6\", \"caxis\": {\"gridcolor\": \"white\", \"linecolor\": \"white\", \"ticks\": \"\"}}, \"title\": {\"x\": 0.05}, \"xaxis\": {\"automargin\": true, \"gridcolor\": \"white\", \"linecolor\": \"white\", \"ticks\": \"\", \"title\": {\"standoff\": 15}, \"zerolinecolor\": \"white\", \"zerolinewidth\": 2}, \"yaxis\": {\"automargin\": true, \"gridcolor\": \"white\", \"linecolor\": \"white\", \"ticks\": \"\", \"title\": {\"standoff\": 15}, \"zerolinecolor\": \"white\", \"zerolinewidth\": 2}}}, \"width\": 800, \"xaxis\": {\"anchor\": \"y\", \"domain\": [0.0, 1.0], \"title\": {\"text\": \"value\"}}, \"yaxis\": {\"anchor\": \"x\", \"domain\": [0.0, 1.0], \"title\": {\"text\": \"count\"}}},                        {\"responsive\": true}                    ).then(function(){\n",
              "                            \n",
              "var gd = document.getElementById('97581c7b-a05d-4964-9341-e8f8e2b832b3');\n",
              "var x = new MutationObserver(function (mutations, observer) {{\n",
              "        var display = window.getComputedStyle(gd).display;\n",
              "        if (!display || display === 'none') {{\n",
              "            console.log([gd, 'removed!']);\n",
              "            Plotly.purge(gd);\n",
              "            observer.disconnect();\n",
              "        }}\n",
              "}});\n",
              "\n",
              "// Listen for the removal of the full notebook cells\n",
              "var notebookContainer = gd.closest('#notebook-container');\n",
              "if (notebookContainer) {{\n",
              "    x.observe(notebookContainer, {childList: true});\n",
              "}}\n",
              "\n",
              "// Listen for the clearing of the current output cell\n",
              "var outputEl = gd.closest('.output');\n",
              "if (outputEl) {{\n",
              "    x.observe(outputEl, {childList: true});\n",
              "}}\n",
              "\n",
              "                        })                };                            </script>        </div>\n",
              "</body>\n",
              "</html>"
            ]
          },
          "metadata": {
            "tags": []
          }
        }
      ]
    },
    {
      "cell_type": "code",
      "metadata": {
        "colab": {
          "base_uri": "https://localhost:8080/",
          "height": 417
        },
        "id": "sjAWUsFiWBA8",
        "outputId": "a4fa325e-6b14-4e75-a9f9-e6da6f97a7f2"
      },
      "source": [
        "df_train['Outlook'].hist(backend='plotly', width=800, height=400)"
      ],
      "execution_count": null,
      "outputs": [
        {
          "output_type": "display_data",
          "data": {
            "text/html": [
              "<html>\n",
              "<head><meta charset=\"utf-8\" /></head>\n",
              "<body>\n",
              "    <div>            <script src=\"https://cdnjs.cloudflare.com/ajax/libs/mathjax/2.7.5/MathJax.js?config=TeX-AMS-MML_SVG\"></script><script type=\"text/javascript\">if (window.MathJax) {MathJax.Hub.Config({SVG: {font: \"STIX-Web\"}});}</script>                <script type=\"text/javascript\">window.PlotlyConfig = {MathJaxConfig: 'local'};</script>\n",
              "        <script src=\"https://cdn.plot.ly/plotly-latest.min.js\"></script>                <div id=\"b632bcf8-1d55-47c0-a2a7-eaf2e23bcf5c\" class=\"plotly-graph-div\" style=\"height:400px; width:800px;\"></div>            <script type=\"text/javascript\">                                    window.PLOTLYENV=window.PLOTLYENV || {};                                    if (document.getElementById(\"b632bcf8-1d55-47c0-a2a7-eaf2e23bcf5c\")) {                    Plotly.newPlot(                        \"b632bcf8-1d55-47c0-a2a7-eaf2e23bcf5c\",                        [{\"alignmentgroup\": \"True\", \"bingroup\": \"x\", \"hovertemplate\": \"variable=Outlook<br>value=%{x}<br>count=%{y}<extra></extra>\", \"legendgroup\": \"Outlook\", \"marker\": {\"color\": \"#636efa\"}, \"name\": \"Outlook\", \"offsetgroup\": \"Outlook\", \"orientation\": \"v\", \"showlegend\": true, \"type\": \"histogram\", \"x\": [\"Sunny\", \"Sunny\", \"Overcast\", \"Rain\", \"Rain\", \"Overcast\", \"Sunny\", \"Sunny\", \"Rain\", \"Sunny\", \"Overcast\", \"Overcast\", \"Rain\", \"Sunny\", \"Rain\", \"Sunny\", \"Overcast\", \"Overcast\", \"Rain\"], \"xaxis\": \"x\", \"yaxis\": \"y\"}],                        {\"barmode\": \"relative\", \"height\": 400, \"legend\": {\"title\": {\"text\": \"variable\"}, \"tracegroupgap\": 0}, \"margin\": {\"t\": 60}, \"template\": {\"data\": {\"bar\": [{\"error_x\": {\"color\": \"#2a3f5f\"}, \"error_y\": {\"color\": \"#2a3f5f\"}, \"marker\": {\"line\": {\"color\": \"#E5ECF6\", \"width\": 0.5}}, \"type\": \"bar\"}], \"barpolar\": [{\"marker\": {\"line\": {\"color\": \"#E5ECF6\", \"width\": 0.5}}, \"type\": \"barpolar\"}], \"carpet\": [{\"aaxis\": {\"endlinecolor\": \"#2a3f5f\", \"gridcolor\": \"white\", \"linecolor\": \"white\", \"minorgridcolor\": \"white\", \"startlinecolor\": \"#2a3f5f\"}, \"baxis\": {\"endlinecolor\": \"#2a3f5f\", \"gridcolor\": \"white\", \"linecolor\": \"white\", \"minorgridcolor\": \"white\", \"startlinecolor\": \"#2a3f5f\"}, \"type\": \"carpet\"}], \"choropleth\": [{\"colorbar\": {\"outlinewidth\": 0, \"ticks\": \"\"}, \"type\": \"choropleth\"}], \"contour\": [{\"colorbar\": {\"outlinewidth\": 0, \"ticks\": \"\"}, \"colorscale\": [[0.0, \"#0d0887\"], [0.1111111111111111, \"#46039f\"], [0.2222222222222222, \"#7201a8\"], [0.3333333333333333, \"#9c179e\"], [0.4444444444444444, \"#bd3786\"], [0.5555555555555556, \"#d8576b\"], [0.6666666666666666, \"#ed7953\"], [0.7777777777777778, \"#fb9f3a\"], [0.8888888888888888, \"#fdca26\"], [1.0, \"#f0f921\"]], \"type\": \"contour\"}], \"contourcarpet\": [{\"colorbar\": {\"outlinewidth\": 0, \"ticks\": \"\"}, \"type\": \"contourcarpet\"}], \"heatmap\": [{\"colorbar\": {\"outlinewidth\": 0, \"ticks\": \"\"}, \"colorscale\": [[0.0, \"#0d0887\"], [0.1111111111111111, \"#46039f\"], [0.2222222222222222, \"#7201a8\"], [0.3333333333333333, \"#9c179e\"], [0.4444444444444444, \"#bd3786\"], [0.5555555555555556, \"#d8576b\"], [0.6666666666666666, \"#ed7953\"], [0.7777777777777778, \"#fb9f3a\"], [0.8888888888888888, \"#fdca26\"], [1.0, \"#f0f921\"]], \"type\": \"heatmap\"}], \"heatmapgl\": [{\"colorbar\": {\"outlinewidth\": 0, \"ticks\": \"\"}, \"colorscale\": [[0.0, \"#0d0887\"], [0.1111111111111111, \"#46039f\"], [0.2222222222222222, \"#7201a8\"], [0.3333333333333333, \"#9c179e\"], [0.4444444444444444, \"#bd3786\"], [0.5555555555555556, \"#d8576b\"], [0.6666666666666666, \"#ed7953\"], [0.7777777777777778, \"#fb9f3a\"], [0.8888888888888888, \"#fdca26\"], [1.0, \"#f0f921\"]], \"type\": \"heatmapgl\"}], \"histogram\": [{\"marker\": {\"colorbar\": {\"outlinewidth\": 0, \"ticks\": \"\"}}, \"type\": \"histogram\"}], \"histogram2d\": [{\"colorbar\": {\"outlinewidth\": 0, \"ticks\": \"\"}, \"colorscale\": [[0.0, \"#0d0887\"], [0.1111111111111111, \"#46039f\"], [0.2222222222222222, \"#7201a8\"], [0.3333333333333333, \"#9c179e\"], [0.4444444444444444, \"#bd3786\"], [0.5555555555555556, \"#d8576b\"], [0.6666666666666666, \"#ed7953\"], [0.7777777777777778, \"#fb9f3a\"], [0.8888888888888888, \"#fdca26\"], [1.0, \"#f0f921\"]], \"type\": \"histogram2d\"}], \"histogram2dcontour\": [{\"colorbar\": {\"outlinewidth\": 0, \"ticks\": \"\"}, \"colorscale\": [[0.0, \"#0d0887\"], [0.1111111111111111, \"#46039f\"], [0.2222222222222222, \"#7201a8\"], [0.3333333333333333, \"#9c179e\"], [0.4444444444444444, \"#bd3786\"], [0.5555555555555556, \"#d8576b\"], [0.6666666666666666, \"#ed7953\"], [0.7777777777777778, \"#fb9f3a\"], [0.8888888888888888, \"#fdca26\"], [1.0, \"#f0f921\"]], \"type\": \"histogram2dcontour\"}], \"mesh3d\": [{\"colorbar\": {\"outlinewidth\": 0, \"ticks\": \"\"}, \"type\": \"mesh3d\"}], \"parcoords\": [{\"line\": {\"colorbar\": {\"outlinewidth\": 0, \"ticks\": \"\"}}, \"type\": \"parcoords\"}], \"pie\": [{\"automargin\": true, \"type\": \"pie\"}], \"scatter\": [{\"marker\": {\"colorbar\": {\"outlinewidth\": 0, \"ticks\": \"\"}}, \"type\": \"scatter\"}], \"scatter3d\": [{\"line\": {\"colorbar\": {\"outlinewidth\": 0, \"ticks\": \"\"}}, \"marker\": {\"colorbar\": {\"outlinewidth\": 0, \"ticks\": \"\"}}, \"type\": \"scatter3d\"}], \"scattercarpet\": [{\"marker\": {\"colorbar\": {\"outlinewidth\": 0, \"ticks\": \"\"}}, \"type\": \"scattercarpet\"}], \"scattergeo\": [{\"marker\": {\"colorbar\": {\"outlinewidth\": 0, \"ticks\": \"\"}}, \"type\": \"scattergeo\"}], \"scattergl\": [{\"marker\": {\"colorbar\": {\"outlinewidth\": 0, \"ticks\": \"\"}}, \"type\": \"scattergl\"}], \"scattermapbox\": [{\"marker\": {\"colorbar\": {\"outlinewidth\": 0, \"ticks\": \"\"}}, \"type\": \"scattermapbox\"}], \"scatterpolar\": [{\"marker\": {\"colorbar\": {\"outlinewidth\": 0, \"ticks\": \"\"}}, \"type\": \"scatterpolar\"}], \"scatterpolargl\": [{\"marker\": {\"colorbar\": {\"outlinewidth\": 0, \"ticks\": \"\"}}, \"type\": \"scatterpolargl\"}], \"scatterternary\": [{\"marker\": {\"colorbar\": {\"outlinewidth\": 0, \"ticks\": \"\"}}, \"type\": \"scatterternary\"}], \"surface\": [{\"colorbar\": {\"outlinewidth\": 0, \"ticks\": \"\"}, \"colorscale\": [[0.0, \"#0d0887\"], [0.1111111111111111, \"#46039f\"], [0.2222222222222222, \"#7201a8\"], [0.3333333333333333, \"#9c179e\"], [0.4444444444444444, \"#bd3786\"], [0.5555555555555556, \"#d8576b\"], [0.6666666666666666, \"#ed7953\"], [0.7777777777777778, \"#fb9f3a\"], [0.8888888888888888, \"#fdca26\"], [1.0, \"#f0f921\"]], \"type\": \"surface\"}], \"table\": [{\"cells\": {\"fill\": {\"color\": \"#EBF0F8\"}, \"line\": {\"color\": \"white\"}}, \"header\": {\"fill\": {\"color\": \"#C8D4E3\"}, \"line\": {\"color\": \"white\"}}, \"type\": \"table\"}]}, \"layout\": {\"annotationdefaults\": {\"arrowcolor\": \"#2a3f5f\", \"arrowhead\": 0, \"arrowwidth\": 1}, \"autotypenumbers\": \"strict\", \"coloraxis\": {\"colorbar\": {\"outlinewidth\": 0, \"ticks\": \"\"}}, \"colorscale\": {\"diverging\": [[0, \"#8e0152\"], [0.1, \"#c51b7d\"], [0.2, \"#de77ae\"], [0.3, \"#f1b6da\"], [0.4, \"#fde0ef\"], [0.5, \"#f7f7f7\"], [0.6, \"#e6f5d0\"], [0.7, \"#b8e186\"], [0.8, \"#7fbc41\"], [0.9, \"#4d9221\"], [1, \"#276419\"]], \"sequential\": [[0.0, \"#0d0887\"], [0.1111111111111111, \"#46039f\"], [0.2222222222222222, \"#7201a8\"], [0.3333333333333333, \"#9c179e\"], [0.4444444444444444, \"#bd3786\"], [0.5555555555555556, \"#d8576b\"], [0.6666666666666666, \"#ed7953\"], [0.7777777777777778, \"#fb9f3a\"], [0.8888888888888888, \"#fdca26\"], [1.0, \"#f0f921\"]], \"sequentialminus\": [[0.0, \"#0d0887\"], [0.1111111111111111, \"#46039f\"], [0.2222222222222222, \"#7201a8\"], [0.3333333333333333, \"#9c179e\"], [0.4444444444444444, \"#bd3786\"], [0.5555555555555556, \"#d8576b\"], [0.6666666666666666, \"#ed7953\"], [0.7777777777777778, \"#fb9f3a\"], [0.8888888888888888, \"#fdca26\"], [1.0, \"#f0f921\"]]}, \"colorway\": [\"#636efa\", \"#EF553B\", \"#00cc96\", \"#ab63fa\", \"#FFA15A\", \"#19d3f3\", \"#FF6692\", \"#B6E880\", \"#FF97FF\", \"#FECB52\"], \"font\": {\"color\": \"#2a3f5f\"}, \"geo\": {\"bgcolor\": \"white\", \"lakecolor\": \"white\", \"landcolor\": \"#E5ECF6\", \"showlakes\": true, \"showland\": true, \"subunitcolor\": \"white\"}, \"hoverlabel\": {\"align\": \"left\"}, \"hovermode\": \"closest\", \"mapbox\": {\"style\": \"light\"}, \"paper_bgcolor\": \"white\", \"plot_bgcolor\": \"#E5ECF6\", \"polar\": {\"angularaxis\": {\"gridcolor\": \"white\", \"linecolor\": \"white\", \"ticks\": \"\"}, \"bgcolor\": \"#E5ECF6\", \"radialaxis\": {\"gridcolor\": \"white\", \"linecolor\": \"white\", \"ticks\": \"\"}}, \"scene\": {\"xaxis\": {\"backgroundcolor\": \"#E5ECF6\", \"gridcolor\": \"white\", \"gridwidth\": 2, \"linecolor\": \"white\", \"showbackground\": true, \"ticks\": \"\", \"zerolinecolor\": \"white\"}, \"yaxis\": {\"backgroundcolor\": \"#E5ECF6\", \"gridcolor\": \"white\", \"gridwidth\": 2, \"linecolor\": \"white\", \"showbackground\": true, \"ticks\": \"\", \"zerolinecolor\": \"white\"}, \"zaxis\": {\"backgroundcolor\": \"#E5ECF6\", \"gridcolor\": \"white\", \"gridwidth\": 2, \"linecolor\": \"white\", \"showbackground\": true, \"ticks\": \"\", \"zerolinecolor\": \"white\"}}, \"shapedefaults\": {\"line\": {\"color\": \"#2a3f5f\"}}, \"ternary\": {\"aaxis\": {\"gridcolor\": \"white\", \"linecolor\": \"white\", \"ticks\": \"\"}, \"baxis\": {\"gridcolor\": \"white\", \"linecolor\": \"white\", \"ticks\": \"\"}, \"bgcolor\": \"#E5ECF6\", \"caxis\": {\"gridcolor\": \"white\", \"linecolor\": \"white\", \"ticks\": \"\"}}, \"title\": {\"x\": 0.05}, \"xaxis\": {\"automargin\": true, \"gridcolor\": \"white\", \"linecolor\": \"white\", \"ticks\": \"\", \"title\": {\"standoff\": 15}, \"zerolinecolor\": \"white\", \"zerolinewidth\": 2}, \"yaxis\": {\"automargin\": true, \"gridcolor\": \"white\", \"linecolor\": \"white\", \"ticks\": \"\", \"title\": {\"standoff\": 15}, \"zerolinecolor\": \"white\", \"zerolinewidth\": 2}}}, \"width\": 800, \"xaxis\": {\"anchor\": \"y\", \"domain\": [0.0, 1.0], \"title\": {\"text\": \"value\"}}, \"yaxis\": {\"anchor\": \"x\", \"domain\": [0.0, 1.0], \"title\": {\"text\": \"count\"}}},                        {\"responsive\": true}                    ).then(function(){\n",
              "                            \n",
              "var gd = document.getElementById('b632bcf8-1d55-47c0-a2a7-eaf2e23bcf5c');\n",
              "var x = new MutationObserver(function (mutations, observer) {{\n",
              "        var display = window.getComputedStyle(gd).display;\n",
              "        if (!display || display === 'none') {{\n",
              "            console.log([gd, 'removed!']);\n",
              "            Plotly.purge(gd);\n",
              "            observer.disconnect();\n",
              "        }}\n",
              "}});\n",
              "\n",
              "// Listen for the removal of the full notebook cells\n",
              "var notebookContainer = gd.closest('#notebook-container');\n",
              "if (notebookContainer) {{\n",
              "    x.observe(notebookContainer, {childList: true});\n",
              "}}\n",
              "\n",
              "// Listen for the clearing of the current output cell\n",
              "var outputEl = gd.closest('.output');\n",
              "if (outputEl) {{\n",
              "    x.observe(outputEl, {childList: true});\n",
              "}}\n",
              "\n",
              "                        })                };                            </script>        </div>\n",
              "</body>\n",
              "</html>"
            ]
          },
          "metadata": {
            "tags": []
          }
        }
      ]
    },
    {
      "cell_type": "markdown",
      "metadata": {
        "id": "lMaMSQG7XveY"
      },
      "source": [
        "# Step 2"
      ]
    },
    {
      "cell_type": "markdown",
      "metadata": {
        "id": "ZyojLQ-sdNI8"
      },
      "source": [
        "2. Model1:NaïveBayesClassifier\n",
        "  1. Build a Naïve Bayes Classifier and train on the data. `[5 points]`\n",
        "  2. For the given test sample – summer_camping_test, predict if it is a good day for camping using the trained Naïve Bayes classifier. `[5 points]`"
      ]
    },
    {
      "cell_type": "code",
      "metadata": {
        "id": "afzrE24rX_aX"
      },
      "source": [
        "from sklearn.naive_bayes import CategoricalNB"
      ],
      "execution_count": null,
      "outputs": []
    },
    {
      "cell_type": "code",
      "metadata": {
        "id": "Ysjb6IXXYAYp"
      },
      "source": [
        "nb_model = CategoricalNB()"
      ],
      "execution_count": null,
      "outputs": []
    },
    {
      "cell_type": "code",
      "metadata": {
        "colab": {
          "base_uri": "https://localhost:8080/"
        },
        "id": "xA-GUTJAZx73",
        "outputId": "114490fa-b644-4edb-f7b9-3f28f5dfc0c6"
      },
      "source": [
        "nb_model.fit(train_x, train_y[:, 0])"
      ],
      "execution_count": null,
      "outputs": [
        {
          "output_type": "execute_result",
          "data": {
            "text/plain": [
              "CategoricalNB(alpha=1.0, class_prior=None, fit_prior=True)"
            ]
          },
          "metadata": {
            "tags": []
          },
          "execution_count": 134
        }
      ]
    },
    {
      "cell_type": "markdown",
      "metadata": {
        "id": "oZCn2SLtcso_"
      },
      "source": [
        "**Predicting Test**"
      ]
    },
    {
      "cell_type": "code",
      "metadata": {
        "colab": {
          "base_uri": "https://localhost:8080/",
          "height": 78
        },
        "id": "w3y0otOOcq42",
        "outputId": "38925979-5359-44f9-b96e-a8c618839ba1"
      },
      "source": [
        "df_test"
      ],
      "execution_count": null,
      "outputs": [
        {
          "output_type": "execute_result",
          "data": {
            "text/html": [
              "<div>\n",
              "<style scoped>\n",
              "    .dataframe tbody tr th:only-of-type {\n",
              "        vertical-align: middle;\n",
              "    }\n",
              "\n",
              "    .dataframe tbody tr th {\n",
              "        vertical-align: top;\n",
              "    }\n",
              "\n",
              "    .dataframe thead th {\n",
              "        text-align: right;\n",
              "    }\n",
              "</style>\n",
              "<table border=\"1\" class=\"dataframe\">\n",
              "  <thead>\n",
              "    <tr style=\"text-align: right;\">\n",
              "      <th></th>\n",
              "      <th>Outlook</th>\n",
              "      <th>Humidity</th>\n",
              "      <th>Wind</th>\n",
              "    </tr>\n",
              "  </thead>\n",
              "  <tbody>\n",
              "    <tr>\n",
              "      <th>0</th>\n",
              "      <td>Rain</td>\n",
              "      <td>High</td>\n",
              "      <td>Weak</td>\n",
              "    </tr>\n",
              "  </tbody>\n",
              "</table>\n",
              "</div>"
            ],
            "text/plain": [
              "  Outlook Humidity  Wind\n",
              "0    Rain     High  Weak"
            ]
          },
          "metadata": {
            "tags": []
          },
          "execution_count": 135
        }
      ]
    },
    {
      "cell_type": "code",
      "metadata": {
        "colab": {
          "base_uri": "https://localhost:8080/"
        },
        "id": "J4i1GG5DjRY1",
        "outputId": "2e62f600-e95d-4b63-ab7f-1cc2aaf17df1"
      },
      "source": [
        "test_x"
      ],
      "execution_count": null,
      "outputs": [
        {
          "output_type": "execute_result",
          "data": {
            "text/plain": [
              "array([[1., 0., 1.]])"
            ]
          },
          "metadata": {
            "tags": []
          },
          "execution_count": 136
        }
      ]
    },
    {
      "cell_type": "code",
      "metadata": {
        "colab": {
          "base_uri": "https://localhost:8080/"
        },
        "id": "a9MUjYMbb8XA",
        "outputId": "beffea00-0258-47a1-c30e-bc045ec667b9"
      },
      "source": [
        "nb_model.predict(test_x)"
      ],
      "execution_count": null,
      "outputs": [
        {
          "output_type": "execute_result",
          "data": {
            "text/plain": [
              "array([0.])"
            ]
          },
          "metadata": {
            "tags": []
          },
          "execution_count": 137
        }
      ]
    },
    {
      "cell_type": "markdown",
      "metadata": {
        "id": "MLInhnYBdA7O"
      },
      "source": [
        "# Step 3: Neural Networks"
      ]
    },
    {
      "cell_type": "markdown",
      "metadata": {
        "id": "w_uJuJ-SP8r7"
      },
      "source": [
        "3. Model 2: Neural Network\n",
        "  1. Build a single hidden layer Neural Network to solve the problem. Describe your choice\n",
        "of hyperparameters, such as number of neurons in each layer, activation functions, optimizer, and learning rate. `[5 points]`\n",
        "\n",
        "  2. For the given test sample – summer_camping_test, predict if it is a good day for camping using the trained Neural Network. Compare the result with the Naïve Bayes Classifier and comment. `[5 points]`"
      ]
    },
    {
      "cell_type": "code",
      "metadata": {
        "id": "zHge6fuRP8bX"
      },
      "source": [
        "from keras.datasets import mnist\n",
        "from keras.models import Sequential\n",
        "from keras.layers import Input, Dense"
      ],
      "execution_count": null,
      "outputs": []
    },
    {
      "cell_type": "markdown",
      "metadata": {
        "id": "j_oGN59jlefF"
      },
      "source": [
        "## Logistic Regression"
      ]
    },
    {
      "cell_type": "code",
      "metadata": {
        "id": "f8obZ96PePJT"
      },
      "source": [
        "logistic_model = Sequential([\n",
        "  Input(shape=(3)),\n",
        "  Dense(units=1, activation='sigmoid'),\n",
        "])"
      ],
      "execution_count": null,
      "outputs": []
    },
    {
      "cell_type": "code",
      "metadata": {
        "id": "2UTZ_FAzjstv"
      },
      "source": [
        "logistic_model.compile(loss = 'binary_crossentropy', optimizer = 'adam', metrics = ['accuracy'])"
      ],
      "execution_count": null,
      "outputs": []
    },
    {
      "cell_type": "code",
      "metadata": {
        "colab": {
          "base_uri": "https://localhost:8080/"
        },
        "id": "-yfIDM3fjvRt",
        "outputId": "f1f73e0e-bebc-480f-91b5-3a47a73f0029"
      },
      "source": [
        "logistic_model.summary()"
      ],
      "execution_count": null,
      "outputs": [
        {
          "output_type": "stream",
          "text": [
            "Model: \"sequential_3\"\n",
            "_________________________________________________________________\n",
            "Layer (type)                 Output Shape              Param #   \n",
            "=================================================================\n",
            "dense_3 (Dense)              (None, 1)                 4         \n",
            "=================================================================\n",
            "Total params: 4\n",
            "Trainable params: 4\n",
            "Non-trainable params: 0\n",
            "_________________________________________________________________\n"
          ],
          "name": "stdout"
        }
      ]
    },
    {
      "cell_type": "code",
      "metadata": {
        "colab": {
          "base_uri": "https://localhost:8080/"
        },
        "id": "HPfBqcsajxEX",
        "outputId": "893bc702-d988-413e-afed-44126b51625d"
      },
      "source": [
        "logistic_model.fit(train_x, train_y, epochs = 10, verbose = 1);"
      ],
      "execution_count": null,
      "outputs": [
        {
          "output_type": "stream",
          "text": [
            "Epoch 1/10\n",
            "1/1 [==============================] - 0s 376ms/step - loss: 0.7606 - accuracy: 0.3684\n",
            "Epoch 2/10\n",
            "1/1 [==============================] - 0s 5ms/step - loss: 0.7597 - accuracy: 0.4737\n",
            "Epoch 3/10\n",
            "1/1 [==============================] - 0s 7ms/step - loss: 0.7589 - accuracy: 0.4737\n",
            "Epoch 4/10\n",
            "1/1 [==============================] - 0s 7ms/step - loss: 0.7580 - accuracy: 0.4737\n",
            "Epoch 5/10\n",
            "1/1 [==============================] - 0s 5ms/step - loss: 0.7572 - accuracy: 0.4737\n",
            "Epoch 6/10\n",
            "1/1 [==============================] - 0s 5ms/step - loss: 0.7564 - accuracy: 0.4737\n",
            "Epoch 7/10\n",
            "1/1 [==============================] - 0s 6ms/step - loss: 0.7555 - accuracy: 0.4737\n",
            "Epoch 8/10\n",
            "1/1 [==============================] - 0s 6ms/step - loss: 0.7547 - accuracy: 0.4737\n",
            "Epoch 9/10\n",
            "1/1 [==============================] - 0s 5ms/step - loss: 0.7538 - accuracy: 0.4737\n",
            "Epoch 10/10\n",
            "1/1 [==============================] - 0s 4ms/step - loss: 0.7530 - accuracy: 0.4737\n"
          ],
          "name": "stdout"
        }
      ]
    },
    {
      "cell_type": "markdown",
      "metadata": {
        "id": "gANW039ak1vb"
      },
      "source": [
        "Below, we predict the probability of the positive class. Now, we just need to adopt a threshold to consider it positive or negative."
      ]
    },
    {
      "cell_type": "code",
      "metadata": {
        "colab": {
          "base_uri": "https://localhost:8080/"
        },
        "id": "abqm7uUYkDdv",
        "outputId": "072fad9f-d50b-4bbd-d662-94c2a85b0979"
      },
      "source": [
        "logistic_model.predict(test_x)"
      ],
      "execution_count": null,
      "outputs": [
        {
          "output_type": "execute_result",
          "data": {
            "text/plain": [
              "array([[0.6208081]], dtype=float32)"
            ]
          },
          "metadata": {
            "tags": []
          },
          "execution_count": 159
        }
      ]
    },
    {
      "cell_type": "markdown",
      "metadata": {
        "id": "Dp4Pwm5tlbcs"
      },
      "source": [
        "## Neural Network"
      ]
    },
    {
      "cell_type": "code",
      "metadata": {
        "id": "bUP5k5G7ljun"
      },
      "source": [
        "neural_net = Sequential([\n",
        "  Input(shape=(3)),\n",
        "  Dense(units=8, activation='relu'),\n",
        "  Dense(units=8, activation='relu'),\n",
        "  Dense(units=1, activation='sigmoid'),\n",
        "])"
      ],
      "execution_count": null,
      "outputs": []
    },
    {
      "cell_type": "code",
      "metadata": {
        "id": "_AMzEMtYlju1"
      },
      "source": [
        "neural_net.compile(loss = 'binary_crossentropy', optimizer = 'adam', metrics = ['accuracy'])"
      ],
      "execution_count": null,
      "outputs": []
    },
    {
      "cell_type": "code",
      "metadata": {
        "colab": {
          "base_uri": "https://localhost:8080/"
        },
        "id": "feSsZki9lju2",
        "outputId": "18fa161d-3313-4624-f684-d6ceed85a5f2"
      },
      "source": [
        "neural_net.summary()"
      ],
      "execution_count": null,
      "outputs": [
        {
          "output_type": "stream",
          "text": [
            "Model: \"sequential_5\"\n",
            "_________________________________________________________________\n",
            "Layer (type)                 Output Shape              Param #   \n",
            "=================================================================\n",
            "dense_7 (Dense)              (None, 8)                 32        \n",
            "_________________________________________________________________\n",
            "dense_8 (Dense)              (None, 8)                 72        \n",
            "_________________________________________________________________\n",
            "dense_9 (Dense)              (None, 1)                 9         \n",
            "=================================================================\n",
            "Total params: 113\n",
            "Trainable params: 113\n",
            "Non-trainable params: 0\n",
            "_________________________________________________________________\n"
          ],
          "name": "stdout"
        }
      ]
    },
    {
      "cell_type": "code",
      "metadata": {
        "colab": {
          "base_uri": "https://localhost:8080/"
        },
        "id": "XVvI09AMlju3",
        "outputId": "836c599a-f46f-4526-dd72-a07ca162f886"
      },
      "source": [
        "neural_net.fit(train_x, train_y, epochs = 300, verbose = 1);"
      ],
      "execution_count": null,
      "outputs": [
        {
          "output_type": "stream",
          "text": [
            "Epoch 1/300\n",
            "1/1 [==============================] - 0s 479ms/step - loss: 0.6762 - accuracy: 0.5789\n",
            "Epoch 2/300\n",
            "1/1 [==============================] - 0s 5ms/step - loss: 0.6747 - accuracy: 0.6842\n",
            "Epoch 3/300\n",
            "1/1 [==============================] - 0s 5ms/step - loss: 0.6731 - accuracy: 0.6842\n",
            "Epoch 4/300\n",
            "1/1 [==============================] - 0s 4ms/step - loss: 0.6715 - accuracy: 0.6842\n",
            "Epoch 5/300\n",
            "1/1 [==============================] - 0s 6ms/step - loss: 0.6699 - accuracy: 0.6842\n",
            "Epoch 6/300\n",
            "1/1 [==============================] - 0s 4ms/step - loss: 0.6683 - accuracy: 0.6842\n",
            "Epoch 7/300\n",
            "1/1 [==============================] - 0s 4ms/step - loss: 0.6667 - accuracy: 0.6842\n",
            "Epoch 8/300\n",
            "1/1 [==============================] - 0s 4ms/step - loss: 0.6651 - accuracy: 0.6842\n",
            "Epoch 9/300\n",
            "1/1 [==============================] - 0s 5ms/step - loss: 0.6634 - accuracy: 0.6842\n",
            "Epoch 10/300\n",
            "1/1 [==============================] - 0s 5ms/step - loss: 0.6618 - accuracy: 0.6842\n",
            "Epoch 11/300\n",
            "1/1 [==============================] - 0s 5ms/step - loss: 0.6602 - accuracy: 0.6842\n",
            "Epoch 12/300\n",
            "1/1 [==============================] - 0s 5ms/step - loss: 0.6586 - accuracy: 0.6842\n",
            "Epoch 13/300\n",
            "1/1 [==============================] - 0s 5ms/step - loss: 0.6570 - accuracy: 0.6842\n",
            "Epoch 14/300\n",
            "1/1 [==============================] - 0s 5ms/step - loss: 0.6555 - accuracy: 0.6842\n",
            "Epoch 15/300\n",
            "1/1 [==============================] - 0s 8ms/step - loss: 0.6539 - accuracy: 0.6842\n",
            "Epoch 16/300\n",
            "1/1 [==============================] - 0s 6ms/step - loss: 0.6523 - accuracy: 0.6842\n",
            "Epoch 17/300\n",
            "1/1 [==============================] - 0s 6ms/step - loss: 0.6507 - accuracy: 0.6842\n",
            "Epoch 18/300\n",
            "1/1 [==============================] - 0s 6ms/step - loss: 0.6491 - accuracy: 0.6842\n",
            "Epoch 19/300\n",
            "1/1 [==============================] - 0s 5ms/step - loss: 0.6474 - accuracy: 0.6842\n",
            "Epoch 20/300\n",
            "1/1 [==============================] - 0s 5ms/step - loss: 0.6457 - accuracy: 0.6842\n",
            "Epoch 21/300\n",
            "1/1 [==============================] - 0s 5ms/step - loss: 0.6439 - accuracy: 0.6842\n",
            "Epoch 22/300\n",
            "1/1 [==============================] - 0s 5ms/step - loss: 0.6421 - accuracy: 0.6842\n",
            "Epoch 23/300\n",
            "1/1 [==============================] - 0s 6ms/step - loss: 0.6403 - accuracy: 0.6842\n",
            "Epoch 24/300\n",
            "1/1 [==============================] - 0s 6ms/step - loss: 0.6385 - accuracy: 0.6842\n",
            "Epoch 25/300\n",
            "1/1 [==============================] - 0s 7ms/step - loss: 0.6367 - accuracy: 0.6842\n",
            "Epoch 26/300\n",
            "1/1 [==============================] - 0s 7ms/step - loss: 0.6349 - accuracy: 0.6842\n",
            "Epoch 27/300\n",
            "1/1 [==============================] - 0s 6ms/step - loss: 0.6333 - accuracy: 0.6842\n",
            "Epoch 28/300\n",
            "1/1 [==============================] - 0s 7ms/step - loss: 0.6318 - accuracy: 0.6842\n",
            "Epoch 29/300\n",
            "1/1 [==============================] - 0s 7ms/step - loss: 0.6304 - accuracy: 0.6842\n",
            "Epoch 30/300\n",
            "1/1 [==============================] - 0s 7ms/step - loss: 0.6290 - accuracy: 0.6842\n",
            "Epoch 31/300\n",
            "1/1 [==============================] - 0s 5ms/step - loss: 0.6276 - accuracy: 0.6842\n",
            "Epoch 32/300\n",
            "1/1 [==============================] - 0s 6ms/step - loss: 0.6262 - accuracy: 0.6842\n",
            "Epoch 33/300\n",
            "1/1 [==============================] - 0s 5ms/step - loss: 0.6248 - accuracy: 0.6842\n",
            "Epoch 34/300\n",
            "1/1 [==============================] - 0s 5ms/step - loss: 0.6234 - accuracy: 0.6842\n",
            "Epoch 35/300\n",
            "1/1 [==============================] - 0s 5ms/step - loss: 0.6220 - accuracy: 0.6842\n",
            "Epoch 36/300\n",
            "1/1 [==============================] - 0s 11ms/step - loss: 0.6207 - accuracy: 0.6842\n",
            "Epoch 37/300\n",
            "1/1 [==============================] - 0s 14ms/step - loss: 0.6193 - accuracy: 0.6842\n",
            "Epoch 38/300\n",
            "1/1 [==============================] - 0s 13ms/step - loss: 0.6180 - accuracy: 0.6842\n",
            "Epoch 39/300\n",
            "1/1 [==============================] - 0s 10ms/step - loss: 0.6167 - accuracy: 0.6842\n",
            "Epoch 40/300\n",
            "1/1 [==============================] - 0s 11ms/step - loss: 0.6153 - accuracy: 0.6842\n",
            "Epoch 41/300\n",
            "1/1 [==============================] - 0s 10ms/step - loss: 0.6139 - accuracy: 0.6842\n",
            "Epoch 42/300\n",
            "1/1 [==============================] - 0s 8ms/step - loss: 0.6125 - accuracy: 0.6842\n",
            "Epoch 43/300\n",
            "1/1 [==============================] - 0s 6ms/step - loss: 0.6112 - accuracy: 0.6842\n",
            "Epoch 44/300\n",
            "1/1 [==============================] - 0s 6ms/step - loss: 0.6098 - accuracy: 0.6842\n",
            "Epoch 45/300\n",
            "1/1 [==============================] - 0s 7ms/step - loss: 0.6085 - accuracy: 0.6842\n",
            "Epoch 46/300\n",
            "1/1 [==============================] - 0s 5ms/step - loss: 0.6072 - accuracy: 0.6842\n",
            "Epoch 47/300\n",
            "1/1 [==============================] - 0s 7ms/step - loss: 0.6059 - accuracy: 0.6842\n",
            "Epoch 48/300\n",
            "1/1 [==============================] - 0s 11ms/step - loss: 0.6046 - accuracy: 0.6842\n",
            "Epoch 49/300\n",
            "1/1 [==============================] - 0s 8ms/step - loss: 0.6034 - accuracy: 0.6842\n",
            "Epoch 50/300\n",
            "1/1 [==============================] - 0s 6ms/step - loss: 0.6020 - accuracy: 0.6842\n",
            "Epoch 51/300\n",
            "1/1 [==============================] - 0s 20ms/step - loss: 0.6007 - accuracy: 0.6842\n",
            "Epoch 52/300\n",
            "1/1 [==============================] - 0s 7ms/step - loss: 0.5994 - accuracy: 0.6842\n",
            "Epoch 53/300\n",
            "1/1 [==============================] - 0s 6ms/step - loss: 0.5981 - accuracy: 0.6842\n",
            "Epoch 54/300\n",
            "1/1 [==============================] - 0s 7ms/step - loss: 0.5968 - accuracy: 0.6842\n",
            "Epoch 55/300\n",
            "1/1 [==============================] - 0s 8ms/step - loss: 0.5955 - accuracy: 0.6842\n",
            "Epoch 56/300\n",
            "1/1 [==============================] - 0s 5ms/step - loss: 0.5942 - accuracy: 0.6842\n",
            "Epoch 57/300\n",
            "1/1 [==============================] - 0s 5ms/step - loss: 0.5930 - accuracy: 0.6842\n",
            "Epoch 58/300\n",
            "1/1 [==============================] - 0s 5ms/step - loss: 0.5917 - accuracy: 0.6842\n",
            "Epoch 59/300\n",
            "1/1 [==============================] - 0s 8ms/step - loss: 0.5904 - accuracy: 0.6842\n",
            "Epoch 60/300\n",
            "1/1 [==============================] - 0s 7ms/step - loss: 0.5892 - accuracy: 0.6842\n",
            "Epoch 61/300\n",
            "1/1 [==============================] - 0s 10ms/step - loss: 0.5879 - accuracy: 0.6842\n",
            "Epoch 62/300\n",
            "1/1 [==============================] - 0s 7ms/step - loss: 0.5866 - accuracy: 0.6842\n",
            "Epoch 63/300\n",
            "1/1 [==============================] - 0s 7ms/step - loss: 0.5854 - accuracy: 0.6842\n",
            "Epoch 64/300\n",
            "1/1 [==============================] - 0s 18ms/step - loss: 0.5841 - accuracy: 0.6842\n",
            "Epoch 65/300\n",
            "1/1 [==============================] - 0s 8ms/step - loss: 0.5828 - accuracy: 0.6842\n",
            "Epoch 66/300\n",
            "1/1 [==============================] - 0s 9ms/step - loss: 0.5815 - accuracy: 0.6842\n",
            "Epoch 67/300\n",
            "1/1 [==============================] - 0s 8ms/step - loss: 0.5802 - accuracy: 0.6842\n",
            "Epoch 68/300\n",
            "1/1 [==============================] - 0s 7ms/step - loss: 0.5789 - accuracy: 0.6842\n",
            "Epoch 69/300\n",
            "1/1 [==============================] - 0s 12ms/step - loss: 0.5776 - accuracy: 0.6842\n",
            "Epoch 70/300\n",
            "1/1 [==============================] - 0s 7ms/step - loss: 0.5763 - accuracy: 0.6842\n",
            "Epoch 71/300\n",
            "1/1 [==============================] - 0s 7ms/step - loss: 0.5750 - accuracy: 0.6842\n",
            "Epoch 72/300\n",
            "1/1 [==============================] - 0s 7ms/step - loss: 0.5737 - accuracy: 0.6842\n",
            "Epoch 73/300\n",
            "1/1 [==============================] - 0s 7ms/step - loss: 0.5724 - accuracy: 0.6842\n",
            "Epoch 74/300\n",
            "1/1 [==============================] - 0s 8ms/step - loss: 0.5711 - accuracy: 0.6842\n",
            "Epoch 75/300\n",
            "1/1 [==============================] - 0s 7ms/step - loss: 0.5699 - accuracy: 0.6842\n",
            "Epoch 76/300\n",
            "1/1 [==============================] - 0s 5ms/step - loss: 0.5686 - accuracy: 0.6842\n",
            "Epoch 77/300\n",
            "1/1 [==============================] - 0s 6ms/step - loss: 0.5673 - accuracy: 0.6842\n",
            "Epoch 78/300\n",
            "1/1 [==============================] - 0s 6ms/step - loss: 0.5660 - accuracy: 0.6842\n",
            "Epoch 79/300\n",
            "1/1 [==============================] - 0s 6ms/step - loss: 0.5647 - accuracy: 0.6842\n",
            "Epoch 80/300\n",
            "1/1 [==============================] - 0s 7ms/step - loss: 0.5634 - accuracy: 0.6842\n",
            "Epoch 81/300\n",
            "1/1 [==============================] - 0s 18ms/step - loss: 0.5621 - accuracy: 0.6842\n",
            "Epoch 82/300\n",
            "1/1 [==============================] - 0s 17ms/step - loss: 0.5608 - accuracy: 0.6842\n",
            "Epoch 83/300\n",
            "1/1 [==============================] - 0s 7ms/step - loss: 0.5595 - accuracy: 0.6842\n",
            "Epoch 84/300\n",
            "1/1 [==============================] - 0s 7ms/step - loss: 0.5582 - accuracy: 0.6842\n",
            "Epoch 85/300\n",
            "1/1 [==============================] - 0s 8ms/step - loss: 0.5569 - accuracy: 0.6842\n",
            "Epoch 86/300\n",
            "1/1 [==============================] - 0s 9ms/step - loss: 0.5556 - accuracy: 0.6842\n",
            "Epoch 87/300\n",
            "1/1 [==============================] - 0s 16ms/step - loss: 0.5543 - accuracy: 0.6842\n",
            "Epoch 88/300\n",
            "1/1 [==============================] - 0s 12ms/step - loss: 0.5530 - accuracy: 0.6842\n",
            "Epoch 89/300\n",
            "1/1 [==============================] - 0s 18ms/step - loss: 0.5517 - accuracy: 0.6842\n",
            "Epoch 90/300\n",
            "1/1 [==============================] - 0s 18ms/step - loss: 0.5504 - accuracy: 0.6842\n",
            "Epoch 91/300\n",
            "1/1 [==============================] - 0s 7ms/step - loss: 0.5492 - accuracy: 0.6842\n",
            "Epoch 92/300\n",
            "1/1 [==============================] - 0s 8ms/step - loss: 0.5479 - accuracy: 0.6842\n",
            "Epoch 93/300\n",
            "1/1 [==============================] - 0s 9ms/step - loss: 0.5466 - accuracy: 0.6842\n",
            "Epoch 94/300\n",
            "1/1 [==============================] - 0s 7ms/step - loss: 0.5453 - accuracy: 0.6842\n",
            "Epoch 95/300\n",
            "1/1 [==============================] - 0s 14ms/step - loss: 0.5440 - accuracy: 0.6842\n",
            "Epoch 96/300\n",
            "1/1 [==============================] - 0s 10ms/step - loss: 0.5427 - accuracy: 0.6842\n",
            "Epoch 97/300\n",
            "1/1 [==============================] - 0s 10ms/step - loss: 0.5414 - accuracy: 0.6842\n",
            "Epoch 98/300\n",
            "1/1 [==============================] - 0s 6ms/step - loss: 0.5401 - accuracy: 0.6842\n",
            "Epoch 99/300\n",
            "1/1 [==============================] - 0s 7ms/step - loss: 0.5388 - accuracy: 0.6842\n",
            "Epoch 100/300\n",
            "1/1 [==============================] - 0s 6ms/step - loss: 0.5375 - accuracy: 0.6842\n",
            "Epoch 101/300\n",
            "1/1 [==============================] - 0s 6ms/step - loss: 0.5362 - accuracy: 0.6842\n",
            "Epoch 102/300\n",
            "1/1 [==============================] - 0s 6ms/step - loss: 0.5350 - accuracy: 0.6842\n",
            "Epoch 103/300\n",
            "1/1 [==============================] - 0s 6ms/step - loss: 0.5337 - accuracy: 0.6842\n",
            "Epoch 104/300\n",
            "1/1 [==============================] - 0s 13ms/step - loss: 0.5324 - accuracy: 0.6842\n",
            "Epoch 105/300\n",
            "1/1 [==============================] - 0s 7ms/step - loss: 0.5311 - accuracy: 0.6842\n",
            "Epoch 106/300\n",
            "1/1 [==============================] - 0s 7ms/step - loss: 0.5297 - accuracy: 0.6842\n",
            "Epoch 107/300\n",
            "1/1 [==============================] - 0s 10ms/step - loss: 0.5284 - accuracy: 0.6842\n",
            "Epoch 108/300\n",
            "1/1 [==============================] - 0s 12ms/step - loss: 0.5270 - accuracy: 0.6842\n",
            "Epoch 109/300\n",
            "1/1 [==============================] - 0s 11ms/step - loss: 0.5257 - accuracy: 0.6842\n",
            "Epoch 110/300\n",
            "1/1 [==============================] - 0s 14ms/step - loss: 0.5244 - accuracy: 0.6842\n",
            "Epoch 111/300\n",
            "1/1 [==============================] - 0s 16ms/step - loss: 0.5230 - accuracy: 0.6842\n",
            "Epoch 112/300\n",
            "1/1 [==============================] - 0s 27ms/step - loss: 0.5217 - accuracy: 0.6842\n",
            "Epoch 113/300\n",
            "1/1 [==============================] - 0s 9ms/step - loss: 0.5203 - accuracy: 0.6842\n",
            "Epoch 114/300\n",
            "1/1 [==============================] - 0s 7ms/step - loss: 0.5190 - accuracy: 0.6842\n",
            "Epoch 115/300\n",
            "1/1 [==============================] - 0s 10ms/step - loss: 0.5176 - accuracy: 0.6842\n",
            "Epoch 116/300\n",
            "1/1 [==============================] - 0s 6ms/step - loss: 0.5163 - accuracy: 0.6842\n",
            "Epoch 117/300\n",
            "1/1 [==============================] - 0s 6ms/step - loss: 0.5149 - accuracy: 0.6842\n",
            "Epoch 118/300\n",
            "1/1 [==============================] - 0s 9ms/step - loss: 0.5136 - accuracy: 0.6842\n",
            "Epoch 119/300\n",
            "1/1 [==============================] - 0s 12ms/step - loss: 0.5123 - accuracy: 0.6842\n",
            "Epoch 120/300\n",
            "1/1 [==============================] - 0s 9ms/step - loss: 0.5110 - accuracy: 0.6842\n",
            "Epoch 121/300\n",
            "1/1 [==============================] - 0s 6ms/step - loss: 0.5097 - accuracy: 0.6842\n",
            "Epoch 122/300\n",
            "1/1 [==============================] - 0s 5ms/step - loss: 0.5083 - accuracy: 0.6842\n",
            "Epoch 123/300\n",
            "1/1 [==============================] - 0s 5ms/step - loss: 0.5069 - accuracy: 0.6842\n",
            "Epoch 124/300\n",
            "1/1 [==============================] - 0s 5ms/step - loss: 0.5054 - accuracy: 0.6842\n",
            "Epoch 125/300\n",
            "1/1 [==============================] - 0s 5ms/step - loss: 0.5039 - accuracy: 0.6842\n",
            "Epoch 126/300\n",
            "1/1 [==============================] - 0s 5ms/step - loss: 0.5023 - accuracy: 0.6842\n",
            "Epoch 127/300\n",
            "1/1 [==============================] - 0s 5ms/step - loss: 0.5007 - accuracy: 0.6842\n",
            "Epoch 128/300\n",
            "1/1 [==============================] - 0s 7ms/step - loss: 0.4991 - accuracy: 0.6842\n",
            "Epoch 129/300\n",
            "1/1 [==============================] - 0s 9ms/step - loss: 0.4974 - accuracy: 0.6842\n",
            "Epoch 130/300\n",
            "1/1 [==============================] - 0s 5ms/step - loss: 0.4958 - accuracy: 0.6842\n",
            "Epoch 131/300\n",
            "1/1 [==============================] - 0s 6ms/step - loss: 0.4942 - accuracy: 0.6842\n",
            "Epoch 132/300\n",
            "1/1 [==============================] - 0s 6ms/step - loss: 0.4925 - accuracy: 0.6842\n",
            "Epoch 133/300\n",
            "1/1 [==============================] - 0s 5ms/step - loss: 0.4908 - accuracy: 0.6842\n",
            "Epoch 134/300\n",
            "1/1 [==============================] - 0s 5ms/step - loss: 0.4892 - accuracy: 0.6842\n",
            "Epoch 135/300\n",
            "1/1 [==============================] - 0s 5ms/step - loss: 0.4875 - accuracy: 0.6842\n",
            "Epoch 136/300\n",
            "1/1 [==============================] - 0s 7ms/step - loss: 0.4858 - accuracy: 0.6842\n",
            "Epoch 137/300\n",
            "1/1 [==============================] - 0s 6ms/step - loss: 0.4842 - accuracy: 0.6842\n",
            "Epoch 138/300\n",
            "1/1 [==============================] - 0s 7ms/step - loss: 0.4825 - accuracy: 0.6842\n",
            "Epoch 139/300\n",
            "1/1 [==============================] - 0s 8ms/step - loss: 0.4809 - accuracy: 0.6842\n",
            "Epoch 140/300\n",
            "1/1 [==============================] - 0s 5ms/step - loss: 0.4792 - accuracy: 0.6842\n",
            "Epoch 141/300\n",
            "1/1 [==============================] - 0s 5ms/step - loss: 0.4776 - accuracy: 0.8421\n",
            "Epoch 142/300\n",
            "1/1 [==============================] - 0s 6ms/step - loss: 0.4760 - accuracy: 0.8421\n",
            "Epoch 143/300\n",
            "1/1 [==============================] - 0s 5ms/step - loss: 0.4743 - accuracy: 0.8421\n",
            "Epoch 144/300\n",
            "1/1 [==============================] - 0s 6ms/step - loss: 0.4727 - accuracy: 0.8421\n",
            "Epoch 145/300\n",
            "1/1 [==============================] - 0s 7ms/step - loss: 0.4710 - accuracy: 0.8421\n",
            "Epoch 146/300\n",
            "1/1 [==============================] - 0s 6ms/step - loss: 0.4694 - accuracy: 0.8421\n",
            "Epoch 147/300\n",
            "1/1 [==============================] - 0s 6ms/step - loss: 0.4677 - accuracy: 0.8421\n",
            "Epoch 148/300\n",
            "1/1 [==============================] - 0s 6ms/step - loss: 0.4661 - accuracy: 0.8421\n",
            "Epoch 149/300\n",
            "1/1 [==============================] - 0s 6ms/step - loss: 0.4644 - accuracy: 0.8421\n",
            "Epoch 150/300\n",
            "1/1 [==============================] - 0s 6ms/step - loss: 0.4628 - accuracy: 0.8421\n",
            "Epoch 151/300\n",
            "1/1 [==============================] - 0s 6ms/step - loss: 0.4611 - accuracy: 0.8421\n",
            "Epoch 152/300\n",
            "1/1 [==============================] - 0s 6ms/step - loss: 0.4595 - accuracy: 0.8421\n",
            "Epoch 153/300\n",
            "1/1 [==============================] - 0s 5ms/step - loss: 0.4578 - accuracy: 0.8421\n",
            "Epoch 154/300\n",
            "1/1 [==============================] - 0s 5ms/step - loss: 0.4562 - accuracy: 0.8421\n",
            "Epoch 155/300\n",
            "1/1 [==============================] - 0s 6ms/step - loss: 0.4546 - accuracy: 0.8421\n",
            "Epoch 156/300\n",
            "1/1 [==============================] - 0s 6ms/step - loss: 0.4529 - accuracy: 0.8421\n",
            "Epoch 157/300\n",
            "1/1 [==============================] - 0s 6ms/step - loss: 0.4513 - accuracy: 0.8421\n",
            "Epoch 158/300\n",
            "1/1 [==============================] - 0s 6ms/step - loss: 0.4497 - accuracy: 0.8421\n",
            "Epoch 159/300\n",
            "1/1 [==============================] - 0s 6ms/step - loss: 0.4481 - accuracy: 0.8421\n",
            "Epoch 160/300\n",
            "1/1 [==============================] - 0s 6ms/step - loss: 0.4465 - accuracy: 0.8421\n",
            "Epoch 161/300\n",
            "1/1 [==============================] - 0s 6ms/step - loss: 0.4449 - accuracy: 0.8421\n",
            "Epoch 162/300\n",
            "1/1 [==============================] - 0s 7ms/step - loss: 0.4433 - accuracy: 0.8421\n",
            "Epoch 163/300\n",
            "1/1 [==============================] - 0s 7ms/step - loss: 0.4417 - accuracy: 0.8421\n",
            "Epoch 164/300\n",
            "1/1 [==============================] - 0s 7ms/step - loss: 0.4401 - accuracy: 0.8421\n",
            "Epoch 165/300\n",
            "1/1 [==============================] - 0s 7ms/step - loss: 0.4385 - accuracy: 0.8421\n",
            "Epoch 166/300\n",
            "1/1 [==============================] - 0s 6ms/step - loss: 0.4369 - accuracy: 0.8421\n",
            "Epoch 167/300\n",
            "1/1 [==============================] - 0s 6ms/step - loss: 0.4353 - accuracy: 0.8421\n",
            "Epoch 168/300\n",
            "1/1 [==============================] - 0s 6ms/step - loss: 0.4337 - accuracy: 0.8421\n",
            "Epoch 169/300\n",
            "1/1 [==============================] - 0s 5ms/step - loss: 0.4321 - accuracy: 0.8421\n",
            "Epoch 170/300\n",
            "1/1 [==============================] - 0s 7ms/step - loss: 0.4306 - accuracy: 0.8421\n",
            "Epoch 171/300\n",
            "1/1 [==============================] - 0s 5ms/step - loss: 0.4290 - accuracy: 0.8421\n",
            "Epoch 172/300\n",
            "1/1 [==============================] - 0s 6ms/step - loss: 0.4274 - accuracy: 0.8421\n",
            "Epoch 173/300\n",
            "1/1 [==============================] - 0s 7ms/step - loss: 0.4259 - accuracy: 0.8421\n",
            "Epoch 174/300\n",
            "1/1 [==============================] - 0s 7ms/step - loss: 0.4244 - accuracy: 0.8421\n",
            "Epoch 175/300\n",
            "1/1 [==============================] - 0s 6ms/step - loss: 0.4229 - accuracy: 0.8421\n",
            "Epoch 176/300\n",
            "1/1 [==============================] - 0s 8ms/step - loss: 0.4214 - accuracy: 0.8421\n",
            "Epoch 177/300\n",
            "1/1 [==============================] - 0s 8ms/step - loss: 0.4199 - accuracy: 0.8421\n",
            "Epoch 178/300\n",
            "1/1 [==============================] - 0s 6ms/step - loss: 0.4183 - accuracy: 0.8421\n",
            "Epoch 179/300\n",
            "1/1 [==============================] - 0s 9ms/step - loss: 0.4168 - accuracy: 0.8421\n",
            "Epoch 180/300\n",
            "1/1 [==============================] - 0s 8ms/step - loss: 0.4153 - accuracy: 0.8421\n",
            "Epoch 181/300\n",
            "1/1 [==============================] - 0s 8ms/step - loss: 0.4139 - accuracy: 0.8421\n",
            "Epoch 182/300\n",
            "1/1 [==============================] - 0s 5ms/step - loss: 0.4124 - accuracy: 0.8421\n",
            "Epoch 183/300\n",
            "1/1 [==============================] - 0s 9ms/step - loss: 0.4109 - accuracy: 0.8421\n",
            "Epoch 184/300\n",
            "1/1 [==============================] - 0s 6ms/step - loss: 0.4094 - accuracy: 0.8421\n",
            "Epoch 185/300\n",
            "1/1 [==============================] - 0s 6ms/step - loss: 0.4079 - accuracy: 0.8421\n",
            "Epoch 186/300\n",
            "1/1 [==============================] - 0s 7ms/step - loss: 0.4064 - accuracy: 0.8421\n",
            "Epoch 187/300\n",
            "1/1 [==============================] - 0s 7ms/step - loss: 0.4049 - accuracy: 0.8421\n",
            "Epoch 188/300\n",
            "1/1 [==============================] - 0s 5ms/step - loss: 0.4034 - accuracy: 0.8421\n",
            "Epoch 189/300\n",
            "1/1 [==============================] - 0s 5ms/step - loss: 0.4020 - accuracy: 0.8421\n",
            "Epoch 190/300\n",
            "1/1 [==============================] - 0s 6ms/step - loss: 0.4005 - accuracy: 0.8421\n",
            "Epoch 191/300\n",
            "1/1 [==============================] - 0s 6ms/step - loss: 0.3990 - accuracy: 0.8421\n",
            "Epoch 192/300\n",
            "1/1 [==============================] - 0s 6ms/step - loss: 0.3976 - accuracy: 0.8421\n",
            "Epoch 193/300\n",
            "1/1 [==============================] - 0s 6ms/step - loss: 0.3961 - accuracy: 0.8421\n",
            "Epoch 194/300\n",
            "1/1 [==============================] - 0s 6ms/step - loss: 0.3947 - accuracy: 0.8421\n",
            "Epoch 195/300\n",
            "1/1 [==============================] - 0s 6ms/step - loss: 0.3932 - accuracy: 0.8421\n",
            "Epoch 196/300\n",
            "1/1 [==============================] - 0s 8ms/step - loss: 0.3918 - accuracy: 0.8421\n",
            "Epoch 197/300\n",
            "1/1 [==============================] - 0s 6ms/step - loss: 0.3904 - accuracy: 0.8421\n",
            "Epoch 198/300\n",
            "1/1 [==============================] - 0s 5ms/step - loss: 0.3889 - accuracy: 0.8421\n",
            "Epoch 199/300\n",
            "1/1 [==============================] - 0s 5ms/step - loss: 0.3875 - accuracy: 0.8421\n",
            "Epoch 200/300\n",
            "1/1 [==============================] - 0s 4ms/step - loss: 0.3860 - accuracy: 0.8421\n",
            "Epoch 201/300\n",
            "1/1 [==============================] - 0s 7ms/step - loss: 0.3846 - accuracy: 0.9474\n",
            "Epoch 202/300\n",
            "1/1 [==============================] - 0s 6ms/step - loss: 0.3832 - accuracy: 0.9474\n",
            "Epoch 203/300\n",
            "1/1 [==============================] - 0s 6ms/step - loss: 0.3818 - accuracy: 0.9474\n",
            "Epoch 204/300\n",
            "1/1 [==============================] - 0s 7ms/step - loss: 0.3804 - accuracy: 0.9474\n",
            "Epoch 205/300\n",
            "1/1 [==============================] - 0s 7ms/step - loss: 0.3790 - accuracy: 0.9474\n",
            "Epoch 206/300\n",
            "1/1 [==============================] - 0s 19ms/step - loss: 0.3776 - accuracy: 0.9474\n",
            "Epoch 207/300\n",
            "1/1 [==============================] - 0s 19ms/step - loss: 0.3762 - accuracy: 0.9474\n",
            "Epoch 208/300\n",
            "1/1 [==============================] - 0s 7ms/step - loss: 0.3748 - accuracy: 0.9474\n",
            "Epoch 209/300\n",
            "1/1 [==============================] - 0s 9ms/step - loss: 0.3734 - accuracy: 0.9474\n",
            "Epoch 210/300\n",
            "1/1 [==============================] - 0s 6ms/step - loss: 0.3720 - accuracy: 0.9474\n",
            "Epoch 211/300\n",
            "1/1 [==============================] - 0s 7ms/step - loss: 0.3706 - accuracy: 0.9474\n",
            "Epoch 212/300\n",
            "1/1 [==============================] - 0s 6ms/step - loss: 0.3693 - accuracy: 0.9474\n",
            "Epoch 213/300\n",
            "1/1 [==============================] - 0s 7ms/step - loss: 0.3679 - accuracy: 0.9474\n",
            "Epoch 214/300\n",
            "1/1 [==============================] - 0s 5ms/step - loss: 0.3666 - accuracy: 0.9474\n",
            "Epoch 215/300\n",
            "1/1 [==============================] - 0s 7ms/step - loss: 0.3652 - accuracy: 0.9474\n",
            "Epoch 216/300\n",
            "1/1 [==============================] - 0s 9ms/step - loss: 0.3639 - accuracy: 0.9474\n",
            "Epoch 217/300\n",
            "1/1 [==============================] - 0s 8ms/step - loss: 0.3625 - accuracy: 0.9474\n",
            "Epoch 218/300\n",
            "1/1 [==============================] - 0s 7ms/step - loss: 0.3612 - accuracy: 0.9474\n",
            "Epoch 219/300\n",
            "1/1 [==============================] - 0s 8ms/step - loss: 0.3598 - accuracy: 0.9474\n",
            "Epoch 220/300\n",
            "1/1 [==============================] - 0s 10ms/step - loss: 0.3585 - accuracy: 0.9474\n",
            "Epoch 221/300\n",
            "1/1 [==============================] - 0s 7ms/step - loss: 0.3572 - accuracy: 0.9474\n",
            "Epoch 222/300\n",
            "1/1 [==============================] - 0s 19ms/step - loss: 0.3559 - accuracy: 0.9474\n",
            "Epoch 223/300\n",
            "1/1 [==============================] - 0s 6ms/step - loss: 0.3545 - accuracy: 0.9474\n",
            "Epoch 224/300\n",
            "1/1 [==============================] - 0s 8ms/step - loss: 0.3531 - accuracy: 0.9474\n",
            "Epoch 225/300\n",
            "1/1 [==============================] - 0s 6ms/step - loss: 0.3518 - accuracy: 0.9474\n",
            "Epoch 226/300\n",
            "1/1 [==============================] - 0s 6ms/step - loss: 0.3504 - accuracy: 0.9474\n",
            "Epoch 227/300\n",
            "1/1 [==============================] - 0s 16ms/step - loss: 0.3490 - accuracy: 0.9474\n",
            "Epoch 228/300\n",
            "1/1 [==============================] - 0s 9ms/step - loss: 0.3477 - accuracy: 0.9474\n",
            "Epoch 229/300\n",
            "1/1 [==============================] - 0s 5ms/step - loss: 0.3463 - accuracy: 0.9474\n",
            "Epoch 230/300\n",
            "1/1 [==============================] - 0s 4ms/step - loss: 0.3449 - accuracy: 0.9474\n",
            "Epoch 231/300\n",
            "1/1 [==============================] - 0s 6ms/step - loss: 0.3436 - accuracy: 0.9474\n",
            "Epoch 232/300\n",
            "1/1 [==============================] - 0s 9ms/step - loss: 0.3422 - accuracy: 0.9474\n",
            "Epoch 233/300\n",
            "1/1 [==============================] - 0s 6ms/step - loss: 0.3409 - accuracy: 0.9474\n",
            "Epoch 234/300\n",
            "1/1 [==============================] - 0s 5ms/step - loss: 0.3395 - accuracy: 0.9474\n",
            "Epoch 235/300\n",
            "1/1 [==============================] - 0s 8ms/step - loss: 0.3382 - accuracy: 0.9474\n",
            "Epoch 236/300\n",
            "1/1 [==============================] - 0s 7ms/step - loss: 0.3368 - accuracy: 0.9474\n",
            "Epoch 237/300\n",
            "1/1 [==============================] - 0s 5ms/step - loss: 0.3354 - accuracy: 0.9474\n",
            "Epoch 238/300\n",
            "1/1 [==============================] - 0s 5ms/step - loss: 0.3341 - accuracy: 0.9474\n",
            "Epoch 239/300\n",
            "1/1 [==============================] - 0s 5ms/step - loss: 0.3328 - accuracy: 0.9474\n",
            "Epoch 240/300\n",
            "1/1 [==============================] - 0s 6ms/step - loss: 0.3314 - accuracy: 0.9474\n",
            "Epoch 241/300\n",
            "1/1 [==============================] - 0s 5ms/step - loss: 0.3301 - accuracy: 0.9474\n",
            "Epoch 242/300\n",
            "1/1 [==============================] - 0s 6ms/step - loss: 0.3288 - accuracy: 0.9474\n",
            "Epoch 243/300\n",
            "1/1 [==============================] - 0s 7ms/step - loss: 0.3275 - accuracy: 0.9474\n",
            "Epoch 244/300\n",
            "1/1 [==============================] - 0s 7ms/step - loss: 0.3261 - accuracy: 0.9474\n",
            "Epoch 245/300\n",
            "1/1 [==============================] - 0s 6ms/step - loss: 0.3248 - accuracy: 0.9474\n",
            "Epoch 246/300\n",
            "1/1 [==============================] - 0s 7ms/step - loss: 0.3235 - accuracy: 0.9474\n",
            "Epoch 247/300\n",
            "1/1 [==============================] - 0s 6ms/step - loss: 0.3223 - accuracy: 0.9474\n",
            "Epoch 248/300\n",
            "1/1 [==============================] - 0s 4ms/step - loss: 0.3210 - accuracy: 0.9474\n",
            "Epoch 249/300\n",
            "1/1 [==============================] - 0s 5ms/step - loss: 0.3197 - accuracy: 0.9474\n",
            "Epoch 250/300\n",
            "1/1 [==============================] - 0s 7ms/step - loss: 0.3184 - accuracy: 0.9474\n",
            "Epoch 251/300\n",
            "1/1 [==============================] - 0s 7ms/step - loss: 0.3172 - accuracy: 0.9474\n",
            "Epoch 252/300\n",
            "1/1 [==============================] - 0s 7ms/step - loss: 0.3159 - accuracy: 0.9474\n",
            "Epoch 253/300\n",
            "1/1 [==============================] - 0s 7ms/step - loss: 0.3146 - accuracy: 0.9474\n",
            "Epoch 254/300\n",
            "1/1 [==============================] - 0s 7ms/step - loss: 0.3134 - accuracy: 0.9474\n",
            "Epoch 255/300\n",
            "1/1 [==============================] - 0s 7ms/step - loss: 0.3121 - accuracy: 0.9474\n",
            "Epoch 256/300\n",
            "1/1 [==============================] - 0s 6ms/step - loss: 0.3109 - accuracy: 0.9474\n",
            "Epoch 257/300\n",
            "1/1 [==============================] - 0s 6ms/step - loss: 0.3096 - accuracy: 0.9474\n",
            "Epoch 258/300\n",
            "1/1 [==============================] - 0s 7ms/step - loss: 0.3084 - accuracy: 0.9474\n",
            "Epoch 259/300\n",
            "1/1 [==============================] - 0s 8ms/step - loss: 0.3072 - accuracy: 0.9474\n",
            "Epoch 260/300\n",
            "1/1 [==============================] - 0s 6ms/step - loss: 0.3060 - accuracy: 0.9474\n",
            "Epoch 261/300\n",
            "1/1 [==============================] - 0s 7ms/step - loss: 0.3048 - accuracy: 0.9474\n",
            "Epoch 262/300\n",
            "1/1 [==============================] - 0s 28ms/step - loss: 0.3036 - accuracy: 0.9474\n",
            "Epoch 263/300\n",
            "1/1 [==============================] - 0s 4ms/step - loss: 0.3025 - accuracy: 0.9474\n",
            "Epoch 264/300\n",
            "1/1 [==============================] - 0s 7ms/step - loss: 0.3014 - accuracy: 0.9474\n",
            "Epoch 265/300\n",
            "1/1 [==============================] - 0s 6ms/step - loss: 0.3003 - accuracy: 0.9474\n",
            "Epoch 266/300\n",
            "1/1 [==============================] - 0s 7ms/step - loss: 0.2992 - accuracy: 0.9474\n",
            "Epoch 267/300\n",
            "1/1 [==============================] - 0s 6ms/step - loss: 0.2981 - accuracy: 0.9474\n",
            "Epoch 268/300\n",
            "1/1 [==============================] - 0s 7ms/step - loss: 0.2970 - accuracy: 0.9474\n",
            "Epoch 269/300\n",
            "1/1 [==============================] - 0s 45ms/step - loss: 0.2959 - accuracy: 0.9474\n",
            "Epoch 270/300\n",
            "1/1 [==============================] - 0s 21ms/step - loss: 0.2948 - accuracy: 0.9474\n",
            "Epoch 271/300\n",
            "1/1 [==============================] - 0s 11ms/step - loss: 0.2937 - accuracy: 0.9474\n",
            "Epoch 272/300\n",
            "1/1 [==============================] - 0s 14ms/step - loss: 0.2926 - accuracy: 0.9474\n",
            "Epoch 273/300\n",
            "1/1 [==============================] - 0s 5ms/step - loss: 0.2915 - accuracy: 0.9474\n",
            "Epoch 274/300\n",
            "1/1 [==============================] - 0s 8ms/step - loss: 0.2904 - accuracy: 0.9474\n",
            "Epoch 275/300\n",
            "1/1 [==============================] - 0s 7ms/step - loss: 0.2893 - accuracy: 0.9474\n",
            "Epoch 276/300\n",
            "1/1 [==============================] - 0s 5ms/step - loss: 0.2882 - accuracy: 0.9474\n",
            "Epoch 277/300\n",
            "1/1 [==============================] - 0s 8ms/step - loss: 0.2872 - accuracy: 0.9474\n",
            "Epoch 278/300\n",
            "1/1 [==============================] - 0s 22ms/step - loss: 0.2861 - accuracy: 0.9474\n",
            "Epoch 279/300\n",
            "1/1 [==============================] - 0s 24ms/step - loss: 0.2851 - accuracy: 0.9474\n",
            "Epoch 280/300\n",
            "1/1 [==============================] - 0s 10ms/step - loss: 0.2840 - accuracy: 0.9474\n",
            "Epoch 281/300\n",
            "1/1 [==============================] - 0s 6ms/step - loss: 0.2830 - accuracy: 0.9474\n",
            "Epoch 282/300\n",
            "1/1 [==============================] - 0s 7ms/step - loss: 0.2819 - accuracy: 0.9474\n",
            "Epoch 283/300\n",
            "1/1 [==============================] - 0s 11ms/step - loss: 0.2809 - accuracy: 0.9474\n",
            "Epoch 284/300\n",
            "1/1 [==============================] - 0s 11ms/step - loss: 0.2798 - accuracy: 0.9474\n",
            "Epoch 285/300\n",
            "1/1 [==============================] - 0s 20ms/step - loss: 0.2788 - accuracy: 0.9474\n",
            "Epoch 286/300\n",
            "1/1 [==============================] - 0s 11ms/step - loss: 0.2778 - accuracy: 0.9474\n",
            "Epoch 287/300\n",
            "1/1 [==============================] - 0s 11ms/step - loss: 0.2768 - accuracy: 0.9474\n",
            "Epoch 288/300\n",
            "1/1 [==============================] - 0s 5ms/step - loss: 0.2758 - accuracy: 0.9474\n",
            "Epoch 289/300\n",
            "1/1 [==============================] - 0s 7ms/step - loss: 0.2747 - accuracy: 0.9474\n",
            "Epoch 290/300\n",
            "1/1 [==============================] - 0s 5ms/step - loss: 0.2737 - accuracy: 0.9474\n",
            "Epoch 291/300\n",
            "1/1 [==============================] - 0s 5ms/step - loss: 0.2727 - accuracy: 0.9474\n",
            "Epoch 292/300\n",
            "1/1 [==============================] - 0s 5ms/step - loss: 0.2718 - accuracy: 0.9474\n",
            "Epoch 293/300\n",
            "1/1 [==============================] - 0s 7ms/step - loss: 0.2708 - accuracy: 0.9474\n",
            "Epoch 294/300\n",
            "1/1 [==============================] - 0s 5ms/step - loss: 0.2698 - accuracy: 0.9474\n",
            "Epoch 295/300\n",
            "1/1 [==============================] - 0s 7ms/step - loss: 0.2688 - accuracy: 0.9474\n",
            "Epoch 296/300\n",
            "1/1 [==============================] - 0s 6ms/step - loss: 0.2679 - accuracy: 0.9474\n",
            "Epoch 297/300\n",
            "1/1 [==============================] - 0s 5ms/step - loss: 0.2669 - accuracy: 0.9474\n",
            "Epoch 298/300\n",
            "1/1 [==============================] - 0s 4ms/step - loss: 0.2660 - accuracy: 0.9474\n",
            "Epoch 299/300\n",
            "1/1 [==============================] - 0s 6ms/step - loss: 0.2650 - accuracy: 0.9474\n",
            "Epoch 300/300\n",
            "1/1 [==============================] - 0s 5ms/step - loss: 0.2641 - accuracy: 0.9474\n"
          ],
          "name": "stdout"
        }
      ]
    },
    {
      "cell_type": "markdown",
      "metadata": {
        "id": "mdSA4eXrlju4"
      },
      "source": [
        "Below, we predict the probability of the positive class. Now, we just need to adopt a threshold to consider it positive or negative."
      ]
    },
    {
      "cell_type": "code",
      "metadata": {
        "colab": {
          "base_uri": "https://localhost:8080/"
        },
        "id": "n07kjNOglju5",
        "outputId": "1d6c2e97-db3a-4154-f8df-366cc717b76a"
      },
      "source": [
        "neural_net.predict(test_x)"
      ],
      "execution_count": null,
      "outputs": [
        {
          "output_type": "execute_result",
          "data": {
            "text/plain": [
              "array([[0.54948777]], dtype=float32)"
            ]
          },
          "metadata": {
            "tags": []
          },
          "execution_count": 170
        }
      ]
    },
    {
      "cell_type": "code",
      "metadata": {
        "id": "hhTaDSxxmAM1"
      },
      "source": [
        ""
      ],
      "execution_count": null,
      "outputs": []
    }
  ]
}