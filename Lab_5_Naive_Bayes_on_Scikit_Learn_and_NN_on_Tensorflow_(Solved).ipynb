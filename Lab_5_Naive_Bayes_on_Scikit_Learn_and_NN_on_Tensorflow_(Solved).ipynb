{
  "nbformat": 4,
  "nbformat_minor": 0,
  "metadata": {
    "colab": {
      "name": "Lab 5 - Naive Bayes on Scikit-Learn and NN on Tensorflow (Solved)",
      "provenance": [],
      "collapsed_sections": [],
      "toc_visible": true,
      "include_colab_link": true
    },
    "kernelspec": {
      "name": "python3",
      "display_name": "Python 3"
    }
  },
  "cells": [
    {
      "cell_type": "markdown",
      "metadata": {
        "id": "view-in-github",
        "colab_type": "text"
      },
      "source": [
        "<a href=\"https://colab.research.google.com/github/nalika/ESOF3675/blob/main/Lab_5_Naive_Bayes_on_Scikit_Learn_and_NN_on_Tensorflow_(Solved).ipynb\" target=\"_parent\"><img src=\"https://colab.research.google.com/assets/colab-badge.svg\" alt=\"Open In Colab\"/></a>"
      ]
    },
    {
      "cell_type": "markdown",
      "metadata": {
        "id": "Dr-U4eRnodCx"
      },
      "source": [
        "**Student Name:** (First_Name) (Last_Name)\n",
        "\n",
        "**Student ID:** (XXXXXXXXXX)\n",
        "\n",
        "**Lab No.:** 5\n",
        "\n",
        "**Colab link:**"
      ]
    },
    {
      "cell_type": "markdown",
      "metadata": {
        "id": "MUAWrg3PSeFe"
      },
      "source": [
        "# Lab 5 Annoucement\n",
        "\n",
        "In this lab you will work with\n",
        "\n",
        "- Scikit-Learn\n",
        "  - Naive-Bayes Classifier\n",
        "- Tensorflow with Keras\n",
        "  - Neural Networks\n"
      ]
    },
    {
      "cell_type": "markdown",
      "metadata": {
        "id": "AlXHzylMQvMR"
      },
      "source": [
        "# Game Prediction"
      ]
    },
    {
      "cell_type": "code",
      "metadata": {
        "id": "TeGlAUYVSDUL"
      },
      "source": [
        "import pandas as pd"
      ],
      "execution_count": null,
      "outputs": []
    },
    {
      "cell_type": "code",
      "metadata": {
        "id": "pDo5-gTEQy1a"
      },
      "source": [
        "play_data = {\n",
        "    'Day': [f'D{i+1}' for i in range(14)],\n",
        "    'Outlook': [*['Sunny']*2, 'Overcast', *['Rain']*3, 'Overcast', *['Sunny']*2, 'Rain', 'Sunny', *['Overcast']*2, 'Rain'],\n",
        "    'Humidity': [*['High']*4, *['Normal']*3, 'High', *['Normal']*3, 'High', 'Normal', 'High'],\n",
        "    'Wind': ['Weak', 'Strong', *['Weak']*3, *['Strong']*2, *['Weak']*3, *['Strong']*2, 'Weak', 'Strong'],\n",
        "    'Play': [*['No']*2, *['Yes']*3, 'No', 'Yes', 'No', *['Yes']*5, 'No']\n",
        "}\n",
        "\n",
        "df_play = pd.DataFrame(play_data).set_index('Day')"
      ],
      "execution_count": null,
      "outputs": []
    },
    {
      "cell_type": "markdown",
      "metadata": {
        "id": "aC4LlCfIUpym"
      },
      "source": [
        "Considering the `data` below, we want to create a `predictive model` to the `Play` column."
      ]
    },
    {
      "cell_type": "code",
      "metadata": {
        "colab": {
          "base_uri": "https://localhost:8080/",
          "height": 514
        },
        "id": "Fy4S9_CMT7jV",
        "outputId": "06baf280-e57e-42f2-f884-68086cd46ad8"
      },
      "source": [
        "df_play"
      ],
      "execution_count": null,
      "outputs": [
        {
          "output_type": "execute_result",
          "data": {
            "text/html": [
              "<div>\n",
              "<style scoped>\n",
              "    .dataframe tbody tr th:only-of-type {\n",
              "        vertical-align: middle;\n",
              "    }\n",
              "\n",
              "    .dataframe tbody tr th {\n",
              "        vertical-align: top;\n",
              "    }\n",
              "\n",
              "    .dataframe thead th {\n",
              "        text-align: right;\n",
              "    }\n",
              "</style>\n",
              "<table border=\"1\" class=\"dataframe\">\n",
              "  <thead>\n",
              "    <tr style=\"text-align: right;\">\n",
              "      <th></th>\n",
              "      <th>Outlook</th>\n",
              "      <th>Humidity</th>\n",
              "      <th>Wind</th>\n",
              "      <th>Play</th>\n",
              "    </tr>\n",
              "    <tr>\n",
              "      <th>Day</th>\n",
              "      <th></th>\n",
              "      <th></th>\n",
              "      <th></th>\n",
              "      <th></th>\n",
              "    </tr>\n",
              "  </thead>\n",
              "  <tbody>\n",
              "    <tr>\n",
              "      <th>D1</th>\n",
              "      <td>Sunny</td>\n",
              "      <td>High</td>\n",
              "      <td>Weak</td>\n",
              "      <td>No</td>\n",
              "    </tr>\n",
              "    <tr>\n",
              "      <th>D2</th>\n",
              "      <td>Sunny</td>\n",
              "      <td>High</td>\n",
              "      <td>Strong</td>\n",
              "      <td>No</td>\n",
              "    </tr>\n",
              "    <tr>\n",
              "      <th>D3</th>\n",
              "      <td>Overcast</td>\n",
              "      <td>High</td>\n",
              "      <td>Weak</td>\n",
              "      <td>Yes</td>\n",
              "    </tr>\n",
              "    <tr>\n",
              "      <th>D4</th>\n",
              "      <td>Rain</td>\n",
              "      <td>High</td>\n",
              "      <td>Weak</td>\n",
              "      <td>Yes</td>\n",
              "    </tr>\n",
              "    <tr>\n",
              "      <th>D5</th>\n",
              "      <td>Rain</td>\n",
              "      <td>Normal</td>\n",
              "      <td>Weak</td>\n",
              "      <td>Yes</td>\n",
              "    </tr>\n",
              "    <tr>\n",
              "      <th>D6</th>\n",
              "      <td>Rain</td>\n",
              "      <td>Normal</td>\n",
              "      <td>Strong</td>\n",
              "      <td>No</td>\n",
              "    </tr>\n",
              "    <tr>\n",
              "      <th>D7</th>\n",
              "      <td>Overcast</td>\n",
              "      <td>Normal</td>\n",
              "      <td>Strong</td>\n",
              "      <td>Yes</td>\n",
              "    </tr>\n",
              "    <tr>\n",
              "      <th>D8</th>\n",
              "      <td>Sunny</td>\n",
              "      <td>High</td>\n",
              "      <td>Weak</td>\n",
              "      <td>No</td>\n",
              "    </tr>\n",
              "    <tr>\n",
              "      <th>D9</th>\n",
              "      <td>Sunny</td>\n",
              "      <td>Normal</td>\n",
              "      <td>Weak</td>\n",
              "      <td>Yes</td>\n",
              "    </tr>\n",
              "    <tr>\n",
              "      <th>D10</th>\n",
              "      <td>Rain</td>\n",
              "      <td>Normal</td>\n",
              "      <td>Weak</td>\n",
              "      <td>Yes</td>\n",
              "    </tr>\n",
              "    <tr>\n",
              "      <th>D11</th>\n",
              "      <td>Sunny</td>\n",
              "      <td>Normal</td>\n",
              "      <td>Strong</td>\n",
              "      <td>Yes</td>\n",
              "    </tr>\n",
              "    <tr>\n",
              "      <th>D12</th>\n",
              "      <td>Overcast</td>\n",
              "      <td>High</td>\n",
              "      <td>Strong</td>\n",
              "      <td>Yes</td>\n",
              "    </tr>\n",
              "    <tr>\n",
              "      <th>D13</th>\n",
              "      <td>Overcast</td>\n",
              "      <td>Normal</td>\n",
              "      <td>Weak</td>\n",
              "      <td>Yes</td>\n",
              "    </tr>\n",
              "    <tr>\n",
              "      <th>D14</th>\n",
              "      <td>Rain</td>\n",
              "      <td>High</td>\n",
              "      <td>Strong</td>\n",
              "      <td>No</td>\n",
              "    </tr>\n",
              "  </tbody>\n",
              "</table>\n",
              "</div>"
            ],
            "text/plain": [
              "      Outlook Humidity    Wind Play\n",
              "Day                                \n",
              "D1      Sunny     High    Weak   No\n",
              "D2      Sunny     High  Strong   No\n",
              "D3   Overcast     High    Weak  Yes\n",
              "D4       Rain     High    Weak  Yes\n",
              "D5       Rain   Normal    Weak  Yes\n",
              "D6       Rain   Normal  Strong   No\n",
              "D7   Overcast   Normal  Strong  Yes\n",
              "D8      Sunny     High    Weak   No\n",
              "D9      Sunny   Normal    Weak  Yes\n",
              "D10      Rain   Normal    Weak  Yes\n",
              "D11     Sunny   Normal  Strong  Yes\n",
              "D12  Overcast     High  Strong  Yes\n",
              "D13  Overcast   Normal    Weak  Yes\n",
              "D14      Rain     High  Strong   No"
            ]
          },
          "metadata": {
            "tags": []
          },
          "execution_count": 3
        }
      ]
    },
    {
      "cell_type": "markdown",
      "metadata": {
        "id": "YoKcjDZmUZxT"
      },
      "source": [
        "## Tasks"
      ]
    },
    {
      "cell_type": "markdown",
      "metadata": {
        "id": "2zY8vlYVVfb_"
      },
      "source": [
        "Let's create a model using **Bayes' Theorem** to predict the `Play` column. Thus, we will have three categorical inputs (`Outlook`, `Humidity` and `Wind`)."
      ]
    },
    {
      "cell_type": "markdown",
      "metadata": {
        "id": "r73dtSdewbFB"
      },
      "source": [
        "**Task 1**\n",
        "\n",
        "Let's calculate the *apropri* probabilities for `Play=Yes` and `Play=No`"
      ]
    },
    {
      "cell_type": "code",
      "metadata": {
        "id": "irB8UALwwp-1"
      },
      "source": [
        "# Tip: Use the values_counts function to calculate the number of occurencies\n",
        "def count_value(event, value):\n",
        "  occurences = df_play[event].value_counts()\n",
        "  return occurences[value]\n",
        "\n",
        "def apriori(event='Play', value='Yes'):\n",
        "  num_values = count_value(event, value)\n",
        "  total_events = len(df_play)\n",
        "  probability = num_values/total_events\n",
        "  return probability"
      ],
      "execution_count": null,
      "outputs": []
    },
    {
      "cell_type": "code",
      "metadata": {
        "colab": {
          "base_uri": "https://localhost:8080/"
        },
        "id": "NztI7-2b-QtQ",
        "outputId": "7d4aa44e-1fbe-43a7-af43-aa049f20855c"
      },
      "source": [
        "count_value('Play', 'Yes'), count_value('Play', 'No')"
      ],
      "execution_count": null,
      "outputs": [
        {
          "output_type": "execute_result",
          "data": {
            "text/plain": [
              "(9, 5)"
            ]
          },
          "metadata": {
            "tags": []
          },
          "execution_count": 5
        }
      ]
    },
    {
      "cell_type": "code",
      "metadata": {
        "colab": {
          "base_uri": "https://localhost:8080/"
        },
        "id": "IX_YelG4xxXz",
        "outputId": "65aa643b-8d9e-4c7b-e1fb-2cde6933efbf"
      },
      "source": [
        "apriori(value='Yes'), apriori(value='No')"
      ],
      "execution_count": null,
      "outputs": [
        {
          "output_type": "execute_result",
          "data": {
            "text/plain": [
              "(0.6428571428571429, 0.35714285714285715)"
            ]
          },
          "metadata": {
            "tags": []
          },
          "execution_count": 6
        }
      ]
    },
    {
      "cell_type": "markdown",
      "metadata": {
        "id": "NFGK0_6rwBrR"
      },
      "source": [
        "**Task 2**\n",
        "\n",
        "Use the `group` by function to count the number of occurrencies for the `Outlook` for each value of `Play`."
      ]
    },
    {
      "cell_type": "code",
      "metadata": {
        "colab": {
          "base_uri": "https://localhost:8080/",
          "height": 235
        },
        "id": "bVC6FI-_tCbs",
        "outputId": "33c6af03-df52-45c5-dd9f-1634d591278e"
      },
      "source": [
        "df_outlook = df_play.groupby(['Outlook', 'Play']).count()\n",
        "df_outlook"
      ],
      "execution_count": null,
      "outputs": [
        {
          "output_type": "execute_result",
          "data": {
            "text/html": [
              "<div>\n",
              "<style scoped>\n",
              "    .dataframe tbody tr th:only-of-type {\n",
              "        vertical-align: middle;\n",
              "    }\n",
              "\n",
              "    .dataframe tbody tr th {\n",
              "        vertical-align: top;\n",
              "    }\n",
              "\n",
              "    .dataframe thead th {\n",
              "        text-align: right;\n",
              "    }\n",
              "</style>\n",
              "<table border=\"1\" class=\"dataframe\">\n",
              "  <thead>\n",
              "    <tr style=\"text-align: right;\">\n",
              "      <th></th>\n",
              "      <th></th>\n",
              "      <th>Humidity</th>\n",
              "      <th>Wind</th>\n",
              "    </tr>\n",
              "    <tr>\n",
              "      <th>Outlook</th>\n",
              "      <th>Play</th>\n",
              "      <th></th>\n",
              "      <th></th>\n",
              "    </tr>\n",
              "  </thead>\n",
              "  <tbody>\n",
              "    <tr>\n",
              "      <th>Overcast</th>\n",
              "      <th>Yes</th>\n",
              "      <td>4</td>\n",
              "      <td>4</td>\n",
              "    </tr>\n",
              "    <tr>\n",
              "      <th rowspan=\"2\" valign=\"top\">Rain</th>\n",
              "      <th>No</th>\n",
              "      <td>2</td>\n",
              "      <td>2</td>\n",
              "    </tr>\n",
              "    <tr>\n",
              "      <th>Yes</th>\n",
              "      <td>3</td>\n",
              "      <td>3</td>\n",
              "    </tr>\n",
              "    <tr>\n",
              "      <th rowspan=\"2\" valign=\"top\">Sunny</th>\n",
              "      <th>No</th>\n",
              "      <td>3</td>\n",
              "      <td>3</td>\n",
              "    </tr>\n",
              "    <tr>\n",
              "      <th>Yes</th>\n",
              "      <td>2</td>\n",
              "      <td>2</td>\n",
              "    </tr>\n",
              "  </tbody>\n",
              "</table>\n",
              "</div>"
            ],
            "text/plain": [
              "               Humidity  Wind\n",
              "Outlook  Play                \n",
              "Overcast Yes          4     4\n",
              "Rain     No           2     2\n",
              "         Yes          3     3\n",
              "Sunny    No           3     3\n",
              "         Yes          2     2"
            ]
          },
          "metadata": {
            "tags": []
          },
          "execution_count": 7
        }
      ]
    },
    {
      "cell_type": "code",
      "metadata": {
        "colab": {
          "base_uri": "https://localhost:8080/",
          "height": 266
        },
        "id": "xMrdO3TL1TM0",
        "outputId": "b5c2f15a-f160-4b24-e4d7-f948894b3c57"
      },
      "source": [
        "df_outlook = df_outlook.unstack(['Play']).fillna(0).stack(['Play'])\n",
        "df_outlook"
      ],
      "execution_count": null,
      "outputs": [
        {
          "output_type": "execute_result",
          "data": {
            "text/html": [
              "<div>\n",
              "<style scoped>\n",
              "    .dataframe tbody tr th:only-of-type {\n",
              "        vertical-align: middle;\n",
              "    }\n",
              "\n",
              "    .dataframe tbody tr th {\n",
              "        vertical-align: top;\n",
              "    }\n",
              "\n",
              "    .dataframe thead th {\n",
              "        text-align: right;\n",
              "    }\n",
              "</style>\n",
              "<table border=\"1\" class=\"dataframe\">\n",
              "  <thead>\n",
              "    <tr style=\"text-align: right;\">\n",
              "      <th></th>\n",
              "      <th></th>\n",
              "      <th>Humidity</th>\n",
              "      <th>Wind</th>\n",
              "    </tr>\n",
              "    <tr>\n",
              "      <th>Outlook</th>\n",
              "      <th>Play</th>\n",
              "      <th></th>\n",
              "      <th></th>\n",
              "    </tr>\n",
              "  </thead>\n",
              "  <tbody>\n",
              "    <tr>\n",
              "      <th rowspan=\"2\" valign=\"top\">Overcast</th>\n",
              "      <th>No</th>\n",
              "      <td>0.0</td>\n",
              "      <td>0.0</td>\n",
              "    </tr>\n",
              "    <tr>\n",
              "      <th>Yes</th>\n",
              "      <td>4.0</td>\n",
              "      <td>4.0</td>\n",
              "    </tr>\n",
              "    <tr>\n",
              "      <th rowspan=\"2\" valign=\"top\">Rain</th>\n",
              "      <th>No</th>\n",
              "      <td>2.0</td>\n",
              "      <td>2.0</td>\n",
              "    </tr>\n",
              "    <tr>\n",
              "      <th>Yes</th>\n",
              "      <td>3.0</td>\n",
              "      <td>3.0</td>\n",
              "    </tr>\n",
              "    <tr>\n",
              "      <th rowspan=\"2\" valign=\"top\">Sunny</th>\n",
              "      <th>No</th>\n",
              "      <td>3.0</td>\n",
              "      <td>3.0</td>\n",
              "    </tr>\n",
              "    <tr>\n",
              "      <th>Yes</th>\n",
              "      <td>2.0</td>\n",
              "      <td>2.0</td>\n",
              "    </tr>\n",
              "  </tbody>\n",
              "</table>\n",
              "</div>"
            ],
            "text/plain": [
              "               Humidity  Wind\n",
              "Outlook  Play                \n",
              "Overcast No         0.0   0.0\n",
              "         Yes        4.0   4.0\n",
              "Rain     No         2.0   2.0\n",
              "         Yes        3.0   3.0\n",
              "Sunny    No         3.0   3.0\n",
              "         Yes        2.0   2.0"
            ]
          },
          "metadata": {
            "tags": []
          },
          "execution_count": 8
        }
      ]
    },
    {
      "cell_type": "code",
      "metadata": {
        "colab": {
          "base_uri": "https://localhost:8080/"
        },
        "id": "9rreguQuvbea",
        "outputId": "9d942984-3ac3-409d-f4d1-2c91143974e1"
      },
      "source": [
        "df_outlook.loc[('Sunny', 'Yes')][0]"
      ],
      "execution_count": null,
      "outputs": [
        {
          "output_type": "execute_result",
          "data": {
            "text/plain": [
              "2.0"
            ]
          },
          "metadata": {
            "tags": []
          },
          "execution_count": 9
        }
      ]
    },
    {
      "cell_type": "markdown",
      "metadata": {
        "id": "rKpq2tZX1Xmi"
      },
      "source": [
        "**Task 3**\n",
        "\n",
        "Compute Probability of `Sunny` given `Yes`.\n"
      ]
    },
    {
      "cell_type": "code",
      "metadata": {
        "colab": {
          "base_uri": "https://localhost:8080/"
        },
        "id": "O89T-4Bh28F-",
        "outputId": "9a677760-6408-496e-dbf4-e4e58c24f4c4"
      },
      "source": [
        "prob = df_outlook.loc[('Sunny', 'Yes')][0]/count_value('Play', 'Yes')\n",
        "prob"
      ],
      "execution_count": null,
      "outputs": [
        {
          "output_type": "execute_result",
          "data": {
            "text/plain": [
              "0.2222222222222222"
            ]
          },
          "metadata": {
            "tags": []
          },
          "execution_count": 10
        }
      ]
    },
    {
      "cell_type": "markdown",
      "metadata": {
        "id": "ITUsJ4pVz_V4"
      },
      "source": [
        "**Task 4**\n",
        "\n",
        "Apply the soluton of Task 2 and 3 to finish the code for calculating the likelyhood of a given event (e.g. `Outlook`, `Humidity` and `Wind`) given another outcome (`Play`) event."
      ]
    },
    {
      "cell_type": "code",
      "metadata": {
        "id": "BzVXqFLIzBHb"
      },
      "source": [
        "def Likelyhood(event, event_value, outcome_event='Play', outcome_value=None):\n",
        "  occurrencies_event = df_play.groupby([event, outcome_event]).count()\n",
        "  occurrencies_event = occurrencies_event.unstack([outcome_event]).fillna(0).stack([outcome_event])\n",
        "  count_event = occurrencies_event.loc[(event_value, outcome_value)][0]\n",
        "  count_outcome = count_value(outcome_event, outcome_value)\n",
        "  likelyhood = count_event/count_outcome\n",
        "  return likelyhood"
      ],
      "execution_count": null,
      "outputs": []
    },
    {
      "cell_type": "code",
      "metadata": {
        "colab": {
          "base_uri": "https://localhost:8080/"
        },
        "id": "wpqlTcWSutOt",
        "outputId": "9acb0770-a17d-4013-9650-b32875884176"
      },
      "source": [
        "Likelyhood('Outlook', 'Sunny', outcome_value='Yes')"
      ],
      "execution_count": null,
      "outputs": [
        {
          "output_type": "execute_result",
          "data": {
            "text/plain": [
              "0.2222222222222222"
            ]
          },
          "metadata": {
            "tags": []
          },
          "execution_count": 12
        }
      ]
    },
    {
      "cell_type": "markdown",
      "metadata": {
        "id": "2YSxIvdf8nQ3"
      },
      "source": [
        "**Task 5**\n",
        "\n",
        "Calculate the likelyhood of `Yes` given `Sunny`"
      ]
    },
    {
      "cell_type": "code",
      "metadata": {
        "colab": {
          "base_uri": "https://localhost:8080/"
        },
        "id": "ZnsoEQO-8KDR",
        "outputId": "116f201c-8503-4ea5-a68f-d6a186345cac"
      },
      "source": [
        "Likelyhood('Outlook', 'Sunny', outcome_value='Yes') * apriori(value='Yes') / apriori('Outlook', 'Sunny')"
      ],
      "execution_count": null,
      "outputs": [
        {
          "output_type": "execute_result",
          "data": {
            "text/plain": [
              "0.39999999999999997"
            ]
          },
          "metadata": {
            "tags": []
          },
          "execution_count": 13
        }
      ]
    },
    {
      "cell_type": "markdown",
      "metadata": {
        "id": "lIHguXxs9SLS"
      },
      "source": [
        "**Task 6**\n",
        "\n",
        "Calculate the likelyhood of `No` given `Sunny`"
      ]
    },
    {
      "cell_type": "code",
      "metadata": {
        "colab": {
          "base_uri": "https://localhost:8080/"
        },
        "id": "vEu9gjET8Jt7",
        "outputId": "015346d9-ff27-4ab7-c2e0-e8d9f35ae5f5"
      },
      "source": [
        "Likelyhood('Outlook', 'Sunny', outcome_value='No') * apriori(value='No') / apriori('Outlook', 'Sunny')"
      ],
      "execution_count": null,
      "outputs": [
        {
          "output_type": "execute_result",
          "data": {
            "text/plain": [
              "0.6"
            ]
          },
          "metadata": {
            "tags": []
          },
          "execution_count": 14
        }
      ]
    },
    {
      "cell_type": "markdown",
      "metadata": {
        "id": "Qz4BhFj4_cvt"
      },
      "source": [
        "**Task 7**\n",
        "\n",
        "Apply your solution to Tasks 5 and 6 to implement the Likelyhood functions below. Each function takes a observed value and an outcome value."
      ]
    },
    {
      "cell_type": "code",
      "metadata": {
        "id": "tsESbBQy_ejN"
      },
      "source": [
        "def L_outcome_given_outlook(outcome, observed):\n",
        "  return Likelyhood('Outlook', observed, outcome_value=outcome) * apriori(value=outcome) / apriori('Outlook', observed)\n",
        "\n",
        "def L_outcome_given_humidity(outcome, observed):\n",
        "  return Likelyhood('Humidity', observed, outcome_value=outcome) * apriori(value=outcome) / apriori('Humidity', observed)\n",
        "\n",
        "def L_outcome_given_wind(outcome, observed):\n",
        "  return Likelyhood('Wind', observed, outcome_value=outcome) * apriori(value=outcome) / apriori('Wind', observed)"
      ],
      "execution_count": null,
      "outputs": []
    },
    {
      "cell_type": "code",
      "metadata": {
        "colab": {
          "base_uri": "https://localhost:8080/"
        },
        "id": "JPC4Cd-dAUB9",
        "outputId": "afdd8664-2f6e-4211-e3bc-c7a9ca368bc1"
      },
      "source": [
        "L_outcome_given_outlook('Yes', observed='Sunny'), L_outcome_given_outlook('No', observed='Sunny')"
      ],
      "execution_count": null,
      "outputs": [
        {
          "output_type": "execute_result",
          "data": {
            "text/plain": [
              "(0.39999999999999997, 0.6)"
            ]
          },
          "metadata": {
            "tags": []
          },
          "execution_count": 16
        }
      ]
    },
    {
      "cell_type": "code",
      "metadata": {
        "colab": {
          "base_uri": "https://localhost:8080/"
        },
        "id": "2zLLzOiKAT7d",
        "outputId": "1e46bf16-8677-4b85-a86a-0bd1221cadf2"
      },
      "source": [
        "L_outcome_given_humidity('Yes', observed='High'), L_outcome_given_humidity('No', observed='High')"
      ],
      "execution_count": null,
      "outputs": [
        {
          "output_type": "execute_result",
          "data": {
            "text/plain": [
              "(0.4285714285714286, 0.5714285714285715)"
            ]
          },
          "metadata": {
            "tags": []
          },
          "execution_count": 17
        }
      ]
    },
    {
      "cell_type": "code",
      "metadata": {
        "colab": {
          "base_uri": "https://localhost:8080/"
        },
        "id": "s6xhPEvVATur",
        "outputId": "175d1184-2790-4a90-afac-ac416d528a87"
      },
      "source": [
        "L_outcome_given_wind('Yes', observed='Weak'), L_outcome_given_wind('No', observed='Weak')"
      ],
      "execution_count": null,
      "outputs": [
        {
          "output_type": "execute_result",
          "data": {
            "text/plain": [
              "(0.7500000000000001, 0.25000000000000006)"
            ]
          },
          "metadata": {
            "tags": []
          },
          "execution_count": 18
        }
      ]
    },
    {
      "cell_type": "markdown",
      "metadata": {
        "id": "s-C13YklD0AZ"
      },
      "source": [
        "**Task 8**\n",
        "\n",
        "Implement the function below. It will calculate the likelihood of an outcome given all the events of a Day."
      ]
    },
    {
      "cell_type": "code",
      "metadata": {
        "id": "36PrdH9KED2E"
      },
      "source": [
        "def L_outcome_given_day(outcome, outlook, humidity, wind):\n",
        "  return Likelyhood('Outlook', outlook, outcome_value=outcome) * \\\n",
        "          Likelyhood('Humidity', humidity, outcome_value=outcome) * \\\n",
        "          Likelyhood('Wind', wind, outcome_value=outcome) * apriori('Play', outcome)"
      ],
      "execution_count": null,
      "outputs": []
    },
    {
      "cell_type": "markdown",
      "metadata": {
        "id": "IP9J2FCx9kMg"
      },
      "source": [
        "Suppose we have a Day with the values below, predict what is the most likely outcome.\n",
        "\n",
        "- Outlook =  Rain\n",
        "- Humidity =  High\n",
        "- Wind = Weak\n",
        "- Play =?\n"
      ]
    },
    {
      "cell_type": "code",
      "metadata": {
        "colab": {
          "base_uri": "https://localhost:8080/"
        },
        "id": "dunSUoZcE0Uw",
        "outputId": "d56aed78-ee0b-4dd3-8214-80c73b886ba7"
      },
      "source": [
        "L_outcome_given_day('Yes', 'Rain', 'High', 'Weak')"
      ],
      "execution_count": null,
      "outputs": [
        {
          "output_type": "execute_result",
          "data": {
            "text/plain": [
              "0.04761904761904762"
            ]
          },
          "metadata": {
            "tags": []
          },
          "execution_count": 20
        }
      ]
    },
    {
      "cell_type": "code",
      "metadata": {
        "colab": {
          "base_uri": "https://localhost:8080/"
        },
        "id": "CWHBUIMMGH-o",
        "outputId": "93b707ab-84f4-422f-d976-f8e0e3ae387f"
      },
      "source": [
        "L_outcome_given_day('No', 'Rain', 'High', 'Weak')"
      ],
      "execution_count": null,
      "outputs": [
        {
          "output_type": "execute_result",
          "data": {
            "text/plain": [
              "0.04571428571428573"
            ]
          },
          "metadata": {
            "tags": []
          },
          "execution_count": 21
        }
      ]
    },
    {
      "cell_type": "code",
      "metadata": {
        "colab": {
          "base_uri": "https://localhost:8080/",
          "height": 111
        },
        "id": "de72SFyZGQ7D",
        "outputId": "5eb8d90b-795c-4672-e1ec-62dc253c3652"
      },
      "source": [
        "df_play.iloc[3:4]"
      ],
      "execution_count": null,
      "outputs": [
        {
          "output_type": "execute_result",
          "data": {
            "text/html": [
              "<div>\n",
              "<style scoped>\n",
              "    .dataframe tbody tr th:only-of-type {\n",
              "        vertical-align: middle;\n",
              "    }\n",
              "\n",
              "    .dataframe tbody tr th {\n",
              "        vertical-align: top;\n",
              "    }\n",
              "\n",
              "    .dataframe thead th {\n",
              "        text-align: right;\n",
              "    }\n",
              "</style>\n",
              "<table border=\"1\" class=\"dataframe\">\n",
              "  <thead>\n",
              "    <tr style=\"text-align: right;\">\n",
              "      <th></th>\n",
              "      <th>Outlook</th>\n",
              "      <th>Humidity</th>\n",
              "      <th>Wind</th>\n",
              "      <th>Play</th>\n",
              "    </tr>\n",
              "    <tr>\n",
              "      <th>Day</th>\n",
              "      <th></th>\n",
              "      <th></th>\n",
              "      <th></th>\n",
              "      <th></th>\n",
              "    </tr>\n",
              "  </thead>\n",
              "  <tbody>\n",
              "    <tr>\n",
              "      <th>D4</th>\n",
              "      <td>Rain</td>\n",
              "      <td>High</td>\n",
              "      <td>Weak</td>\n",
              "      <td>Yes</td>\n",
              "    </tr>\n",
              "  </tbody>\n",
              "</table>\n",
              "</div>"
            ],
            "text/plain": [
              "    Outlook Humidity  Wind Play\n",
              "Day                            \n",
              "D4     Rain     High  Weak  Yes"
            ]
          },
          "metadata": {
            "tags": []
          },
          "execution_count": 22
        }
      ]
    },
    {
      "cell_type": "markdown",
      "metadata": {
        "id": "_kQP0Os6CBrk"
      },
      "source": [
        "**Task 9**\n",
        "\n",
        "Use Scikit Learn to fit the provided data"
      ]
    },
    {
      "cell_type": "code",
      "metadata": {
        "id": "oNpdwAxYHkkY"
      },
      "source": [
        "from sklearn.pipeline import make_pipeline\n",
        "from sklearn.preprocessing import OrdinalEncoder\n",
        "from sklearn.naive_bayes import CategoricalNB"
      ],
      "execution_count": null,
      "outputs": []
    },
    {
      "cell_type": "code",
      "metadata": {
        "id": "7ZpzgkCWGl92"
      },
      "source": [
        "pipe_nb = make_pipeline(\n",
        "  OrdinalEncoder(),\n",
        "  CategoricalNB()\n",
        ")"
      ],
      "execution_count": null,
      "outputs": []
    },
    {
      "cell_type": "code",
      "metadata": {
        "colab": {
          "base_uri": "https://localhost:8080/"
        },
        "id": "7slBO1jVB-ma",
        "outputId": "97d47085-2b30-47d4-dc9c-cc5351b43ec6"
      },
      "source": [
        "pipe_nb.fit(df_play.drop(columns='Play'), df_play['Play'])"
      ],
      "execution_count": null,
      "outputs": [
        {
          "output_type": "execute_result",
          "data": {
            "text/plain": [
              "Pipeline(memory=None,\n",
              "         steps=[('ordinalencoder',\n",
              "                 OrdinalEncoder(categories='auto',\n",
              "                                dtype=<class 'numpy.float64'>)),\n",
              "                ('categoricalnb',\n",
              "                 CategoricalNB(alpha=1.0, class_prior=None, fit_prior=True))],\n",
              "         verbose=False)"
            ]
          },
          "metadata": {
            "tags": []
          },
          "execution_count": 25
        }
      ]
    },
    {
      "cell_type": "code",
      "metadata": {
        "colab": {
          "base_uri": "https://localhost:8080/",
          "height": 235
        },
        "id": "d2pWrC4MIZij",
        "outputId": "ae2843de-db3a-49de-c3ae-c38750ff50d8"
      },
      "source": [
        "df_play.head()"
      ],
      "execution_count": null,
      "outputs": [
        {
          "output_type": "execute_result",
          "data": {
            "text/html": [
              "<div>\n",
              "<style scoped>\n",
              "    .dataframe tbody tr th:only-of-type {\n",
              "        vertical-align: middle;\n",
              "    }\n",
              "\n",
              "    .dataframe tbody tr th {\n",
              "        vertical-align: top;\n",
              "    }\n",
              "\n",
              "    .dataframe thead th {\n",
              "        text-align: right;\n",
              "    }\n",
              "</style>\n",
              "<table border=\"1\" class=\"dataframe\">\n",
              "  <thead>\n",
              "    <tr style=\"text-align: right;\">\n",
              "      <th></th>\n",
              "      <th>Outlook</th>\n",
              "      <th>Humidity</th>\n",
              "      <th>Wind</th>\n",
              "      <th>Play</th>\n",
              "    </tr>\n",
              "    <tr>\n",
              "      <th>Day</th>\n",
              "      <th></th>\n",
              "      <th></th>\n",
              "      <th></th>\n",
              "      <th></th>\n",
              "    </tr>\n",
              "  </thead>\n",
              "  <tbody>\n",
              "    <tr>\n",
              "      <th>D1</th>\n",
              "      <td>Sunny</td>\n",
              "      <td>High</td>\n",
              "      <td>Weak</td>\n",
              "      <td>No</td>\n",
              "    </tr>\n",
              "    <tr>\n",
              "      <th>D2</th>\n",
              "      <td>Sunny</td>\n",
              "      <td>High</td>\n",
              "      <td>Strong</td>\n",
              "      <td>No</td>\n",
              "    </tr>\n",
              "    <tr>\n",
              "      <th>D3</th>\n",
              "      <td>Overcast</td>\n",
              "      <td>High</td>\n",
              "      <td>Weak</td>\n",
              "      <td>Yes</td>\n",
              "    </tr>\n",
              "    <tr>\n",
              "      <th>D4</th>\n",
              "      <td>Rain</td>\n",
              "      <td>High</td>\n",
              "      <td>Weak</td>\n",
              "      <td>Yes</td>\n",
              "    </tr>\n",
              "    <tr>\n",
              "      <th>D5</th>\n",
              "      <td>Rain</td>\n",
              "      <td>Normal</td>\n",
              "      <td>Weak</td>\n",
              "      <td>Yes</td>\n",
              "    </tr>\n",
              "  </tbody>\n",
              "</table>\n",
              "</div>"
            ],
            "text/plain": [
              "      Outlook Humidity    Wind Play\n",
              "Day                                \n",
              "D1      Sunny     High    Weak   No\n",
              "D2      Sunny     High  Strong   No\n",
              "D3   Overcast     High    Weak  Yes\n",
              "D4       Rain     High    Weak  Yes\n",
              "D5       Rain   Normal    Weak  Yes"
            ]
          },
          "metadata": {
            "tags": []
          },
          "execution_count": 26
        }
      ]
    },
    {
      "cell_type": "code",
      "metadata": {
        "colab": {
          "base_uri": "https://localhost:8080/"
        },
        "id": "p2ztkrMlB-it",
        "outputId": "3ee652c4-2a93-428f-c947-3abd3ffec6a3"
      },
      "source": [
        "pipe_nb.predict([['Rain', 'High', 'Weak']])"
      ],
      "execution_count": null,
      "outputs": [
        {
          "output_type": "execute_result",
          "data": {
            "text/plain": [
              "array(['Yes'], dtype='<U3')"
            ]
          },
          "metadata": {
            "tags": []
          },
          "execution_count": 27
        }
      ]
    },
    {
      "cell_type": "markdown",
      "metadata": {
        "id": "qTxMMckjJJlV"
      },
      "source": [
        "---\n",
        "\n",
        "# Tensorflow with Keras"
      ]
    },
    {
      "cell_type": "markdown",
      "metadata": {
        "id": "2WbhYDXEKyyO"
      },
      "source": [
        "In this section we will introduce how to create models using tensorflow with Keras."
      ]
    },
    {
      "cell_type": "code",
      "metadata": {
        "id": "AVQqnjljJMgZ"
      },
      "source": [
        "from keras.datasets import mnist\n",
        "from keras.models import Sequential\n",
        "from keras.layers import Input, Flatten, MaxPool2D, Conv2D, Dense, Reshape, Dropout\n",
        "from keras.utils import np_utils"
      ],
      "execution_count": null,
      "outputs": []
    },
    {
      "cell_type": "markdown",
      "metadata": {
        "id": "aMY0Ln4EKbO4"
      },
      "source": [
        "## MNIST Dataset"
      ]
    },
    {
      "cell_type": "markdown",
      "metadata": {
        "id": "3fJScy2fKnCy"
      },
      "source": [
        "![image.png](data:image/png;base64,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)"
      ]
    },
    {
      "cell_type": "code",
      "metadata": {
        "id": "AuHAuxgqJd4B"
      },
      "source": [
        "# Load pre-shuffled MNIST data into train and test sets\n",
        "(X_train, y_train), (X_test, y_test) = mnist.load_data()\n",
        "X_train = X_train.reshape(X_train.shape[0], 28, 28, 1)\n",
        "X_test = X_test.reshape(X_test.shape[0], 28, 28, 1)\n",
        "X_train = X_train.astype('float32')\n",
        "X_test = X_test.astype('float32')\n",
        "X_train /= 255\n",
        "X_test /= 255\n",
        "Y_train = np_utils.to_categorical(y_train, 10)\n",
        "Y_test = np_utils.to_categorical(y_test, 10)"
      ],
      "execution_count": null,
      "outputs": []
    },
    {
      "cell_type": "markdown",
      "metadata": {
        "id": "eXCsyOJILIOF"
      },
      "source": [
        "## Creating Models"
      ]
    },
    {
      "cell_type": "markdown",
      "metadata": {
        "id": "KFlGaLwOK7wv"
      },
      "source": [
        "**Task 10**\n",
        "\n",
        "Let's create the simplest model we can have. The plain `softmax` layer, i.e an `Dense` layer with the `softmax` activation function. The last layer should contains a neuron per each output class."
      ]
    },
    {
      "cell_type": "code",
      "metadata": {
        "id": "gXggts3PKrVu"
      },
      "source": [
        "model_softmax = Sequential([\n",
        "  Input(shape=(28, 28, 1)),\n",
        "  Flatten(),\n",
        "  # Add the softmax layer in here\n",
        "  Dense(units=10, activation='softmax'),\n",
        "])"
      ],
      "execution_count": null,
      "outputs": []
    },
    {
      "cell_type": "markdown",
      "metadata": {
        "id": "j5JeZBgaNHoT"
      },
      "source": [
        "**Task 11**\n",
        "\n",
        "Compile the model, use the `compile` function. Define the `categorical_crossentropy` as loss, `adam` as optimizer and `accuracy` as metrics."
      ]
    },
    {
      "cell_type": "code",
      "metadata": {
        "id": "_QMX2D79Mf3K"
      },
      "source": [
        "model_softmax.compile(loss = 'categorical_crossentropy', optimizer = 'adam', metrics = ['accuracy'])"
      ],
      "execution_count": null,
      "outputs": []
    },
    {
      "cell_type": "markdown",
      "metadata": {
        "id": "iWkG05K3NfYf"
      },
      "source": [
        "Summarizing the model layers, their shape an trainable parameters."
      ]
    },
    {
      "cell_type": "code",
      "metadata": {
        "colab": {
          "base_uri": "https://localhost:8080/"
        },
        "id": "BAUZCDN9Mu9T",
        "outputId": "1fa27252-84c7-4b15-e28b-1665d055ca77"
      },
      "source": [
        "model_softmax.summary()"
      ],
      "execution_count": null,
      "outputs": [
        {
          "output_type": "stream",
          "text": [
            "Model: \"sequential\"\n",
            "_________________________________________________________________\n",
            "Layer (type)                 Output Shape              Param #   \n",
            "=================================================================\n",
            "flatten (Flatten)            (None, 784)               0         \n",
            "_________________________________________________________________\n",
            "dense (Dense)                (None, 10)                7850      \n",
            "=================================================================\n",
            "Total params: 7,850\n",
            "Trainable params: 7,850\n",
            "Non-trainable params: 0\n",
            "_________________________________________________________________\n"
          ],
          "name": "stdout"
        }
      ]
    },
    {
      "cell_type": "markdown",
      "metadata": {
        "id": "uANOAliNN-jG"
      },
      "source": [
        "Training model"
      ]
    },
    {
      "cell_type": "code",
      "metadata": {
        "colab": {
          "base_uri": "https://localhost:8080/"
        },
        "id": "oQXUjtPOMw16",
        "outputId": "095fa126-4b4b-4d7b-8eb0-726ac1ba2993"
      },
      "source": [
        "model_softmax.fit(X_train, Y_train, batch_size = 32, epochs = 10, validation_data=(X_test, Y_test), validation_freq=2, verbose = 1);"
      ],
      "execution_count": null,
      "outputs": [
        {
          "output_type": "stream",
          "text": [
            "Epoch 1/10\n",
            "1875/1875 [==============================] - 3s 1ms/step - loss: 0.7039 - accuracy: 0.8163\n",
            "Epoch 2/10\n",
            "1875/1875 [==============================] - 3s 2ms/step - loss: 0.3060 - accuracy: 0.9170 - val_loss: 0.2803 - val_accuracy: 0.9217\n",
            "Epoch 3/10\n",
            "1875/1875 [==============================] - 2s 1ms/step - loss: 0.2887 - accuracy: 0.9200\n",
            "Epoch 4/10\n",
            "1875/1875 [==============================] - 3s 1ms/step - loss: 0.2758 - accuracy: 0.9241 - val_loss: 0.2680 - val_accuracy: 0.9256\n",
            "Epoch 5/10\n",
            "1875/1875 [==============================] - 2s 1ms/step - loss: 0.2633 - accuracy: 0.9275\n",
            "Epoch 6/10\n",
            "1875/1875 [==============================] - 3s 1ms/step - loss: 0.2475 - accuracy: 0.9317 - val_loss: 0.2719 - val_accuracy: 0.9247\n",
            "Epoch 7/10\n",
            "1875/1875 [==============================] - 2s 1ms/step - loss: 0.2575 - accuracy: 0.9290\n",
            "Epoch 8/10\n",
            "1875/1875 [==============================] - 3s 1ms/step - loss: 0.2568 - accuracy: 0.9285 - val_loss: 0.2639 - val_accuracy: 0.9277\n",
            "Epoch 9/10\n",
            "1875/1875 [==============================] - 2s 1ms/step - loss: 0.2482 - accuracy: 0.9321\n",
            "Epoch 10/10\n",
            "1875/1875 [==============================] - 2s 1ms/step - loss: 0.2485 - accuracy: 0.9305 - val_loss: 0.2647 - val_accuracy: 0.9271\n"
          ],
          "name": "stdout"
        }
      ]
    },
    {
      "cell_type": "markdown",
      "metadata": {
        "id": "1b4bdE8GM0G8"
      },
      "source": [
        "## Neural Network"
      ]
    },
    {
      "cell_type": "markdown",
      "metadata": {
        "id": "VvVmlZe5OSzy"
      },
      "source": [
        "**Task 12**\n",
        "\n",
        "Let's build a new model. This time a little more elaborate.\n",
        "\n",
        "- Add two hidden layers to the model with `16` and `64` neurons units, respectively. Use the `relu` activation function with those layers."
      ]
    },
    {
      "cell_type": "code",
      "metadata": {
        "id": "qU4J1Y3xOMc2"
      },
      "source": [
        "model_simple_nn = Sequential([\n",
        "  Input(shape=(28, 28, 1)),\n",
        "  Flatten(),\n",
        "  Dense(units=16, activation='relu'),\n",
        "  Dense(units=64, activation='relu'),\n",
        "  Dense(units=10, activation='softmax'),\n",
        "])"
      ],
      "execution_count": null,
      "outputs": []
    },
    {
      "cell_type": "code",
      "metadata": {
        "id": "Zvc-j0t_O_EY"
      },
      "source": [
        "model_simple_nn.compile(loss = 'categorical_crossentropy', optimizer = 'adam', metrics = ['accuracy'])"
      ],
      "execution_count": null,
      "outputs": []
    },
    {
      "cell_type": "markdown",
      "metadata": {
        "id": "wZyd_qOdPRJZ"
      },
      "source": [
        "**Task 13**\n",
        "\n",
        "Give us your insights\n",
        "\n",
        "- Why after adding two extra layers, with way more neurons than we had previously, we only increase the number of parameter by 2."
      ]
    },
    {
      "cell_type": "code",
      "metadata": {
        "colab": {
          "base_uri": "https://localhost:8080/"
        },
        "id": "AEKEaa_BPAdn",
        "outputId": "46f84e17-9659-4dd8-fd5a-aa38362e4bae"
      },
      "source": [
        "model_simple_nn.summary()"
      ],
      "execution_count": null,
      "outputs": [
        {
          "output_type": "stream",
          "text": [
            "Model: \"sequential_1\"\n",
            "_________________________________________________________________\n",
            "Layer (type)                 Output Shape              Param #   \n",
            "=================================================================\n",
            "flatten_1 (Flatten)          (None, 784)               0         \n",
            "_________________________________________________________________\n",
            "dense_1 (Dense)              (None, 16)                12560     \n",
            "_________________________________________________________________\n",
            "dense_2 (Dense)              (None, 64)                1088      \n",
            "_________________________________________________________________\n",
            "dense_3 (Dense)              (None, 10)                650       \n",
            "=================================================================\n",
            "Total params: 14,298\n",
            "Trainable params: 14,298\n",
            "Non-trainable params: 0\n",
            "_________________________________________________________________\n"
          ],
          "name": "stdout"
        }
      ]
    },
    {
      "cell_type": "code",
      "metadata": {
        "colab": {
          "base_uri": "https://localhost:8080/"
        },
        "id": "YFEUlC_BPEtV",
        "outputId": "2cc08609-82e6-45bd-8622-e6dd6690fab0"
      },
      "source": [
        "model_simple_nn.fit(X_train, Y_train, batch_size = 32, epochs = 10, validation_data=(X_test, Y_test), validation_freq=2, verbose = 1);"
      ],
      "execution_count": null,
      "outputs": [
        {
          "output_type": "stream",
          "text": [
            "Epoch 1/10\n",
            "1875/1875 [==============================] - 3s 1ms/step - loss: 0.6756 - accuracy: 0.7896\n",
            "Epoch 2/10\n",
            "1875/1875 [==============================] - 3s 2ms/step - loss: 0.2301 - accuracy: 0.9317 - val_loss: 0.2041 - val_accuracy: 0.9394\n",
            "Epoch 3/10\n",
            "1875/1875 [==============================] - 3s 1ms/step - loss: 0.1806 - accuracy: 0.9462\n",
            "Epoch 4/10\n",
            "1875/1875 [==============================] - 3s 2ms/step - loss: 0.1469 - accuracy: 0.9551 - val_loss: 0.1585 - val_accuracy: 0.9516\n",
            "Epoch 5/10\n",
            "1875/1875 [==============================] - 3s 1ms/step - loss: 0.1348 - accuracy: 0.9589\n",
            "Epoch 6/10\n",
            "1875/1875 [==============================] - 3s 2ms/step - loss: 0.1189 - accuracy: 0.9636 - val_loss: 0.1452 - val_accuracy: 0.9568\n",
            "Epoch 7/10\n",
            "1875/1875 [==============================] - 3s 1ms/step - loss: 0.1107 - accuracy: 0.9651\n",
            "Epoch 8/10\n",
            "1875/1875 [==============================] - 3s 2ms/step - loss: 0.1014 - accuracy: 0.9681 - val_loss: 0.1516 - val_accuracy: 0.9549\n",
            "Epoch 9/10\n",
            "1875/1875 [==============================] - 3s 1ms/step - loss: 0.0966 - accuracy: 0.9698\n",
            "Epoch 10/10\n",
            "1875/1875 [==============================] - 3s 2ms/step - loss: 0.0928 - accuracy: 0.9712 - val_loss: 0.1310 - val_accuracy: 0.9621\n"
          ],
          "name": "stdout"
        }
      ]
    },
    {
      "cell_type": "markdown",
      "metadata": {
        "id": "Pn83tIg-QL5b"
      },
      "source": [
        "**Task 14**\n",
        "\n",
        "Add a convolution layer to the neural network. Put this layer between the input and the flatten layers. Use 4 filters, and a kernel of size `(5, 5)` combined with the `relu` activation function."
      ]
    },
    {
      "cell_type": "code",
      "metadata": {
        "id": "tMU9YnO9P8iZ"
      },
      "source": [
        "model_1_layer_cnn = Sequential([\n",
        "  Input(shape=(28, 28, 1)),\n",
        "  Conv2D(filters=4, kernel_size=(5,5), activation=\"relu\"),\n",
        "  Flatten(),\n",
        "  Dense(units=16, activation='relu'),\n",
        "  Dense(units=64, activation='relu'),\n",
        "  Dense(units=10, activation='softmax'),\n",
        "])"
      ],
      "execution_count": null,
      "outputs": []
    },
    {
      "cell_type": "code",
      "metadata": {
        "id": "Vjd3sbbAQhhx"
      },
      "source": [
        "model_1_layer_cnn.compile(loss = 'categorical_crossentropy', optimizer = 'adam', metrics = ['accuracy'])"
      ],
      "execution_count": null,
      "outputs": []
    },
    {
      "cell_type": "markdown",
      "metadata": {
        "id": "AAj5lDJZRedJ"
      },
      "source": [
        "**Task 15**\n",
        "\n",
        "Give you opinion on the new number of parameters of the model. Try to explain the increasement in this number."
      ]
    },
    {
      "cell_type": "code",
      "metadata": {
        "colab": {
          "base_uri": "https://localhost:8080/"
        },
        "id": "mQA73MP7Qkui",
        "outputId": "9c19a6e8-a831-4acf-aed4-faffa6b4f6fd"
      },
      "source": [
        "model_1_layer_cnn.summary()"
      ],
      "execution_count": null,
      "outputs": [
        {
          "output_type": "stream",
          "text": [
            "Model: \"sequential_2\"\n",
            "_________________________________________________________________\n",
            "Layer (type)                 Output Shape              Param #   \n",
            "=================================================================\n",
            "conv2d (Conv2D)              (None, 24, 24, 4)         104       \n",
            "_________________________________________________________________\n",
            "flatten_2 (Flatten)          (None, 2304)              0         \n",
            "_________________________________________________________________\n",
            "dense_4 (Dense)              (None, 16)                36880     \n",
            "_________________________________________________________________\n",
            "dense_5 (Dense)              (None, 64)                1088      \n",
            "_________________________________________________________________\n",
            "dense_6 (Dense)              (None, 10)                650       \n",
            "=================================================================\n",
            "Total params: 38,722\n",
            "Trainable params: 38,722\n",
            "Non-trainable params: 0\n",
            "_________________________________________________________________\n"
          ],
          "name": "stdout"
        }
      ]
    },
    {
      "cell_type": "markdown",
      "metadata": {
        "id": "v6KrGjCnRQVw"
      },
      "source": [
        "Train the model for 2 epochs. Notice how long it takes."
      ]
    },
    {
      "cell_type": "code",
      "metadata": {
        "colab": {
          "base_uri": "https://localhost:8080/"
        },
        "id": "XoW59x2qQl2x",
        "outputId": "8bb81314-eb0e-474c-d5ad-283d514909e1"
      },
      "source": [
        "model_1_layer_cnn.fit(X_train, Y_train, batch_size = 32, epochs = 2, validation_data=(X_test, Y_test), validation_freq=2, verbose = 1);"
      ],
      "execution_count": null,
      "outputs": [
        {
          "output_type": "stream",
          "text": [
            "Epoch 1/2\n",
            "1875/1875 [==============================] - 18s 9ms/step - loss: 0.5460 - accuracy: 0.8346\n",
            "Epoch 2/2\n",
            "1875/1875 [==============================] - 18s 10ms/step - loss: 0.1228 - accuracy: 0.9624 - val_loss: 0.0868 - val_accuracy: 0.9717\n"
          ],
          "name": "stdout"
        }
      ]
    },
    {
      "cell_type": "markdown",
      "metadata": {
        "id": "Jj9ZqIcNRxND"
      },
      "source": [
        "**Task 16**"
      ]
    },
    {
      "cell_type": "markdown",
      "metadata": {
        "id": "txYJgTIISii-"
      },
      "source": [
        "Replicate the convolutional layer, adding two more."
      ]
    },
    {
      "cell_type": "code",
      "metadata": {
        "id": "3RYIvMFIRxNE"
      },
      "source": [
        "model_3_layer_cnn = Sequential([\n",
        "  Input(shape=(28, 28, 1)),\n",
        "  Conv2D(filters=4, kernel_size=(5,5), activation=\"relu\"),\n",
        "  Conv2D(filters=4, kernel_size=(5,5), activation=\"relu\"),\n",
        "  Conv2D(filters=4, kernel_size=(5,5), activation=\"relu\"),\n",
        "  Flatten(),\n",
        "  Dense(units=16, activation='relu'),\n",
        "  Dense(units=64, activation='relu'),\n",
        "  Dense(units=10, activation='softmax'),\n",
        "])"
      ],
      "execution_count": null,
      "outputs": []
    },
    {
      "cell_type": "code",
      "metadata": {
        "id": "J_HDmfSbRxNF"
      },
      "source": [
        "model_3_layer_cnn.compile(loss = 'categorical_crossentropy', optimizer = 'adam', metrics = ['accuracy'])"
      ],
      "execution_count": null,
      "outputs": []
    },
    {
      "cell_type": "markdown",
      "metadata": {
        "id": "gsoRekgDRxNF"
      },
      "source": [
        "**Task 17**\n",
        "\n",
        "Give you opinion on the new number of parameters of the model. Try to explain the drastic reduction in this number."
      ]
    },
    {
      "cell_type": "code",
      "metadata": {
        "colab": {
          "base_uri": "https://localhost:8080/"
        },
        "id": "_ABG_1PcRxNG",
        "outputId": "156341f7-1c90-43b1-b61e-c27c981c797a"
      },
      "source": [
        "model_3_layer_cnn.summary()"
      ],
      "execution_count": null,
      "outputs": [
        {
          "output_type": "stream",
          "text": [
            "Model: \"sequential_3\"\n",
            "_________________________________________________________________\n",
            "Layer (type)                 Output Shape              Param #   \n",
            "=================================================================\n",
            "conv2d_1 (Conv2D)            (None, 24, 24, 4)         104       \n",
            "_________________________________________________________________\n",
            "conv2d_2 (Conv2D)            (None, 20, 20, 4)         404       \n",
            "_________________________________________________________________\n",
            "conv2d_3 (Conv2D)            (None, 16, 16, 4)         404       \n",
            "_________________________________________________________________\n",
            "flatten_3 (Flatten)          (None, 1024)              0         \n",
            "_________________________________________________________________\n",
            "dense_7 (Dense)              (None, 16)                16400     \n",
            "_________________________________________________________________\n",
            "dense_8 (Dense)              (None, 64)                1088      \n",
            "_________________________________________________________________\n",
            "dense_9 (Dense)              (None, 10)                650       \n",
            "=================================================================\n",
            "Total params: 19,050\n",
            "Trainable params: 19,050\n",
            "Non-trainable params: 0\n",
            "_________________________________________________________________\n"
          ],
          "name": "stdout"
        }
      ]
    },
    {
      "cell_type": "markdown",
      "metadata": {
        "id": "3KWOCkKSRxNH"
      },
      "source": [
        "**Task 18**\n",
        "\n",
        "Train the model for 1 epochs. Notice how long it takes. Try to explain why it is taking a considerable different amout of time to run."
      ]
    },
    {
      "cell_type": "code",
      "metadata": {
        "colab": {
          "base_uri": "https://localhost:8080/"
        },
        "id": "Y0sPD1TpRxNH",
        "outputId": "ab761b4e-84b2-4db4-e31e-aeabf7c00cb1"
      },
      "source": [
        "model_3_layer_cnn.fit(X_train, Y_train, batch_size = 32, epochs = 1, validation_data=(X_test, Y_test), validation_freq=2, verbose = 1);"
      ],
      "execution_count": null,
      "outputs": [
        {
          "output_type": "stream",
          "text": [
            " 915/1875 [=============>................] - ETA: 25s - loss: 0.1228 - accuracy: 0.9629"
          ],
          "name": "stdout"
        }
      ]
    },
    {
      "cell_type": "code",
      "metadata": {
        "id": "mVDPHjAuUOwB"
      },
      "source": [
        ""
      ],
      "execution_count": null,
      "outputs": []
    }
  ]
}